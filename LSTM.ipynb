{
 "cells": [
  {
   "cell_type": "code",
   "execution_count": 12,
   "id": "5da06227",
   "metadata": {},
   "outputs": [
    {
     "name": "stdout",
     "output_type": "stream",
     "text": [
      "['▁This', '▁is', '▁a', '▁sa', 'mp', 'le', '▁sentence', '▁to', '▁to', 'ken', 'ize', '.']\n",
      "[102, 22, 14, 1693, 2265, 421, 7627, 6, 6, 4296, 3055, 3]\n"
     ]
    }
   ],
   "source": [
    "import numpy as np\n",
    "import matplotlib.pyplot as plt\n",
    "from typing import Tuple, List\n",
    "from tqdm import tqdm\n",
    "import os\n",
    "import json\n",
    "import random\n",
    "\n",
    "import sentencepiece as spm\n",
    "\n",
    "sp = spm.SentencePieceProcessor()\n",
    "sp.load('spm_model.model')\n",
    "\n",
    "text = \"This is a sample sentence to tokenize.\"\n",
    "tokens = sp.encode_as_pieces(text)\n",
    "print(tokens)\n",
    "print(sp.encode_as_ids(text))"
   ]
  },
  {
   "cell_type": "code",
   "execution_count": 16,
   "id": "edb41a33",
   "metadata": {},
   "outputs": [
    {
     "name": "stderr",
     "output_type": "stream",
     "text": [
      "100%|██████████| 3332/3332 [00:00<00:00, 10003.21it/s]\n"
     ]
    },
    {
     "name": "stdout",
     "output_type": "stream",
     "text": [
      "['TREAT VERY CONFIDENTIAL & URGENT RESPONSES. From The Desk Of jerry kabore(Esq).The Head Of File Department,African Development Bank A.D.BOuagadougou Burkina-Faso West Africa.Phone: 00226-7885 75 97.\\xa0\\xa0\\xa0\\xa0\\xa0\\xa0\\xa0\\xa0\\xa0 reply me with this email address jerry _kabore01@yahoo.com PLANE CRASH WEB SITE...http://news.bbc.co.uk/1/hi/world/europe/859479.stm\\xa0\\xa0\\xa0\\xa0\\xa0\\xa0\\xa0\\xa0\\xa0\\xa0\\xa0\\xa0\\xa0\\xa0\\xa0\\xa0\\xa0\\xa0\\xa0\\xa0\\xa0 \\xa0 (\"REMITTANCE OF $15 MILLION U.S.A DOLLARS\\xa0\\xa0\\xa0\\xa0\\xa0\\xa0\\xa0\\xa0\\xa0\\xa0\\xa0\\xa0\\xa0\\xa0\\xa0\\xa0\\xa0\\xa0\\xa0\\xa0\\xa0\\xa0\\xa0\\xa0\\xa0\\xa0\\xa0\\xa0\\xa0\\xa0\\xa0\\xa0\\xa0\\xa0\\xa0\\xa0\\xa0\\xa0 \\xa0CONFIDENTIAL IS THE CASE\")Compliment Of The Season, On a very good day. I am (jerry kabore\\xa0Esq),The Head of file Department in African developent bank (ADB).I got your contact from Yahoo tourist search.When i was searching for a foreign partner i assured of your capability and reliability to champion this businees opportunity when i prayed to God or   Allah about you.In my department we discovered an abandoned sum of $ 15 million U.S.A dollars ( fifteen million U.S.A dollars) . In an account that belongs to one of our foreign customer who died along with his entire family in (Monday 31st July 2000) in a plane crash. Since we got information about his death, we have been expecting his next of kin to come over and claim his money because we cannot release it unless somebody applies for it as next of kin or relation to the deceased as indicated in our banking guidelines, but unfortunately we learnt that all his supposed next of kin or relation died alongside with him at the plane crash leaving nobody behind for the claim. It is therefore upon this discovery that I and one official in my department now decided to make this businness proposal to you and release the money to you as the next of kin or relation to the deceased for safety and subsequent disbursement since nobody is coming for it   and we don’t want this money to go into the bank treasury as unclaimed bill.The Banking law and guideline here stipulates that if such money remained unclamed after five years, the money will be transfered into the Bank treasury as unclaimed fund. The request of foreigner as next of kin in this business is occasioned by the fact that the customer was a foreigner, and a Burkinabe cannot stand as next of kin to a foreigner. We agree that 30 % of this money will be for you as foreign partner, in respect to the provision of a foreign account, 10 % will be set aside for expenses incured during the business and 60 % would be for me and my woman colleague. There after i will visit your country for disbursement according to the percentages indicated. Therefore to enable the immediate trnansfer of this fund to you as arranged, you must apply first to the bank as relations or next of kin of the deceased indicating your bank name, your bank account number, your private   telephone and fax number for easy and effective communication and location where the money will be remitted.Upon receipt of your reply, I will send to you by fax or email the text of the application I will not fail to bring to your notice that this transaction is hitch free and that you should not entertain any atom of fear as all required arrangements have been made for thetransfer. You should contact me on my number 00226-7885 75 97, immediately as soon as you receive this letter. Trusting to hear from you immediately. Your’s faithfully,\\xa0jerry kabore\\xa0(Esq.)POST SCRITUM:You have to keep everything secret as to enable the transfer to move very smoothly in to the account you will prove to the bank.As you finished reading this letter call me immediately so that we discuss very well over this business.'\n",
      " '. TEDDY WILLIAMS & ASSOCIATES   \\nAddress:33 Bedford Row                    \\nLondon WC1R 4JH, England  \\nPARTNER MANAGING\\nTEDDY WILLIAMS & ASSOCIATES\\nLONDON - UK.\\n \\nAttention: \\n \\nOn behalf of the Trustees and Executor of the estate of Late Engr. \\nJürgen Krügger. I once again try to notify you as my earlier letter was \\nreturned undelivered. I hereby attempt to reach you again by this same \\nemail address on the WILL. I wish to notify you  that late Engr. Jürgen\\nKrügger made you a beneficiary to his WILL. He left the sum of Thirty \\nMillion, One Hundred Thousand Dollars (USD$30, 100.000.00) to you in the \\nCodicil and last testament to his WILL.\\n \\nThis may sound strange and unbelievable to you, but it is real and \\ntrue. Being a widely traveled man, he must have been in contact with you in \\nthe past or simply you were nominated to him by one of his numerous \\nfriends abroad who wished you good. Engr. Jürgen Krügger until his\\ndeath was a member of the Helicopter Society and the Institute of \\nElectronic &  Electrical Engineers. He was a very dedicated Christian who \\nloved to give out. His great philanthropy earned him numerous awards \\nduring his life time. Late Engr. Jürgen Krügger died on the 13th day of December, \\n2004 at the age  of 80 years, and his WILL is now ready for execution.\\nAccording to him this money is to support your humanitarian activities \\nand to help the poor and the needy in our society. Please if I reach \\nyou as I am hopeful, endeavor to get back to me as soon as possible to\\nenable me conclude my job. I hope to hear from you in no distant time. \\nNote: You are advise to contact me with my personal email address:  \\n \\nYours in Service,\\nPlease get to me via my private Email: tdy_williams@yahoo.co.uk\\nBARRISTER TEDDY WILLIAMS ESQ\\n \\n________________________________________________________________________\\nCheck out the new free AOL Email -- 2GB of storage and industry-leading spam and email virus protection.'\n",
      " 'Greeting from Dubai.. Greetings from Dubai,\\n \\nThis letter must come to you as a big surprise, but I believe it is only a day that people meet and become great friends and business partners.  I am Mr. Ali Raza Khan, currently Head of Coporate affairs with a reputable bank here in U. A. E.  I write you this proposal in good faith, believing that I can trust you with the information I am about to reveal to you.\\n \\nI have an urgent and very confidential business proposition for you. On November 6, 2000, an Iraqi Foreign  Oil consultant/contractor with the CHEVRON PETROLEUM CORPORATION, MR. jack farrer powell  made a (Fixed deposit) for 36 calendar months, valued at US$17,500,000.00 (Seventeen Million Five hundred Thousand Dollars only) in my \\nbank and I happen to be his account officer before I was moved to my present position recently. Upon maturity in 2003,as his account officer and as well the bank manger, it is my duty to notify him on the maturity date so I sent a routine notification to his forwarding address but the letter was returned undelivered. \\n \\nAfter sometime, I tried sending back the letter,but it was again returned and finally I discovered from his contract employers, Chevron Petroleum Corporation that Mr.jack farrer powell  died as a result of torture in the hand of Saddam Hussein (former Iraqi President) during one of his trips to his country Iraq, as he was accused of leaking information to the Americans. On further investigation, I discovered that Mr. jack farrer powell  family wife and two sons died during the Gulf War in Iraq and was the reason why he did not declare any next of kin or relation in all his \\nofficial documents, including his Bank Deposit paperwork in my Bank and did not leave any WILL.This sum of US$17,500,000.00 have been floating and placed under dormant/unserviceable account by my bank management since no one have heard from the owner since 2003.I wish to let you know that all the investigation I have made so far, my bank \\nmanagement is not aware of it, I am the only one that have the information.\\n \\nWith the recent change of government in my country and with their efforts to support the United Nations in checkmating terrorism aid in the U. A. E.  By end of this year, the government will pass a new financial control law which will give the government authority to interrogate account owners of above $5,000,000.00 to explain the source of the funds, making sure it is not for terrorism support.  If I do not move this money out of the country immediately, by end of the year the government will definitely confiscate the money, because my bank cannot provide the account owner to explain the source of the money.  \\n \\nI cannot directly transfer out this money without the help of a foreigner and that is why I am contacting you for an assistance.  As the Account Officer to late jack farrer powell , coupled with my present position and status in the bank as Head of Retail Banking Groug , I have the power to influence the release of the funds to any foreigner that comes up as the next of kin to the account, with the correct information concerning the account, which I shall give you.  All documents to enable you claim this fund will be carefully worked out and there is practically no risk involved, the transaction will be executed under a legitimate arrangement that \\nwill protect you from any breach of law, beside U. A. E is porous and anything goes.\\n \\nIf you accept to work with me, I want you to state how you wish us to share the funds in percentage, so that both parties will be satisfied. If you are interested, contact me as soon as you receive this message  so we can go over the details.  \\nThanking you in advance and may God bless you. Please, treat with utmost confidentiality . I shall send you copy of his last statement of account issued to Al Nasser when the deposit was made for your perusal.  I wait your urgent response soon. \\n  \\n \\nRegards,     \\nMr. Ali Raza Khan.'\n",
      " \"IMPERATIVE AND PRIVATE. FROM: MRS. ELIZABETH OGALI\\nDEPARTMENT OF PETROLEUM RESOURCES\\n7 KOFO ABAYOMI STREET, VICTORIA ISLAND\\nLAGOS - NIGERIA.\\n\\nIMPERATIVE AND PRIVATE\\n\\nThis letter may come to you as a surprise but it was borne out of my sincere\\ndesire to share a mutual business relationship with you. First, your strictest\\nconfidence in this transaction is highly solicited. This is by virtue of\\nits nature as being utterly confidential and top secret.\\n\\nWe are top government official with a statutory corporation and members\\nof an ad hoc committee set up by the Federal Government of Nigeria to review\\ncontract awarded by past administration. In the course of identifying, scrutinizing\\nand recommending for the payment of all valid contract executed, we discovered\\na huge sum of money amounting to USD41.5M (Forty One Million five Hundred\\nThousand US Dollars) on grossly over invoiced contract already awarded and\\nexecuted for the Department of Petroleum Resources. Having Cleaned the 'AUGEAN\\nSTABLE' we intend to transfer the balance of USD41.5M presently floating\\nin our apex bank of Nigeria to our own benefit and advantage.\\n\\nHowever, we request for your unwavering assistance in this regard because\\nas civil servants we are prohibited under the civil service code of conduct\\nbureau from operating a foreign account or running a foreign company unless\\nafter retirement in this vain we want you to front for us as partner to\\nenable us lodge the funds speedily into your account. Bear in mind that\\nno risk is attached to this project and all logistics are in place and modalities\\nworked out for the smooth conclusion within a stipulated time. This is in\\naccordance with the fact that you must never betray the trust already reposed\\non you. We have decided to compensate you with 30% of the total sum for\\nyour support, 60% for us while 10% for miscellaneous expenses (local and\\ninternational).\\n\\nPlease, provide your confidential phone and fax number to enable my boss\\n(Dr. Robert Swafa) contact you for further discussion on this matter to\\nhis private email address: (r_swafa1@lycos.com)\\n\\nPlease advise in your return e-mail if any time is confidential enough to\\ncall you.\\n\\nLooking forward to hearing from you.\\n\\nBest regards,\\n\\nMrs Elizabeth Ogali\\n(Secretary of the Committe)\\n\\n__________________________________________________________________\\nTiscali Adsl 640 Free: fino al 15 novembre i consumi sono GRATIS!\\nSe sottoscrivi un'Adsl Free 640 entro il 14 ottobre avrai gratis tutti\\ni consumi fino al 15/11/04 compreso! In piu' sono gratis il modem\\nin comodato e l'attivazione. Cosa aspetti? Prima attivi, piu' risparmi!\\nhttp://abbonati.tiscali.it/adsl/\"\n",
      " \"Mrs Aicha Ahmed, TREAT VERY URGENT AND CONFIDENTIAL. CALL ME 0022676743842.. My Dear,\\n\\nI am Mrs Aicha Ahmed, the manager of bill and exchange at the foreign \\nremittance department Bank Of Africa.\\n\\nIn my department we discoveredan abandoned sum of US$14.5M (fourteen million \\nfive hundred thousand US dollars) in an account that belongs to one of our \\nforeign customer who died along with his family in the 2003 in a plane \\ncrash.\\n\\nSince we got information about his death, we have been expecting his next of \\nkin to come over and claim his money because we cannot release it unless \\nsome body applies for it as next of kin or relation to the deceased as \\nindicated in our banking guide lines and laws but unfortunately we learnt\\nthat all his supposed next of kin or relation died alongside with him at the \\nplane crash leaving nobody behindfor the claim.\\n\\nIt is therefore upon this discovery that I now decided to make this business \\nproposal to you and release the money to you as the next of kin or relation \\nto the deceased for safety and subsequent disbursement since nobody is \\ncoming for it and we don't want this money to go into the bank\\ntreasury as unclaimed bill.\\n\\nThe banking law and guidelines here stipulates that if such money remained \\nunclaimed after four years, the money will be transferred into the bank \\ntreasury as unclaimed fund.\\n\\nThe request of foreigner as next of kin in this business is occasioned by \\nthe fact that the customer was a foreigner and a Burkina cannot stand as \\nnext of kin to a foreigner.\\n\\nI agree that 45% of this money will be for you as respect to the provision \\nof a foreign account , 5% will be set aside for expenses incurred during the \\nbusiness and 50% be for me.\\n\\nThereafter, I will visit your country fordisbursement according to the \\npercentage indicated. Therefore, to enable the immediate transfer of this \\nfund to you as arranged, you must apply\\nfirst to the bank as relation or next of kin of the deceased indicating your \\nbank name, your bank account number, your private telephone and fax number \\nfor easy and effective communication and location where the money will be \\ntransfer.\\n\\nUpon receipt of your reply, I will send to you by fax or email the text of \\nthe application. I will not fail to bring to your notice that this \\ntransaction is hitch-free and that you should not entertain any atom of fear \\nas all required arrangements have been made for the transfer.\\n\\nYou should contact me immediately as soon as you receive this mail,Trusting \\nto hear from you immediately.\\n\\nYours faithfully.\\n\\nMrs Aicha Ahmed.\\n\\nN/B: CALL ME AS SOON AS YOU RECEIVE THIS MAIL OR\\nEMAIL Me.\\nTEL:0022676743842.\\n\\n_________________________________________________________________\\nMSN Messenger : discutez en direct avec vos amis ! \\nhttp://www.msn.fr/msger/default.asp\"\n",
      " \"I NEED YOUR URGENT ASSISTANCE. Dear Sir,  In order to transfer out (USD 45 MILLION) Forty Five million United  States Dollars) from BANK OF AFRICA (BOA): I have the courage to ask  for your assistance to handle this important and confidential business  believing that you will never let me down either now or in future. I am  MR. BENJAMINE S.ADAM, the OPERATIONAL MANAGER of BANK OF AFRICA, (BOA)  BENIN.  There is an account opened in this bank in 1989 and since 1996 nobody  has operated on this account again. After going through some old files  in the records, I discovered that if I do not remit this money out  urgently it will be forfeited for nothing.  The owner of this account is Mr.PAULTON ALLEN, a foreigner, and a miner at D&D INVESMENT CO, a  geologist by profession and he died since 1996.  No other person knows about this account or any thing concerning it,  the account has no other beneficiary and my investigation proved to me  as well that this company does not know anything about this account and  the amount involved is (USD 45M).  I want to transfer the [USD 45M] Forty Five million United States  Dollars into a safe foreigners account abroad, but I don't know any  foreigner.  I am only contacting you as a foreigner because this money  can not be approved to a local bank here, but can only be approved to any  foreign account because the money is in us dollars and the former owner  of the account is Mr.PAULTON ALLEN a foreigner too.  I know that this message will come to you as a surprise as we dont  know our selves before, but be sure that it is real and a genuine  business.  I only got your contact address from my secretary who  operates computer with believe in God that you will never let me down in this  business.You are the only person that I have contacted in this  business, so please reply urgently so that I will inform you the next step to take.  Send also your private telephone and fax numbers including the full  details of the account to be used for the deposit. I want us to meet  face to face or sign a binding agreement to bind us together so that you can  receive this money into a foreign account or any account of your choice  where the fund will be safe.  I will fly to your country for withdrawal, sharing and other  investments. I am contacting you because of the need to involve a  foreigner with foreign account and to act as a foreign beneficiary.  I need your full co-operation to make this work fine because the  management is ready to approve this payment to any foreigner who has  correct information of this account which I will give to you later immediately,  if you are able and with capability to handle such amount in strict  confidence and trust according to my instructions and advice for our  mutual benefit because this opportunity will never come again in my  life.  I need truthful person in this business because I don't want to make  mistake, I need your strong assurance and trust. With my position now  in the office I can transfer this money to any foreigner's reliable  account, which you can provide with assurance that this money will be  intact pending my physical arrival in your country for sharing.  I will destroy all documents of transaction immediately we receive this  money leaving no trace to any place. You can also come to discuss with  me face to face after which I will make this remittance in your  presence and two of us will fly to your country so at least two days  ahead of the money going into the account.  I will apply for annual leave to get visa immediately I hear from you  that you are ready to act and receive this fund in your account.  I will use my position and influence to effect legal approvals and  onward transfer of this money to your account with appropriate  clearance forms of the ministries and foreign exchange departments.  At the conclusion of this business, you will be given 35% of the total  amount, 60% will be for me, while 5% will be for expenses both parties  might have incurred during the process of transferring.  Please bear in mind that this fund is not  a looted or stolen money but rather a hard earned money generated. Pls if you are willing to work with me, kindly forward to me your  personal detail to enable me reach you, this includes the following: 1. Your full names 2. Your residential address 3. Your bank account informations 4. Your occupation\\xa0  5. Your telephone and fax numbers 6. Including more Preamble about yourself (marital status) \\xa0\\xa0  \\xa0  Below is my alternative Contacts: \\xa0 E-MAIL: ben_salifou@yahoo.com  \\xa0\\xa0  PHONE# 229-98-177798 COTONOU BENIN REPUBLIC. \\xa0 I look forward to your earliest reply.  Yours Truly,  MR. BENJAMINE SALIFOU ADAM \\xa0 Msg sent via eMailWave - http://emailwave.com/ - Get your own FREE account and start receiving your eMail.\"\n",
      " 'A CALL FOR HELP. FROM RITA GUEI \\nAbidjan cote D`Ivoire\\nWest Africa.\\n   \\n  Dearest One, \\n   \\n  I am the first duaghter of an ex military/ex president been an opposition party to the present Government of COTE D`IVOIRE. On the 19th sept 2002 my father/mother including every members of our family was murdered by the unknown REBELS during the time they attack our house by shooting and looting, even this is one of the things that contributed to the present crisis in our country today. \\n   \\n  God so kind I was not in town when the incident occurred, the plans of the REBELS is to kill every members of our family so that no one will rise up to revenge as time goes on. I am in our country without any one knowing although I am on hiding so that the unknown REBELS will not get to me and kill me like they killed all the members of our family. Why I still stay back in our country is to transfer the $18.5mUSD which my late father deposited in the custody.\\n   \\n  he deposited the fund as a family treasure containing AFRICAN ART WORK FOR EXPORT for security reasons, as security company does not operate as bank where some one can deposit his/her money openly. \\nBefore the death of my father he gave me the covering documents of the fund deposited in the security company, as I am his first duaghter and he so much loved me that was why he made me the beneficiary of the two iron trunk boxes containing the $18.5mUSD. Right now I wish to transfer this fund to you so that you will assist me to invest the money into any viable sector in your country, also you will help me to join you in your country for me to start up a new life with you there immediately the fund gets to you. since I am no longer safe as far as Africa is concern at the moment, I wanted to transfer the fund before leaving the country because this fund is my last hope and the only hope I have now. \\n  Before I even pick you to assist me I have prayed and slept over it asking God to provide for me a Godly minded person that will assist me in this transaction. I will give you more details of the transaction in my next mail. \\nAwaiting to hear from you,\\n  Thanks and God bless you. \\nRita Guei. \\n\\n\\n\\n\\t\\t\\n---------------------------------\\n Nouveau : téléphonez moins cher avec Yahoo! Messenger. Appelez le monde entier à partir de 0,012 \\x80/minute ! Téléchargez la version beta.\\n\\t\\t\\n---------------------------------\\n Nouveau : téléphonez moins cher avec Yahoo! Messenger. Appelez le monde entier à partir de 0,012 \\x80/minute ! Téléchargez la version beta.'\n",
      " 'REPLY URGENT AND CALL ME.. FROM THE DESK OF : MR MOHAMAT ALI,\\nAUDITING AND ACCOUNTING SECTION,\\nAFRICAN DEVLOPMENT BANK ( A.D.B )\\nOUAGADOUGOU BURKINA-FASO,WEST AFRICA.\\n\\n\\nAttention Please,\\n\\n\\nI am Mr Mohamat Ali, the Director in charge of Auditing and Accounting \\nsection of AFRICAN DEVELOPMENT BANK (A.D.B) Ouagadougou Burkina-faso West \\nAfrica. With due respect and regard. I have decided to contact you on a \\nbusiness transaction that will be very beneficial to both of us at the end \\nof the transaction .\\n\\n\\nDuring our investigation and auditing in this bank, my department came \\nacross a very huge sum of money belonging to a deceased person who died in a \\nplane crash and the fund has been dormant in his account with this Bank \\nwithout any claim of the fund in our custody either from his family or \\nrelation before our discovery to this development.\\n\\n\\nThe said amount was U.S 7.5M (Seven Million,Five Hundred Thousand United \\nStates Dollars). As it may interest you to know, I got your impressive \\ninformation through internet directory . Meanwhile all the whole arrangement \\nto put claim over this fund as the bonafide next of kin to the deceased, get \\nthe required approval and transfer this money to a foreign account has been \\nput in place and directives and needed information will be relayed to you as \\nsoon as you indicate your interest and willingness to assist, and also \\nbenefit your self to this great business opportunity.\\n\\n\\nIn fact I could have done this deal alone but because of my position in this \\ncountry as a civil servant(A Banker),we are not allowed to operate a foreign \\naccount and would eventually raise an eye brow on my side during the time of \\ntransfer because I work in this bank. This is the actual reason why it will \\nrequire a second party or fellow who will forward claims as the next of kin \\nwith affidavit of trust of oath to the Bank and also present a foreign \\naccount where he will need the money to be re-transferred into on his \\nrequest as it may be after due verification and clarification by the \\ncorrespondent branch of the bank where the whole money will be remitted from \\nto your own designation bank account.\\n\\n\\nI will not fail to inform you that this transaction is 100% risk free.On \\nsmooth conclusion of this transaction, you will be entitled to 30% of the \\ntotal sum as gratification, while 10% will be set aside to take care of \\nexpenses that may arise during the time of transfer and also telephone and \\ninternet bills, while 60% will be for me and my coleagues. Please, you have \\nbeen adviced to keep \"Top Secret\" as I am still in service and intend to \\nretire from service after we conclude this deal with you.\\n\\n\\nI will be monitoring the whole situation here in this bank until you confirm \\nthe money in your account and ask me to come down to your country for \\nsubsequent sharing of the fund according to percentages previously indicated \\nand further investment, either in your country or any country you advice us \\nto invest in. All other necessary vital nformation will be sent to you when \\nI hear from you.\\n\\n\\nI look forward to receive your phone and fax numbers for easy communication,\\n\\n\\nYours faithfully,\\n\\n\\nMr Mohamat Ali.\\n\\nMOBILE: ( 00226 78 82 97 88 )\\n\\n_________________________________________________________________\\nDon\\'t just search. Find. Check out the new MSN Search! \\nhttp://search.msn.com/'\n",
      " 'Inquiry!. Dear Sir/Madam,\\n\\nI am conducting a standard process investigation on behalf of our Bank an\\ninternational banking conglomerate. This investigation involves a client\\nand also the circumstances surrounding investments made by this client\\nwith our\\nBank.\\n\\nOur client died intestate and nominated no successor in title over the\\ninvestments made with our bank. The essence of this communication with you\\nis to request you provide us information/comment on this issue so that I\\ncan\\nuse my position in the bank to establish your eligibility to assume status\\nof successor in title to the deceased.\\n\\nYou must appreciate that we are constrained from providing you with more\\ndetailed information at this point.\\n\\nPlease respond to this mail as soon as possible to afford us the\\nopportunity to explain further details to you.\\n\\nBest Regards,\\nPatrick Berger.'\n",
      " \"Attn:My Dear Friend,. Attn:My Dear Friend,\\n \\nWith God mercy, I eventually concluded the deal with another foreigner fellow.\\n \\nIn respective of the fact that our earlier collaboration in the project did not quite work out then due to circumstances which wasn't your fault nor mine,I quite appeciated your support to me in pursuit of this course in the past.\\n \\nFor this singular reason, I provided the sum of U.S$900,000.00 in certified bank draft for you and left it with my attorney in Benin for you shortly before I jetted out of the country with my wife and children to pursue investment with my share of the proceeds.\\n \\nIn order to get this amount released to you as per my standing instruction, do get in touch with my attorney in person of BARR.MICHAEL RHODES on his private email address ( mrhodes30@myway.com ) \\n \\nUpon receipt of this allotted sum from my attortney, do notify me in writing because it is my wish that you enjoy the fruit of our labour as am doing at this moment with my family.\\n \\nI will be expecting your earliest response confirming you have received and cashed the draft thus strengthening our existing relationship for more fruitful cooperation in future.\\n\\nTill then,I remain;\\n\\nYours Sincerely,\\n\\nMr.Aminu Martins\\n\\n\\n**************\\nRegistrati ad Alice Basic e scarica Alice Messenger, \\nil nuovo instant messenger che ti fa chattare GRATIS con i tuoi amici!\\nPer maggiori informazioni vai su: \\nhttp://adsl.alice.it/servizi/alicebasic.html?pmk=psmail_foot01\"\n",
      " 'urgent. Attn:\\n\\n Sir,\\n\\nI am Prince Danladi A. Kabila Jr, Cousin to the late\\npresident of the Democratic Republic of Congo (DRC)\\nformerly known as Zaire, who was assassinated in\\nJanuary 2001 by his bodyguard. I came across your\\ncontact via a missionary that visited our asylum Camp,\\nbut I did not disclose the nature of this transaction\\nto her because of the secrecy involved.\\n\\nAccordingly, I will like to inform you that this is\\nnote a bragging because it will look too cheap and\\nsurprised to you from the way I have contacting you to\\nassist me in making this transaction a success.  \\n\\nDue to the war raged in our Republic, the late\\nPresident, Laurent Kabila was using me, through\\ndiplomatic means, to send money out of the Republic\\nbecause of the fear that a coup de tat may take place\\nat any time.\\n\\nI did this on two consecutive occasions, on the third\\ntrip, myself and some aides decided to divert the\\ndelivery, which amounted to US$30Million (Thirty\\nMillion United states Dollars).\\n\\nI am presently in exile, because of exactly what\\nhappened to my late cousin, former President Laurent\\nDesire Kabila, May his soul rest in peace.\\n\\nI have since deposited the money into a Security\\nCompany in one of the European Country that will be\\ndisclosed to you upon your acceptance to assist me,\\nbut the real content of the deposited box containing\\nthis fund was not disclosed to them for Security\\nreason.\\n\\nDue to shortcomings and restrictions prevailing in\\nhere regarding refugee policy, I came up with the idea\\nof foreign investment for the fund, with the\\npossibility of a joint stock venture with a foreign\\npartner, outside the continent of Africa.\\n\\nMy main aim and objective of contacting you is to ask\\nfor your assistance in retrieve the said fund from the\\nprivate firm where it was deposited and transfer it\\ninto your private or company&#8217;s account in your\\ncountry.\\n\\nThere is no risk involved, as this is confidential. I\\nhave decided to let you have 25% of the total amount\\nof the fund, 5% is for expenses that will be incurred\\nduring the transaction, and the remaining 70% of the\\nfund is for myself, which I would like to invest in\\nyour country.\\n\\nIf you can be trusted and interested, please contact\\nme on the below e-mail as soon as\\npossible:private_danladi@yahoo.com.au\\n\\nOn the receipt of your acceptance mail, I shall give\\nyou more clarification on the modalities needed for\\nthe successful completion of this transaction.\\n\\nBest regards,\\n\\nPrince Danladi A. Kabila Jr.\\n\\n\\n\\n\\t\\t\\n___________________________________________________________ \\nLike being first? Check out the all-new Yahoo! Mail today.\\nhttp://uk.docs.yahoo.com/nowyoucan.html'\n",
      " \"REPLY BACK URGENTLY PLEASE!!!. FROM THE DESK OF MRS. AICHA AHMED\\nTHE BILL AND EXCHANGE MANAGER\\nAUDITING AND ACCOUNTING UNIT.\\nFOREIGN REMITTANCE DEPT.\\nBANK OF AFRICA (BOA)ANNEX\\nOUAGA-BURKINA FASO.\\n\\n\\nI am mrs Aicha  Ahmed, the manager in charge of auditing and accounting unit \\nforeign remittance department of bank of africa (BOA)ouaga-burkina faso in \\nwest Africa.\\nWith due respect and regards I have decided to contact you on a business \\ntransaction that will be very beneficial to both of us at the end of the \\ntransaction ,During our investigation and auditing in the bank, in my \\ndepartment I came across a very huge sum of money belonging to a deceased \\nperson, a foriegner who died in a plane crash and the fund has been dormant \\nin his account with the bank without any claim of the fund in our custody \\neither from his family or relation before my discovery to this \\ndevelopment,Although personally, I kept this information secrete within \\nmyself and  to enable the whole plans and idea be profitable and uccessful \\nduring the time of execution.\\n\\nThe amount involved is (us$7,500.000) (Seven Million Five Hundred Thousand \\nUnited State Dollars ). Meanwhile, all the whole arrangement and directives \\nneeded to put claim over this fund as the next of kin to the deceased, Upon \\nyour acceptance all the information will be forward to you as soon as you \\nindicate your interest and willingness to assist me and also benefit your \\nself to this great business opportunity,In fact, I could have done this deal \\nalone but because of my position in this country as a civil servant,we are \\nnot allowed to operate a foriegn account and would eventually raise an eye \\nbrow on my side during the time of transfer because I work in this bank, \\nthis is the actual reason why it will require a second party or fellow who \\nwill forward claims as the next of kin with affidavit of trust of Oath to \\nthe bank and also present a foriegn account where you will need the said \\nfund to be transferred into, after due verification and clarification to \\ndesignated bank account,I will not fail to inform you that this transaction \\nis 100% risk free, On smooth conclusion of this transaction, you will be \\nentitled to 40% of the total sum as ratification, while 10% will be set \\naside to take care of expenses that may arise during the time of transfer \\nsuch as telephone bills etc,While 50% will be for me.\\n\\n\\nPlease you have been adviced to keep top secret as I am still in service and \\nintend to retire from service after I conclude this deal with you, I will be \\nmonitoring the whole situation here in the bank until you confirm the money \\nin your account and ask me to come down there for subsequent shearing of the \\nfund according to percentages previously indicated and further \\ninvestment,either in your country or any other country you may advice me to \\ninvest in.\\nAll other necessary information will be sent to you when I hear from you, I \\nsuggest you get back to me as soon as possible, stating your wish in this \\ndeal.\\n\\nTrusting to receive your urgent reply through my alternative Email \\n:mrs_aicha9@yahoo.fr\\nYour's Sincerely\\nmrs Aicha Ahmed\\n\\n_________________________________________________________________\\nMSN Messenger : discutez en direct avec vos amis ! \\nhttp://www.msn.fr/msger/default.asp\"\n",
      " \"Confidential and urgent. 恝  玲恬  퓸求! 見玲念  玲:nath_sochimapbci@yahoo.co.kr\\n\\n>From Desk:Mr Sochima Nathanael\\n\\nOffice:Audit & Acct Unit\\n\\nPlot 23 Avenue Joseph Anoma.\\n\\nPlateau Abidjan - Cote D' Ivoire.\\n\\nSubject:(Urgent& Confidential)\\n\\n(Transfer of $21,000.000.00 USD)\\n\\n(TWENTY ONE MILLION DOLLARS)\\n\\n\\nAtten:President/Director\\n\\n\\nWe want to transfer to overseas account $21,000. 000.00 USD)and twenty one million United States Dollars,from one of the Famous Bank here Abidjan,the capital of Cote d'Ivoire in Africa(the name of the bank withheld for security reason),I want to ask you to quietly look for a reliable and honest person who will be capable and fit to provide either an existing bank account or to set up a new bank a/c immediately to receive this money,even an empty a/c can serve to receive this money,as long as you will remain honest to me till the end for this important business trusting in you and believing in God that you will never let me down either now or in future.I am Mr Sochima Nathanael,the auditor general of one of the Famous Bank here ABIDJAN(Capital of Cote d'Ivoire),during the course of our auditing,I discovered a floating funds in an account opened in the bank in 1999 and since 2000 nobody has operated on this account again,after going through some old files in the records I discovered that the owner of the account died without a[heir]hence the money is floating and if I do not remit this money out urgently it will be forfeited for nothing.The owner of this account is Mr.Allan.P.Wassersug,a foreigner,and an industrialist,and he died,since on monday 31 July, 2000,and no other person knows about this account or any thing concerning it,the account has no other beneficiary and my investigation proved to me as well that,Allan P. Wassersug until his death was the CEO/ Director,P Wassersug shipping company[plc]cCote d'Ivore.We will start the first transfer with ten million[$10,000.000]upon successful transaction without any disappoint from your side,we shall re-apply for the payment of the remaining rest amount to your account.The amount involved is (USD21M) twenty one million United States Dollars only.I want to first transfer $10,000.000 [ten million United States Dollar] from this money into a safe foreigners account abroad before the rest but I don't know any foreigner,I am only contacting you as a foreigner because thi\\ns money can not be approved to a local person here,without valid international foreign passport,but can only be approved to any foreigner with valid international passport or drivers license and foreign a/c because the money is in US dollars and the former owner of the a/c Mr.Allan P.Wassersug is a foreigner too,and the money can only be approved into a foreign a/c. However,we will sign a binding agreement,to bind us together.I got your contact address from our chamber of commerce,I am revealing this to you with believe in God that you will never let me down in this business,you are the first and the only person that I am contacting for this business,so please reply urgently so that i will inform you the next step to take urgently. Send also your private telephone and fax number including the full details of the account to be used for the deposit.I want us to meet face to face to build confidence and to sign a binding agreement that will bind us together before transferring the money to any account of your choice where the fund will be safe.Before we fly to your country for withdrawal,sharing and investments.I need your full co-operation to make this work fine,Because the arrangement is ready to approve this payment to any foreigner who has correct information of this account,which I will give to you,upon your positive response and once I am convinced that you are capable and will meet up with instruction of a key bank official who is deeply involved with me in this business I need your strong assurance that you will never,never let me down.with my influence and the position of the bank official we can transfer this money to any foreigner's reliable account which you can provide with assurance that this money will be intact pending our physical arrival in your country for sharing.The bank official will destroy all documents of transaction immediately we receive this money leaving no trace to any place and to build confidence you can come immediately to discuss with me face to face after which I will make this re\\nmittance in your presence and three of us will fly to your country at least two days ahead of the money going into the account.I will apply for annual leave to get visa immediately I hear from you that you are ready to act and receive this fund in your account.I will use my position and influence to obtain all legal approvals for onward transfer of this money to your account with appropriate clearance from the relevant ministries and foreign exchange departments.At the conclusion of this business,you will be given 35% of the total amount,60% will be for me,while 5% will be for expenses both parties might have incurred during the process of transferring.I look forward to your earliest reply through my email Pls,go through this website for more verification and details about the incident,http://news.bbc.co.uk/1/hi/world/europe/859479.stm \\n\\nRegards, \\n\\nMr Sochima Nathanael, \\n\\nAudit & Acct Unit, \\n\\nNB;Pls, get in touch immediately through this following e-mail \\n\\naccount(sochima37@myway.com) thanks. \\n\\n- nathanaelsochima\"\n",
      " 'hi. Dear Sir,\\nIs a pleasure to write you this letter, and i hope it will not be a surprised to you, i got your contact through internet connector for urgent help. I think this letter will meet your favourable considration.. \\nI am a rebel soldier from Angola, with a rank of Major in the Army and a rebel leader as well. We have been in the bush for more than 15yrs, my name is Major John Ogari born 48 yrs ago in Angola and a member of the Angola rebel leaders committee.. The federal forces are impressing us badly that we can not have a way to be in the city, all our contacts closed. Please kindly help. Indeed, we never give up since we are fighting for good of our country as our present leaders are bad. \\nHere is the help we urgently needed from you, we have in our custody the sum of Nine million four hundred and twenty one dollar. 9.421.000 million,dollar, with 103 kg of gold. i need your help to bank this in your account as i can not go out nor operate any account. I give you this trust as God will be in between us and you will benefit more than expected if you did not think other wise.. This can be transfered hand to hand through security company we operate with, i am hundred percent sure of that, and they will take care of the goods till it get to your hand safely. Although the secourity company did not know what is inside as we locked the money and gold inside a safe box and deposited as family treasure. There is no risky involve or distorbance easy transfer. My aim is to invest in a profitable business in your country.\\nI hope you will help us in this our request. For further directives of how to achieve this feat. Reply and ask question if any and do not forget to furnish me with your cofidential telephone and fax number, to enable me contact you for immediate transacion. You will be made a co-beneficary to his treasure. Note that there is no risky involve in this busniess like i said earlier, and a good percentage will be given to you at end of this business. On arrival of the treasure safe to your destination i will come along with key to the safe box. Looking forward to hear from you soon. Best regard\\nMaj. John Ogari.'\n",
      " 'waiting for your reply. My name is muthar bola ige, the eldest son of the slain Attorney General and Chief Justice of Nigeria, Chief Bola Ige. I got your contact in my search for a reliable and trustworthy partner who i can do business with. I am contacting you in view of the fact that we will be of great assistance to each other. I have a business proposal that will benefit both of us.\\nyou can reach me on this private emeil..muthar1k@yahoo.no'\n",
      " \"VERY URGENT ASSISTANT IS NEEDED.please reply me back ASAP. Good Day,\\r\\nMay it not be a surprise to receive this letter from me, considering the\\r\\nfact that you do not know me? First I must seek for your understanding and\\r\\nwith hope that you will have the wisdom to understand this matter and be in\\r\\na position to help as you will be surely\\r\\nblessed as you help.I am MR GEORGE ABBEY,I am 41 Years old and also a\\r\\nBranch Manager with a Bank in Nigeria named, UNITED BANK FOR AFRICA{UBA} . I\\r\\nhave a Transaction which I think will be of mutual benefit to both of us. In my\\r\\ndesire for a befitting foreign partner with whom to do this transaction\\r\\nwith, I got your contact from a foreign trade Centre in my Country. As the\\r\\nmanager of a branch of UBA, I discovered some Amount of money while I was\\r\\nauditing accounts for the 2001 financial year which has been lying there for\\r\\nover 3 years. On further inquiry, I discovered that this money totaling\\r\\nabout USD$2O.5 Million (Twenty Million! Five hundred thousand United States\\r\\nDollars) including accumulated interest which belonged to one MR. ROBERT\\r\\nLIN, a Chinese National who lived here and died intestate without providing\\r\\nanybody to claim the money. This man died\\r\\nThrough a plane crash of ADC airlines in 1998.I have successfully\\r\\nsecured the money and with the assistance of powerful contact, the money has\\r\\nbeen moved out of my bank and deposited in a security company for safe\\r\\nkeeping. I am therefore requesting to have your\\r\\npersonal information to enable me prepare documents which will\\r\\nauthenticate that the funds belongs to you as the next of kin to MR.ROBERT\\r\\nLIN and to enable you claim the money since nobody has come to claim the\\r\\nmoney. According to the law here if by the end of this year nobody comes up\\r\\nfor the money it will be claimed by the Management of my\\r\\nbank.I am sure that you will be in a position to provide a safe account\\r\\nwhere the money Will be deposited pending my arrival to meet with you. For us to file\\r\\napplication of claim to this money as the next of Kin i will need to have\\r\\nyour personal information's which includes , YOURFULL NAME AND\\r\\nADDRESS,TELEPHONE AND FAX NUMBER, AND YOUR FULL BANK DETAILS WHERE THIS\\r\\nFUNDS WILL BE TRANSFERRED TO. This transaction is absolutely risk free with\\r\\nno legal complications as we have made arrangements to secure all the legal\\r\\ndocuments that will free us from any litigation, I have made all necessary\\r\\narrangements with the security company, that as soon as I get your\\r\\nconfirmation of interest in this venture, we shall put in all the necessary\\r\\npaper which will authorize the security company to process the funds and get\\r\\nit transferred through their offshore bank, to your account. In doing this you must have to maintain\\r\\na high degree of trust and adequate confidentiality is required and on\\r\\nsuccessful completion of this transfer to your account, I have agreed that\\r\\nyou will retain 30% of the total sum while 70% will be for me. Finally I\\r\\nwant you to note that we are going to spend money where\\r\\nNecessary to make this venture work out successfully. Therefore, confirm\\r\\nyour interest in this transaction immediately by sending the above mentioned\\r\\ninformation's as to enable us finalize this issue as soon as possible. I\\r\\nneed to emphasize once again that a high Degree of trust and confidentiality is required in this transaction.\\r\\nFinally i want to inform You that as soon as the funds are in your account and the sharing\\r\\ncompleted between us.You will introduce me into lucrative business in your\\r\\ncountry because i will like to invest most of my money in your country.\\r\\nPlease reply through this email: - {georgeabbey43@indiatimes.com } awaiting\\r\\nyour urgent response ASAP.\\r\\n\\r\\nYours Faithfully\\r\\nGEORGE ABBEY\\r\\nEmail:-  georgeabbey43@indiatimes.com\"]\n"
     ]
    }
   ],
   "source": [
    "\n",
    "def load_emails(batch_size):\n",
    "    dataset = []\n",
    "    batch_counter = 0\n",
    "    batch = []\n",
    "\n",
    "    count = 0 #just to limit dataset size at first\n",
    "    \n",
    "    prefix = './PhishingEmails/' #change this to the prefile thing such as './celebA'\n",
    "\n",
    "    for file in tqdm(os.listdir(prefix)):\n",
    "\n",
    "        if count >= 200: #comment this out to get full data\n",
    "            break\n",
    "        \n",
    "        with open(prefix + file) as jsonFile:\n",
    "            jsonStr = jsonFile.read() #json file as a string\n",
    "            email_dict = json.loads(jsonStr) #converts to dictionary\n",
    "\n",
    "        \n",
    "        setupData =  email_dict['email_subject'].strip() + \". \" + email_dict['email_body'].strip()\n",
    "\n",
    "        if batch_counter < batch_size:\n",
    "            batch.append(setupData)\n",
    "            batch_counter += 1\n",
    "        else:\n",
    "            dataset.append(batch)\n",
    "            batch = []\n",
    "            batch_counter = 0\n",
    "       \n",
    "    return np.array(dataset)"
   ]
  },
  {
   "cell_type": "code",
   "execution_count": 17,
   "id": "0e301245",
   "metadata": {},
   "outputs": [],
   "source": [
    "#Initialize helpful functions for math\n",
    "def sigmoid(x: np.ndarray):\n",
    "    return 1/(1+np.exp(-1*x))\n",
    "\n",
    "def sigmoid_derivative(x: np.ndarray):\n",
    "    return sigmoid(x)*(1-sigmoid(x))\n",
    "\n",
    "def tanh(x: np.ndarray):\n",
    "    return (np.exp(x) - np.exp(-x))/(np.exp(x)+np.exp(-x))\n",
    "    \n",
    "def tanh_derivative(x:np.ndarray):\n",
    "    return 1-np.square(tanh(x))\n",
    "\n",
    "def softmax(x: np.ndarray):\n",
    "    return np.exp(x)/np.sum(np.exp(x))\n",
    "\n",
    "def cross_entropy(yhat, y):\n",
    "    loss = 0\n",
    "     \n",
    "    for i in range(len(yhat)):\n",
    "\n",
    "        loss = loss + (-1 * y[i]*np.log(yhat[i]))\n",
    " \n",
    "    return loss"
   ]
  },
  {
   "cell_type": "code",
   "execution_count": 27,
   "id": "18d1a516",
   "metadata": {},
   "outputs": [],
   "source": [
    "#initializes the weights of the network\n",
    "def initialize_cell(input_size, hidden_size):\n",
    "\n",
    "    cell = {}\n",
    "\n",
    "    cell[\"W_i\"] = np.hstack((np.random.normal(0,1,(hidden_size,hidden_size)), np.random.normal(0,1,(input_size,hidden_size)))) #input gate weights\n",
    "    cell[\"W_f\"] = np.hstack((np.random.normal(0,1,(hidden_size,hidden_size)), np.random.normal(0,1,(input_size,hidden_size)))) #forget gate weights\n",
    "    cell[\"W_c\"] = np.hstack((np.random.normal(0,1,(hidden_size,hidden_size)), np.random.normal(0,1,(input_size,hidden_size)))) #candidate gate weights\n",
    "    cell[\"W_o\"] = np.hstack((np.random.normal(0,1,(hidden_size,hidden_size)), np.random.normal(0,1,(input_size,hidden_size)))) #output gate weights\n",
    "    cell[\"W_y\"] = np.hstack((np.random.normal(0,1,(hidden_size,hidden_size)), np.random.normal(0,1,(input_size,hidden_size)))) #final gate weights\n",
    "\n",
    "    #not sure if the biases need to be 3d...\n",
    "    cell[\"b_i\"] = np.zeros(hidden_size,1) #input gate biases\n",
    "    cell[\"b_f\"] = np.zeros(hidden_size,1) #forget gate biases\n",
    "    cell[\"b_c\"] = np.zeros(hidden_size,1) #candidate gate biases\n",
    "    cell[\"b_o\"] = np.zeros(hidden_size,1) #output gate biases\n",
    "    cell[\"b_y\"] = np.zeros(hidden_size,1) #final gate biases\n",
    "\n",
    "    return cell"
   ]
  },
  {
   "cell_type": "code",
   "execution_count": 28,
   "id": "348ff4c1",
   "metadata": {},
   "outputs": [],
   "source": [
    "#forward pass of all gates\n",
    "def forward_pass(cell, prevA, prevC, X):\n",
    "    \n",
    "    input = np.concatenate(prevA, X)\n",
    "\n",
    "    forward = {}\n",
    "\n",
    "    forward[\"F\"] = sigmoid(input.dot(cell[\"W_f\"]).dot(input) + cell[\"b_i\"])\n",
    "    \n",
    "    forward[\"C\"] = tanh(input.dot(cell[\"W_c\"]).dot(input) + cell[\"b_c\"])\n",
    "\n",
    "    forward[\"I\"] = sigmoid(input.dot(cell[\"W_i\"]).dot(input) + cell[\"b_i\"])\n",
    "\n",
    "    forward[\"O\"] = sigmoid(input.dot(cell[\"W_o\"]).dot(input) + cell[\"b_o\"])\n",
    "\n",
    "    forward[\"prevC\"] = prevC\n",
    "    forward[\"C_t\"] = (forward[\"C_(t-1)\"] * forward[\"F\"]) + (forward[\"I\"] * forward[\"C\"])\n",
    "    forward[\"A_t\"] = forward[\"O\"] * tanh(forward[\"C_t\"])\n",
    "\n",
    "    forward[\"Z_t\"] = cell[\"W_y\"].dot(forward[\"C_t\"] * forward[\"O\"]) + cell[\"b_y\"]\n",
    "    forward[\"Yhat\"] = softmax(cell[\"Z_t\"])\n",
    "\n",
    "    return forward"
   ]
  },
  {
   "cell_type": "code",
   "execution_count": 29,
   "id": "e7355acf",
   "metadata": {},
   "outputs": [],
   "source": [
    "def gradient(forward, cell, X, Y, lprimea, lprimec):\n",
    "\n",
    "    grads = {}\n",
    "\n",
    "    input = np.vstack(cell[\"prevA\"], X)\n",
    "\n",
    "    dldA_t = np.transpose(cell[\"W_y\"]).dot(forward[\"Yhat\"]-Y) + lprimea\n",
    "    dldC_t = lprimec + (forward[\"O\"] * tanh_derivative(forward[\"C_t\"])) * dldA_t\n",
    "\n",
    "    TdLdw_f = (dldC_t * forward[\"prevC\"] * forward[\"F\"]*(1-forward[\"F\"])) #this might be slightly wrong, unsure.\n",
    "    TdLdw_c = (dldC_t * forward[\"I\"] * (1-np.square(forward[\"C\"])))\n",
    "    TdLdw_o = (dldA_t * forward[\"I\"] * tanh(forward[\"C_t\"]) * forward[\"O\"] * (1-forward[\"O\"]))\n",
    "    TdLdw_i = (dldC_t * forward[\"C\"] * forward[\"I\"] * (1-forward[\"I\"]))\n",
    "\n",
    "    grads[\"dLdw_f\"] = TdLdw_f.dot(np.transpose(input))\n",
    "    grads[\"dLdw_c\"] = TdLdw_c.dot(np.transpose(input))\n",
    "    grads[\"dLdw_o\"] = TdLdw_o.dot(np.transpose(input))\n",
    "    grads[\"dLdw_i\"] = TdLdw_i.dot(np.transpose(input))\n",
    "    grads[\"dLdw_y\"] = (forward[\"Yhat\"] - Y).dot(np.transpose(forward[\"A_t\"]))\n",
    "\n",
    "    grads[\"dLdb_f\"] = 1\n",
    "    grads[\"dLdb_c\"] = 1\n",
    "    grads[\"dLdb_o\"] = 1\n",
    "    grads[\"dLdb_i\"] = 1\n",
    "    grads[\"dLdb_y\"] = 1\n",
    "\n",
    "    woa, _ = np.hsplit(cell[\"W_o\"])\n",
    "    wca, _ = np.hsplit(cell[\"W_c\"])\n",
    "    wia, _ = np.hsplit(cell[\"W_i\"])\n",
    "    wfa, _ = np.hsplit(cell[\"W_f\"])\n",
    "    \n",
    "    grads[\"dLda_prev\"] = woa * TdLdw_o + wca * TdLdw_c + wia* TdLdw_i + wfa * TdLdw_f\n",
    "    grads[\"dLdc_prev\"] = cell[\"O\"] * (1-np.square(tanh(forward[\"C_t\"])) * dldA_t + lprimec) * cell[\"F\"]\n",
    "\n",
    "    loss = cross_entropy(cell[\"Yhat\"], Y)\n",
    "\n",
    "    return grads, loss"
   ]
  },
  {
   "cell_type": "code",
   "execution_count": 30,
   "id": "fe29d85e",
   "metadata": {},
   "outputs": [],
   "source": [
    "def descent(cell, X, input_size, hidden_size, lr):\n",
    "   \n",
    "    prevA = np.zeros(hidden_size,1)\n",
    "    prevC = np.zeros(hidden_size,1)\n",
    "    lprimea = 0\n",
    "    lprimec = 0\n",
    "\n",
    "    gradientTot = {}\n",
    "    lossTot = 0\n",
    "\n",
    "    gradientTot[\"dLdw_f\"] = np.hstack((np.random.normal(0,1,(hidden_size,hidden_size)), np.random.normal(0,1,(input_size,hidden_size))))\n",
    "    gradientTot[\"dLdw_c\"] = np.hstack((np.random.normal(0,1,(hidden_size,hidden_size)), np.random.normal(0,1,(input_size,hidden_size))))\n",
    "    gradientTot[\"dLdw_o\"] = np.hstack((np.random.normal(0,1,(hidden_size,hidden_size)), np.random.normal(0,1,(input_size,hidden_size))))\n",
    "    gradientTot[\"dLdw_i\"] = np.hstack((np.random.normal(0,1,(hidden_size,hidden_size)), np.random.normal(0,1,(input_size,hidden_size))))\n",
    "    gradientTot[\"dLdw_y\"] = np.hstack((np.random.normal(0,1,(hidden_size,hidden_size)), np.random.normal(0,1,(input_size,hidden_size))))\n",
    "    gradientTot[\"dLdb_f\"] = np.zeros(hidden_size,1)\n",
    "    gradientTot[\"dLdb_c\"] = np.zeros(hidden_size,1)\n",
    "    gradientTot[\"dLdb_o\"] = np.zeros(hidden_size,1)\n",
    "    gradientTot[\"dLdb_i\"] = np.zeros(hidden_size,1)\n",
    "    gradientTot[\"dLdb_y\"] = np.zeros(hidden_size,1)\n",
    "\n",
    "    for i in range(1, len(X)-1):  #tqdm will create a loading bar for your loop\n",
    "\n",
    "        curData = X[0:i]\n",
    "        \n",
    "        forward = forward_pass(cell, prevA, prevC, curData)\n",
    "       \n",
    "        gradient, loss = gradient(forward, cell, curData + X[i+1], curData + forward[\"Yhat\"], lprimea, lprimec)\n",
    "        lprimea = gradient[\"dLda_prev\"]\n",
    "        lprimec = gradient[\"dLdc_prev\"]\n",
    "\n",
    "        gradientTot[\"dLdw_f\"] += gradient[\"dLdw_f\"]\n",
    "        gradientTot[\"dLdw_c\"] += gradient[\"dLdw_c\"]\n",
    "        gradientTot[\"dLdw_o\"] += gradient[\"dLdw_o\"]\n",
    "        gradientTot[\"dLdw_i\"] += gradient[\"dLdw_i\"]\n",
    "        gradientTot[\"dLdw_y\"] += gradient[\"dLdw_y\"]\n",
    "        \n",
    "        gradientTot[\"dLdb_f\"] += gradient[\"dLdb_f\"]\n",
    "        gradientTot[\"dLdb_c\"] += gradient[\"dLdb_c\"]\n",
    "        gradientTot[\"dLdb_o\"] += gradient[\"dLdb_o\"]\n",
    "        gradientTot[\"dLdb_i\"] += gradient[\"dLdb_i\"]\n",
    "        gradientTot[\"dLdb_y\"] += gradient[\"dLdb_y\"]\n",
    "\n",
    "        lossTot += loss\n",
    "\n",
    "    cell[\"W_f\"] = cell[\"W_f\"] - gradientTot[\"dLdw_f\"] * lr\n",
    "    cell[\"W_c\"] = cell[\"W_c\"] - gradientTot[\"dLdw_c\"] * lr\n",
    "    cell[\"W_o\"] = cell[\"W_o\"] - gradientTot[\"dLdw_o\"] * lr\n",
    "    cell[\"W_i\"] = cell[\"W_i\"] - gradientTot[\"dLdw_i\"] * lr\n",
    "    cell[\"W_y\"] = cell[\"W_y\"] - gradientTot[\"dLdw_y\"] * lr\n",
    "\n",
    "    cell[\"b_f\"] = cell[\"b_f\"] - gradientTot[\"dLdb_f\"] * lr\n",
    "    cell[\"b_c\"] = cell[\"b_c\"] - gradientTot[\"dLdb_c\"] * lr\n",
    "    cell[\"b_o\"] = cell[\"b_o\"] - gradientTot[\"dLdb_o\"] * lr\n",
    "    cell[\"b_i\"] = cell[\"b_i\"] - gradientTot[\"dLdb_i\"] * lr\n",
    "    cell[\"b_y\"] = cell[\"b_y\"] - gradientTot[\"dLdb_y\"] * lr\n",
    "\n",
    "    return lossTot\n"
   ]
  },
  {
   "cell_type": "code",
   "execution_count": 31,
   "id": "ad233117",
   "metadata": {},
   "outputs": [],
   "source": [
    "def train_LSTM(input_size, hidden_size, dataset):\n",
    "\n",
    "    cell = initialize_cell(input_size, hidden_size)\n",
    "\n",
    "    losses = []\n",
    "\n",
    "    for data in dataset:\n",
    "        loss = descent(cell, data, input_size, hidden_size, 0.0001)\n",
    "        losses.append(loss)\n",
    "\n",
    "    return cell\n",
    "    "
   ]
  },
  {
   "cell_type": "code",
   "execution_count": 32,
   "id": "f2272f5e",
   "metadata": {},
   "outputs": [
    {
     "name": "stderr",
     "output_type": "stream",
     "text": [
      "  0%|          | 0/3332 [00:00<?, ?it/s]"
     ]
    },
    {
     "name": "stderr",
     "output_type": "stream",
     "text": [
      "100%|██████████| 3332/3332 [00:00<00:00, 9828.94it/s] \n"
     ]
    },
    {
     "name": "stdout",
     "output_type": "stream",
     "text": [
      "['Re:. Deutsche bersetzung unten.\\n-----------------------------\\n\\n SULE OKETAYO\\n EAGLE BANK PLC\\n suleoketayo@alexandria.cc\\n \\n\\n Dear Sir/Madam,\\n\\n I am Sule Oketayo, the head of the Treasury Department of Foreign Operations Eagle Bank PLC of Nigeria.\\n\\n In my department, I discovered an abandoned sum of US$13,500,000.00  (Thirteen Million, Five Hundred Thousand United States Dollars) in an account belonging to one of our foreign customers who died along with his entire family in 1998 in an auto crash. This account was open with the bank in 1993 and since 1998 nobody has operated it. After careful investigation, I discovered that the owner of this account was the president of   MIRA CONSTRUCTION COMPANY LTD. Despite several attempts by the bank to trace the relatives/next of kin of the deceased, up to date nobody has yet come forward to claim the money.\\n\\nI later discovered that all his supposed next of kin died with him in the auto crash incident. I have spent the last five years monitoring the account and gathering necessary information and documents on it. Now that all papers are ready, I am asking for your assistant to release the money to you as next of kin or relation to the deceased for safekeeping and subsequent sharing.  The banking laws of Nigeria stipulates that such money, if unclaimed after five years of maturity, will be transferred into the Central Bank treasury as unclaimed effect. \\n\\nThe request for a foreigner as next of kin in this business is occasioned by the fact that the customer was a foreigner and presenting a Nigerian as the next of kin to a foreigner could raise concerns from the bank management. \\n\\nI am ready to give you 20% of the total sum for your help. 10% will be used to pay off all the necessary fees/charges involved in the transfer. 25% will go to two other officials of Eagle Bank that are with me in this and whose positions will greatly help in expediting the transfer. I will be taking 45%. Please note that these figures are negotiable. After the money has been transferred to your country, I will visit your country for the disbursement/investing of my share according to the percentages we agree upon. Note this transaction requires utmost confidentiality and I am assuring you that it is 100% risk-free so you need not be afraid. I will not contact any other person until I am convinced that you are not interested. \\n\\nCan you please send me your phone and fax number for safer communication when needed. Also please kindly note that all the money to finance this transfer will be provided and you will not be asked to contribute anything. When I hear from you, I will send you an online banking access code with which you can log in to verify the account and balance using the banks online banking website.\\n\\nBest Regards,\\n\\nSule Oketayo\\nsoketayo@alexandria.cc\\n\\n\\n-----------------------\\n\\nSULE OKETAYO \\nEAGLE BANK PLC\\nsoketayo@alexandria.cc\\n\\nLiebe Herr/Frau,\\n\\nIch bin Sule Oketayo, der Kopf Abteilung der Schatzkammer Auslndischer Betriebe Eagle Bank PLC des Nigerias. \\n\\nIn meiner Abteilung, habe ich eine verlassene Summe von US$13,500,000.00 (Dreizehn Millionen, Fnf Hundert Tausend Vereinigten Staaten Dollar) in einer Konto entdeckt, die Ein von unseren auslndischen Kunden gehrt, die zusammen mit seiner ganzen Familie in1998 in einem Auto Sturz gestorben sind. Diese Konto war offen mit der Bank in 1993 und, da 1998 niemand es bedient hat. Nachdem vorsichtige Untersuchung, ich entdeckt haben, da der Eigentmer dieser Kontos der Prsident von MIRA KONSTRUKTION FIRMA LTD.... war. Trotz mehrerer Versuche durch die Bank, dem Verwandten nchstem Verwandtem vom verstorbenen, auf verfzuolgen, niemanden zu datieren, noch ist hervorgetreten, das Geld zu beanspruchen. \\n\\nIch habe spter entdeckt, da alle sein vermuteter nchster Verwandter mit ihm im Auto Sturz Vorfall gestorben ist. Ich habe berwachende die Konten und die Versammeln von notwendigen Informationen und Dokumente darauf die letzte fnf Jahre ausgegeben. Jetzt, da alle Papiere bereit sind, ich um Ihren Assistenten bitte, das Geld zu Ihnen freizugeben, als nchster Verwandter oder Verhltnis zum verstorbenen fr sichere Verwahrung und folgendes Teilen. Das Bankwesen Gesetze des Nigerias schreibt vor da solch Geld, wenn nicht beansprucht nachdem fnf Jahre von Reife, werden in die Zentralbank von Nigeria Schatzkammer als nicht beanspruchte Wirkung bertragen werden. \\n\\nDie Bitte fr einen Auslnder, als nchster Verwandter in diesem Geschft von der Tatsache occasioned wird, die der Kunde ein Auslnder und berreichend ein Nigerianer war, als der nchste Verwandte zu einem Auslnder erheben knnte, geht von der Bank Leitung an. \\n\\nIch bin bereit, Ihnen 20% von der gesamten Summe fr Ihre Hilfe zu geben. 10% wird benutzt werden, ab alle notwendigen Gebhren/ldt zu zahlen, die in der bertragung verwickelt werden. 25% wird zu zwei anderen Beamten von Eagle Bank gehen, der mit mir in diesem ist, und, dessen groartig einstellt, in Beschleunigen wird die bertragung helfen. Ich werde 45% nehmen. Bitte Notiz, da diese Figuren veruerlich sind. Nachdem das Geld auf Ihr Land bertragen worden ist, werde ich Ihr Land fr das Auszahlung/investierenden von meinem Anteil gem den Prozenten die wir auf besuchen bereinstimmen. Merken Sie diese Verhandlung erfordert, da uerste Vertraulichkeit und ich Ihnen zusichere, da es 100% risikofrei so Sie ist, nicht mssen ngstlich sein. Ich werde andere Person nicht berhren, bis ich berzeugt bin, da Sie sich nicht interessieren. \\n\\nKnnen Sie Sie bitte schicken mich Ihr Telephon und Fax zhlt fr sicherer kommunikationen wenn ntig. Auch bitte gtig Notiz, da alle Geld zu finanzieren diese bertragung versorgt werden wird, und Sie werden gebeten werden, nichts beigetragen zu werden. Wenn ich von Ihnen hre, werde ich Ihnen eine Online-Bankwesen Zugriffskennzahl schicken, mit den Sie in loggen knnen, die Konto zu beglaubigen, und die Ausgleich Gebrauch die Banken Online-Bankwesen Website. \\n\\nDie besten Beachtungen,\\n\\nSule Oketayo \\nsuleoketayo@alexandria.cc'\n",
      " 'Greeting in the name of our Lord Jeses Christ (mrs pprisca konan). Greeting in the name of our Lord Jesus Christ\\n \\nI am Mrs Prisca Konan, a widow to late Martins Konan. I am 69 years old, I am now a new Christian convert, suffering from long time cancer of the breast, from all indication my condition is really deteriorating and it is quite obvious that I won�t live more than six months, according to my doctors.\\n \\nThis is because the cancer stage has gotten to a very bad stage. My late husband died on air crash when returning from a business trip in Europe to C�te d�Ivoire, and during the period of our marriage we couldn�t produce any child.\\nMy late husband was very wealthy and after his death, I inherited all his business and wealth. The doctors has advised me that I may not live for more than six months, so I now decided to divide the part of this wealth, to contribute to the development of the church in Africa, America, Asia, and Europe. I prayed over it, I am willing to donate the sum of $15,000.000.00 MD U.S DOLLARS, to the less privileged.\\n \\n Please I want to note that fund is lying in a security company and upon my instruction, my attorney, who presently is in Africa distributing relief materials to of bomb-last in Sierra-Leone, will file in an application for the transfer of the money in your name. Lastly, I honestly pray that this money when transferred will be sure for the said purpose, because I have come to find out that wealth acquisition without Christ is vanity. May the grace of our Lord Jesus the love of God and the fellowship of \\n \\nGod be with you and your family.\\nI await urgent reply.\\n \\nYours in Christ.\\nMrs Prisca Konan'\n",
      " \"GOOD  NEWS. Dear, Beloved Friend,\\n \\nI am Mrs. Susan John from London ; I am married to Mr. John Mike who\\n worked with London embassy for Ten years before he died in the year 2004.\\n We were married for eleven years without a child. He died after a\\n brief illness that lasted for only four days. Before his death we were both\\n born again Christian.\\n \\nSince his death I decided not to remarry or get a child outside my\\n matrimonial home which the Bible is against. When my late husband was alive\\n he deposited the sum of $9.8Million (NINE Million Eight hundred\\n thousand U.S.Dollars) with one Bank in London Presently, this money is still\\n with the Bank. Recently, my Doctor told me that I would not last for\\n the next Eight months due to cancer problem. The one that disturbs me\\n most is my stroke sickness. Having known my condition I decided to keep\\n this fund in the Bank\\n \\nI want an organization or an individual that will use this fund for\\n orphanages, widows, propagating the word of God and to endeavor that the\\n house of God is maintained. The Bible made us to understand that blessed\\n is the hand that grivet. I took this decision because I don't have any\\n child that will inherit this money and my husband relatives are not\\n Christians and I don't want my husband&#8217;s efforts to be used by\\n unbelievers.\\n \\nI don't want a situation where this money will be used in an ungodly\\n way. This is why I am taking this decision. I am not afraid of death\\n hence I know where I am going. I know that I am going to be in the bosom of\\n the Lord. Exodus 14 VS 14 says that the lord will fight my case and I\\n shall hold my peace. I don't need any telephone communication in this\\n regard because of my health hence the presence of my husband's relatives\\n around me always. I don't want them to know about this development.\\n With God all things are possible.\\n \\nAs soon as I receive your reply I shall inform the Bank in London that\\n you are the beneficiary of the said fund   in London . I will also\\n issue you an authority letter that will prove you the present beneficiary\\n of this fund. I want you and the organization to always pray for me\\n because the lord is my shepherd. My happiness is that I lived a life of a\\n worthy Christian.\\n\\nWhoever that wants to serve the Lord must serve him in spirit and\\n truth. Please always be prayerful all through your life. Any delay in your\\n reply will give me room in sourcing another person for this same\\n purpose. Please assure me that you will act accordingly as I stated herein. \\nHoping to receive your reply and Remain blessed in the Lord. \\n\\n\\nYours in Christ,\\nMrs. Susan John\\nGREETINGS FROM MRS SUSAN JOHN\"\n",
      " 'URGENT MATTER................. FROM THE DESK OF PETER OKOYE\\nSTANDARD TRUST BANK PLC\\nTel: 234-1-7760497  \\nFax: 234-1-7599947\\nPrivate Email:peteoko@gawab.com\\nI hope this letter will not embarrass you since we have not had any previous communication. I got your reference from your country`s trade department under private enquiry that is not related to my aim of writing you this letter and went further to have it confirmed by the Nigeria Exports Promotion Council(NEPC). \\nI am Mr. Peter Okoye, a Bank Manager of Standard Trust Bank Plc, Lagos Balogun Branch.  I have urgent and very confidential business proposition for you. On June 6, 2000, an American Oil Consultant/Contractor with the National Oil Nigeria Ltd. Mr. Robert Noel made a numbered time (Fixed) Deposit for twelve calendar months. Valued at US$48,000,000.00 (Forty-Eight Million United States Dollars only) in my branch upon maturity.\\nI sent a routine notification to his forwarding address but got no reply.  After a month, we sent a reminder and finally we discovered from his contract employers the National Oil Nigeria LTD that Mr. Robert Noel died on air crash in ADC Airline going to Abuja our Federal Capital Territory. On further investigation, I found out that he died without making �WILL�, and all attempts to trace his next of kin was fruitless.\\nI therefore made further investigation and discovered that Mr. Robert Noel did not declare any next of kin or relations in all his official documents, including his Bank Deposit paperwork in my Bank. This sum of US$48,000,000.00 is still sitting in my Bank and the interest is being rolled over with the principal sum at the end of each year. No one will ever come forward to claim it. According to Nigeria Law, at the expiration of 5 (Five) years, the money will revert to the ownership of the Nigerian Government if nobody applies to claim the fund. Consequently, my proposal is that I will like you to act as the next kin to Mr. Robert Noel so that the fruits of this old man�s labour will not get into the hands of some corrupt government officials here.\\nThis transaction is very simple and 100% risk free, therefore I will like you to provide immediately your full name and address so that an Attorney will prepare the necessary documents and affidavits, which will put you in place as the next of kin. We shall employ the service of an Attorney for drafting and notarization of the �WILL� and to obtain the necessary documents and letter of probate and realization in your favour for the transfer.\\nA Bank Account in any part of the world, which you will provide will then facilitate the transfer of this money to you as the beneficiary/next of kin. The money will be paid into your Account for us to share in the ratio of 60% for me and 30% for you and 10% will be for expences both parties might have incured during the process of transfering the money.Try and call me on my private number immediately you recieve this email on 234-1-7760497 or write me back on my private email address(peteoko@gawab.com) for further explanations.\\nI look forward to your earlist response to my proposal.\\nYours Truly.\\nMr Peter Okoye\\nBranch Manager.'\n",
      " \"PLEASE REPLY BACK. HELLO FRIEND,\\nGood day and Compliments, I am writing this letter in confidence believing \\nthat if it is the wish of God for you to help me and my family, God Almighty \\nwill bless and reward you abundantly and you\\nwould never regret this.\\nMy family and I are true Christians and worship God truthfully. I got your \\ncontact during my search for this assistance. I am a female student from \\nUniversity Burkina Faso, Ouaga. I am 22 yrs old. I'd like any person who can \\nbe caring, loving and home oriented. I will love to havea long-term \\nrelationship with you and to know more about you.\\nI would like to build up a solid foundation with you in time coming if you \\ncan be able to help me in this transaction. Well, my father died earlier \\nthree months ago and left I and my junior brother behind. Hewas a king, \\nwhich our town citizens titled him over sixteen years before\\nhis death.\\nI was a princess to him and I am the only person who can take care of his \\nwealth now because my junior brother is still young and my mother is not \\nliterate enough to know my entire father's wealth.He left the sum of USD \\n7.350, 000M (Seven Million, Three Hundred and Fifty\\nThousand US Dollars) in a security company.\\nThis money was annually paid into my late fathers account from Shell \\npetroleum Development Company (spdc) and chevron Oil Company operating in \\nour locality for the compensation of youth and community development in our \\njurisdiction.\\nI don't know how and what I will do to invest this money somewhere in \\nabroad, so that my father's kindred will not take over what belongs to my \\nfather and our family, which they were planning to do without my \\nconsentbecause I am a female as stated by our culture in the town.\\nNow, I urgently need your humble assistance to move this money from the  \\nSecurity Company to your bank account that is why I felt happy when I saw \\nyour contact because I strongly believe that by the grace of God,you will \\nhelp me invest this money wisely.\\nI am ready to pay 30% of the total amount to you if you help us in this \\ntransaction and another 10% interest of Annual after Income to you, for \\nhandling this transaction for us, which you will strongly have absolute \\ncontrol over it.\\nIf you can handle this project sincerely and also willing to assist me in \\nlifting this fund, kindly reach me. Please, note that this transaction is \\n100% risk free and I hope to commence the transaction as quick as possible, \\nI will send you my picture as soon as I hear from you for recognition.\\nYours sincerely,\\nPrincess memuna iboudo.\\nplease reply me at my private email address: \\nprincessmemuna_iboudo@hotmail.com\\n\\n_________________________________________________________________\\nMSN Messenger: appels gratuits de PC  PC ! \\nhttp://www.msn.fr/newhotmail/Default.asp?Ath=f\"\n",
      " 'BUSINESS/INVESTMENT PROPOSAL CLASSIFIED DEAL. >From Mamou mouna mbulu\\nCoordinator of the northern states Programmes\\nSubject: BUSINESS/INVESTMENT PROPOSAL CLASSIFIED DEAL,\\n\\nDear  Sir,\\n\\nI am Mamou Mouna Mbulu,Bank personnel of the above mentioned Bank Annexe.\\nI got your contact from a very confidential source and I wish to maitain \\nthis confidentiality.\\nActually,I decided to send you this proposal directly.for your appraisal on \\nbussiness proposition for you & for our overall mutual interest.\\nI am currently the coordinator on technical cooperation and procurement \\nofficer to the  Bank Of African Development and the African funds \\ndevelopment.Projects/contract awards.\\nI need your assurance to help conclude a very good transaction wish i feel \\nyou will be very much interested\\nBUSINESS\\nI am currently in need of a foreign partner to assist me to be the \\nbeneficiary of the total sum of $5,200.000 USD.\\nThe money was deposited with BIAO bank in Abidjan by the late general Guie \\nthat was assasinated during the last recent failed coup de etat that \\nhappened in Ivory coast.\\nhe made me the depositor but I can not withdraw this money myself.\\nSo right now, I wsih to resign which is must if I secure you affirmative \\nassurance to be able to front for me as my foreign business partner to act \\nas the beneficiary of this money .\\nI have already transfer this money from BIAO to another bank called BICICI \\nin Burkina faso which is now programmed for onward transfer to any name \\nwhich I shall submit to the bank as the beneficiary of this fund.\\nThis is strictly confidential and only between me and you alone.\\nI shall send to you the check as soon as I am able to recieve your \\nfavourable response right away.\\nPlease this is not a scam as you may think, just remove doubt.\\nthis is real\\nA bank account in any part of the world,which you will provide to facilitate \\nthe transfer of this money to you as the beneficiary.\\nThe money will be paid into your account for us to share in the ratio of 60% \\nfor me , 30% for you and 10% for expencies .There is no risk at all as  my \\nposition will do the paperwork for this\\ntransaction as the branch manager guarantees the\\nsuccessful execution of this transaction.If you are interested,please\\nreply immediately via this private email address and also forward to me your \\ntelephone number and fax number for easy communication.\\nUpon your response,I shall then provide you with more details and\\nrelevant documents that will help you understand.PLEASE OBSERVE UTMOST \\nCONFIDENTIALITY,and be rest assured that this would be\\nmost profitable for both of us because I shall\\nrequire your assistance to invest my share in your country.\\nAwaiting your urgent reply via this email above,please save me the anxiety \\nof endless waiting.\\nGod bless you.\\nMamou Mouna Mbulu\\n\\nADB BANK PLC\\n\\n_________________________________________________________________\\nMSN Hotmail : crez votre adresse e-mail gratuite &  vie ! \\nhttp://www.msn.fr/newhotmail/Default.asp?Ath=f'\n",
      " 'FROM MRS   ANNAH  KURGA. FROM MRS ANNAH KURGA\\nNO 345 Oxford Road Roosebank\\nJohannesburg,\\nTEL: +27-83 9510312.\\nMy Alternative Email Address:  annah1@myway.com\\nTHE DIRECTOR/C.E.O,\\n\\nMy name is Mrs. annah kurga the wife of Wilfred kurga from Zimbabwe. This\\nmight be a surprise to you about where I got your contact address, I got\\nyour address from the South African Network Online {SAINO} when I was\\ndesperately looking for a trust-worthy person to assist my son who is\\ncurrently residing in South Africa, and so I decided to contact you.\\nDuring the current war against the farmers in Zimbabwe from the supporters\\nof our President Robert Mugabe to claim all the white-owned farms to his\\nparty members and his followers, he ordered all the white farmers to\\nsurrender their farms to his party members.\\nMy husband was one of the best farmers in our country and because he did\\nnot support Mugabes ideas, Mugabes supports invaded my husband farm and\\nburnt everything in the farm, killing my husband and made away with a lot\\nof items in my husband farm.\\nBefore his death, my husband had deposited with one of the Security\\nCompany in Johannesburg, South Africa the sum of (20Million  United States\\nDollars). After the death of my husband, my son {john} decided to move out\\nof my country to Republic of South Africa where my husband had deposited\\nthe money with the Security Company as valuables.\\nPlease why I am contacting you is to assist my son to move this money out\\nof South Africa because as asylum seekers he is not allowed to operate any\\nBank Account or assured of security our investment within in the country.\\nWe have agreed to offer you 20% of the total sum for your assistance, 5%\\nwill be out for any expenses that may be incurred in the course of this\\ntransaction while 75% will be for me and my family which I believe that\\nwith your help we will invest it in your country.\\nAll I want you to do is to furnish me with your private phone and fax\\nnumbers for easy communication. You can contact my son on his private\\ntelephone number {JOHN KURGA} on: +27-83 9510312. or on his email address\\nthus: annah1@myway.com\\n Waiting for your urgent response.\\nPLEASE YOU CAN READ ABOUT PROBLEMS IN ZIMBABWE AND HOW MY HUSBAND DIED,\\nFROM THE LINKS BELOW.\\nhttp://news.bbc.co.uk/1/hi/world/africa/918781.stm\\nhttp://news.bbc.co.uk/1/hi/world/africa/715001.stm\\nhttp://news.bbc.co.uk/1/hi/world/africa/1063785.stm\\n\\nBest Regards.\\nMRS. ANNAH KURGA.\\nFor the Family FROM MRS ANNAH KURGA'\n",
      " 'ASSISTANCE. Hello, \\nIt must be a little surprising for you . My name is MUSA EYADEMA, a son of YASSINGBE EYADEMA President of Togo and one of the coffee/cocoa merchant and also a contractor, my father died because of political situation in Togo . \\nNow the reason of my introduction to you, is to assist me to transfer my inheritance that my father left for me into a suspend account before he died, the sum of 8.500.000 Dollars in one of the International bank here in my country CITIZEN BANK. Please sir, I need your financial assistance for legal process so that the bank can transfer the money into your personal account for you to help me invest the money into a profitable business investment in your country. You have to forward me your full name, address and telephone number immediately so that I will forwarded to the bank for them to transfer the fund. \\nFor your financial assistance, I have decide to give you 25% after the successful transfer. Kindly contact me trough my private email address for more information : musa_eyadema@yahoo.com \\nTEL : 00225 05 28 95 17 \\nMUSA EYADEMA.'\n",
      " 'BUSINESS PROPOSAL. FROM:Dr.RICHARD SHUBANE .\\n#123CB/PBV,MAIN CITY,\\nJO,BURG, SOUTH AFRICA.\\n \\nDear Sir, \\n\\nMy name is Dr.RICHARD SHUBANE ,I am the operational\\nmanager in account management section incharge of\\ncredit and foreign bills of one of the prime banks\\nhere in South Africa. I am writing in respect of a\\nforeign customer of my bank who perished with his\\nwhole families on 25TH JULY,2000 CONCORDE PLANE CRASH\\n[ Flight AF4590 ] with the whole passengers aboard.\\n\\nThere is an account opened in this bank in 1998 by\\nthis great late INDUSTRIALIST who died without a\\nwritten or oral WILL attatched to the account. Since\\nhis death , I personally has watched with keen\\ninterest to see the next of kin but all has proved\\nabortive as no one has come to claim his funds and no\\nother person knows about this account or anything\\nconcerning it,the account has no other beneficiary and\\nuntil his death he was the manager of his company.\\n\\nThe total amount involved is 106,000,000.00 USD.[ One\\nhundred and six million United States Dollar ]. We\\nwish to start the first transfer with\\n$6,000,000.00[Six million] and open successful\\ntransaction without any disappointment from your side,\\nwe shall re-apply for the transfer of the remaining\\nbalance to your account.\\nI have secretly discussed this matter with the general\\nmanager of the bank who I must involve in order to\\nhave a smooth and a successful transfer of the fund to\\nany foreign bank account which you are going to\\nnominate. \\n\\nOn this note, I decided to seek for a reliable\\nforeigner who will act as the foreign beneficiary of\\nthe fund from the deceased by providing his/her bank\\naccount where the fund will be transferred for\\nimmediate investment on any viable project as no one\\nhas come up to be the next of kin. \\n\\nThe banking ethics here does not allow such money to\\nstay more than six years without claim hence the money\\nwill be recalled to the government treasury as\\nunclaimed after this long period of domancy. In view\\nof this I got your contact through my personal search\\nto see if you can assist by providing your safe bank\\naccount for the transfer or find a reliable person who\\nwill be capable of receiving such amount in his or her\\npersonal account.\\n\\nAt the conclussion of the transfer 65% of the fund\\nwill be for me, I will give you 20% of the total\\ntransfer sum, 10% for charity both in Africa and in\\nyour country while the remaining 5% will be set aside\\nto settle expenses both parties might incure during\\nthe transfer process.\\n\\nUpon the receipt of your reply, I will send to you a\\ndetailed information about the transaction.I will not\\nfail to bring to your notice that this business is\\n100% risk and trouble free and that you should not\\nentertain any fear as all modalities for fund transfer\\ncan be finalized within 7 to 9 banking days, after you\\napply to the bank as the beneficiary of the fund from\\nthe deceased. When you receive this letter.\\n\\nKindly send me an e-mail MY PRIVATE EMAIL ADDRESS~:\\nauditorotto2@netscape.net  You should also include\\nyour private fax and phone numbers for easy and safe\\ncommunication.\\n\\nRespectfully yours,\\nDr.RICHARD SHUBANE\\n\\n\\n\\n__________________________________\\nDo you Yahoo!?\\nYahoo! Mail - More reliable, more storage, less spam\\nhttp://mail.yahoo.com'\n",
      " \"From: Mr. Paul Baloyi.. From: Mr. Paul Baloyi.\\nJOHANNESBURG, SOUTH AFRICA.\\n\\nDear Friend,\\n  \\nLet \\nme start by introducing myself. I am Mr. Paul Baloyi An Executive \\nDirector of my bank\\nBank, DEVELOPMENT BANK OF SOUTHERN AFRICA (DBSA).I  \\nhave an obscured business suggestion for you. One of our accounts with \\na holding balance of Money Valued $22,000,000.00 (Twenty-Two Million \\nDollars) has been dormant and has not been operated for the past six \\nyears.  \\n   \\n>From my investigations and confirmations, the  owner of \\nthis account Mr. Andreas Schranner a citizen of Germany who perished \\nina plane crash [Concorde Air Flight AF4590] with the whole \\npassengers \\naboard on 31 July2000. And for your perusal you can view this web site:\\nhttp://news.bbc.co.uk/1/hi/world/europe/859479.stm and  since then \\nnobody has done anything as  regards the claiming of this money because \\nhe has no family members who are aware of the existence of the account \\nnor the funds.\\n\\nAlso Information from the National Immigration stated \\nthat he was also single on entry into South Africa.\\n  \\nI have secretly \\ndiscussed this matter with some of the bank officials and we agreed to \\nfind a reliable foreign partner to deal with.\\n \\nThis transaction is \\ntotally risk and trouble free as the fund is legitimate and does not \\noriginate from drugs, money laundering, terrorism or any other illegal \\nact. \\n   \\nThe sharing of the fund between us, is as follows; 40% of the \\ntotal sum will go to you for \\nyour effort and commitment to the success \\nof this transaction. 60% for me  and my colleague's. \\n \\nBest Regards, \\n\\nMr Paul Baloyi\"\n",
      " \"Respond immeiately for time essence. From: Barrister Philip Ajayi\\n\\n\\nRE: SOLICITING FOR A BUSINESS VENTURE AND PARTNERSHIP\\n\\n\\nBefore I proceed, I must be grateful to introduce\\nmyself. My name is Barrister Philip Ajayi a lawyer to\\nthe Ex - President Charles Taylor, the president of\\nliberia . During the rebellion in my client's country,\\nmy client deposited Twenty-Eight Million Five Hundred\\nThousand United States Dollars (US$28.5M)  with a\\nsecurity company in Lome, Togo which was part of the\\nmoney meant for his campaign for re-election into\\noffice.\\n\\n\\nPresently, the fund has long been moved diplomatically\\nto a Financial Vault Company in Europe where it is\\nstill kept in safe custody.\\n\\n\\nMY REQUEST\\nAs a result of my client's present situation as a\\nrefugee in Nigeria who cannot have access to own an\\naccount or accounts, I am looking for a trustworthy\\nindividual/ firm by my client's instructions to\\nreceiving the funds and  advicing us in making the\\nrightful investment as well as to provide\\naccount(s)where the funds will be lodged into. More\\nalso, we are at the interim interested in buying\\nproperties for\\nresidence as my family will be residing there in the\\nnear future.\\n\\nCOMMISSION/REMUNERATION\\nAs regards your commission/remuneration, my client\\nhave decided to offer you 15% of the total sum and\\nalso set aside 5% for all your expenses (i.e telephone\\nbills, travelling expenses, hotel bills and other\\nmiscellaneous expenses).\\n\\nI strongly believe that associating with you to embark\\non this and other business ventures will derive a huge\\nsuccess hereafter and it will be a long lasting\\nbusiness association via my email for further\\nbriefing.\\n\\nEndeavor to send your full contact details like your\\nfull names, address, telephone and fax numbers. As\\nsoon as I receive the above information, I will let\\nyou have the contact details of the security company\\nin Europe where funds are deposited to enable you\\nverify the existance of the security company and the\\ndeposited funds before we proceed on this transaction.\\n\\n\\nI await your anticipated co-operation.\\n\\n\\nYours truly,\\nBarrister Philip Ajayi\\nReturm email: philip_ajayi_lawfirm@web-mail.com.ar\\n\\n\\nFor better understanding, please view these websites\\nbelow:\\nhttp://www.cnn.com/2003/WORLD/africa/08/11/taylor.warcrimes/index.html\\nhttp://www.cnn.com/2003/WORLD/africa/08/11/liberia.1300/index.html\"\n",
      " \"FOR YOUR CONSIDERATION. Mrs. Rose  Bangra hamenya.\\nBlk. 2681, HLM II,\\nDakar - Senegal.\\n   \\n   Hello dear,\\n\\n  Compliments of the season. I am Mrs. Rose Bangra Hamenya, a civil servant from Zimbabwe. I got your contact from Chamber and Commerce office as I was searching for someone who will help me  out of my present predicament, \\n   \\n  My late husband, Mr. Ransome Gatorgay Hamenya was the co-owner of an Agricultural firm and his partner happens to be among the white farmers that the dictator President of Zimbabwe, Robert Mugabe took over their farmlands and handed over to the blacks, despite all the pleas from the International Community,and members of the commonwealth country's Most of the company's assets,animal farms and milk industry were seized and confiscated by the tyrant President. \\n   \\n  My late husband was a British citizen of African descent and we both lived in the company's staff quarters but our lives were threatened by agents of President Mugabe. Since then, my husband and I have been living in exile in Dakar - Senegal. My husband died last August as a result of cardiac arrest. \\n   \\n  A substential amount of money was deposited in the finance house by my husband before his death through the help of the International Red Cross staff, because President Mugabe, placed order for the closure of the accounts of all the white farmers and no one is allowed to transfer more than ten thousand dollars abroad but luckily enough, I and my late husband along with some other farmers were assisted through diplomatic means with the help of the International Red Cross to send our money abroad.\\n\\nThe total Sum is FIFTEEN million US dollars (US$15.000.000.), \\nthe money is part of our savings and what my husband inherited from his late father, from whom we took over the family business.  All the documents to the deposition of the money are with me and with the finance firm also for Security reasons. \\n\\nI would like you to assist me to relocate the money to your country into any account of your choice or keep it for me in your safe custody until I am able to come to your country after my operation soon. I would like to invest the money into any lucrative business, you deem profitable and your assistance is highly needed in the areas of investment feasibility studies. \\n   \\n  Hence I need your cooperation to secure this deposit which is as it stands now, the only hope of my survival as I have already lost my husband, coupled with my sickness and the situation of insecurity. Life is no more the same with me after all the lot I have gone through.Moreover, I wouldn't mind paying you any amount you will charge me up to 20% of the total money for your assistance in relocating and keeping the money for me as well as helping me to carry out proper investment. You keep 80% for me pending execution of the investment. \\n   \\n  As a sick person, it will be difficult to handle this alone, hence I need your immense help, coupled with your distinguished business acumen and track record. Please, I would like you to come to my assistance, I am a lonely widow and in utter confusion and distress.\\n   \\n   This business is solely between two of us and should there be any need for a third party, I will contact one of the Red Cross staff with whom I have established some trust. I am scared that if any one gets to know about this, he might take advantage of my helpless situation. to diverte this fund or seat on the money without helping me to manageit as planed,so please if your willing to help kindly contact me through my email above. or my son's email id (papis_prince@hotmail.com) \\n\\nSincerely your's,\\n\\nMrs. Rose Bangra Hamenya.\\n\\n\\n\\n\\n\\t\\t\\t\\t\\n---------------------------------\\n Jiyo cricket on Yahoo! India cricket\\nYahoo! Messenger Mobile Stay in touch with your buddies all the time.\\n\\t\\t\\t\\t\\n---------------------------------\\n Jiyo cricket on Yahoo! India cricket\\nYahoo! Messenger Mobile Stay in touch with your buddies all the time.\"\n",
      " 'partnership. FROM: MR. JIDE WILLIAMS\\n\\nJOHANNESBURG,\\nSOUTH\\n\\nAFRICA.\\n\\nEMAIL,jidewilliams000@arabia.com\\n\\n\\n\\n\\n\\nREQUEST FOR\\nURGENT\\n\\nASSISTANCE/INVESTMENT.\\n\\nDear Sir/Madam ,\\n\\nMy names is MR. JIDE WILLIAMS, \\nthe elder son of Mr. ANTHONY WILLIAMS, of Zimbabwe. It might be a\\nsurprise to you where I got your contact address, I got it from network on line, South African. During the current crises against the farmers of Zimbabwe\\nby the supporters of our President Robert Mugabe to claim all the white owned farms in our country, he ordered all the white farmers to surrender their farms \\nto his party members and their followers.\\n\\nMy father was one of the best\\nfarmers in the country and knowing that he did not support the presidential\\npolitical ideology, the presidential supporters invaded\\n\\nmy fathers farm\\nburnt down everything, shot him and as a result of the wounds\\n\\nsustained, he\\nbecame sick and died after two days. And after his death, I with\\n\\nmy\\nyounger Brother decided to move out of Zimbabwe for the safety of our \\n\\nlives \\nto South-Africa.\\n\\nBUT, before he died HE WROTE HIS WILL, which reads\\n\\n\"(MY\\nBELOVEED SON ,I WISH TO DRAW YOUR ATTENTION TO\\n\\nTHE SUM OF ($9,000,000=00).\\nMILLION U.S DOLLARS WHICH\\n\\nI DEPOSITED IN A BOX WITH A SECURITY COMPANY IN\\n\\nJOHANNESBURG (SOUTH-AFRICA). IN CASE OF MY ABSENCE\\n\\nON EARTH CAUSED BY DEATH ONLY\". You should solicit for\\n\\nreliable foreign partner to assist you\\nto transfer this money out of South Africa for\\n\\ninvestment purpose. I deposited the money in your name and it can be\\n\\nclaimed by you alone with the deposit code. your mother has all the documents. Take good care of your mother and brother.\" From the above, you will understand that the lives and\\nfuture of my family depends on this money as much, I will be very grateful if you can assist us. I with my younger brother are now\\n\\nliving in South-Africa as POLITICAL ASYLUM SEEKERS and the financial law of SOUTH-AFRICA does not allow ASYLUM SEEKERS certain Financial rights to such huge amount of money .In view of this, I cannot invest this money in South-Africa, hence I am asking you to assist me transfer this money out of South-Africa for investment purposes. For your efforts, I am prepared to offer you 20% of the total\\n\\nfund, while 5% will be set aside for local and international expenses and 75% will be kept for me and my family\\n\\n\\n\\nFinally modalities on how the transfer will be done will be\\nconveyed to you \\n\\nonce we establish trust and confidence between ourselves.\\nLooking forward to your urgent reply .For detailed information. \\n\\nNOTE:\\nTHE KEY WORD TO THIS TRANSACTION IS ABSOLUTE CONFIDENTIALITY AND SECRECY. THIS\\nTRANSACTION IS 100% RISK FREE. YOUR URGENT RESPONSE WILL BE\\nHIGHLY\\n\\nAPPRECIATED. \\n\\nBEST REGARDS,\\n\\nJide Williams\\n\\n____________________________________________________________\\nŘekněte sýr! MMS telefon SonyEricsson T610 s foťákem můžete mít už za 5577\\nKč. A k tomu až 120 MMS zdarma! http://ad2.seznam.cz/redir.cgi?instance=60089%26url=http://www.oskarmobil.cz/services/whatsnew.php'\n",
      " \"TREAT AS URGENT. FROM THE DESK OF MR IRU DUNU EDWIN\\nAUDITING AND ACCOUNTING MANEGER ,\\nBANK OF AFRICA (B.O.A)\\nOUAGADOUGOU-BURKINA FASO.\\n\\nDear Friend,\\n\\nI am the manager of auditing and accounting at the foreign remittance \\ndepartment of BANK OF AFRICA (B.O.A) here in Ouagadougou, Burkina Faso. In \\nmy department we discovered an abandoned sum of US$12m dollars (Twelve \\nMillion US dollars) in an account that belongs to one of our for eign \\ncustomer (MR. ANDREAS SCHRANNER from Munich, Germany) who died along with \\nhis entire family in Jully 2000 in a plane crash.For more informations about \\nthe crash you\\ncan visit this site: http://news.bbc.co.uk/1/hi/world/europe/859479.stm\\nSince we got information about his death,\\n\\nwe have been expecting his next of kin to come over and claim his money \\nbecause we cannot release it unless some body applies for it as next of kin \\nor relation to the deceased as indicated in our banking guidlings and laws \\nbut unfortunately we learnt that all his supposed next of kin or relation \\ndied alongside with him at the plane  crash leaving nobody behind for the \\nclaim. It is therefore upon this discovery  that I now decided to make this \\nbusiness proposal to you and release the money to you as the next of kin or \\nrelation to the deceased for safety  and subsequent disbursement since \\nnobody is coming for it and we don't want  this money to go into the bank \\ntreasury as unclaimed bill.\\n\\nThe banking law and guidline here stipulates that if such money remained \\nunclaimed after five years, the money will be transfered into the bank \\ntreasury as unclaimed fund. The request of foreigner as next of kin in this \\nbusiness is occassioned by the fact that the customer was a foreigner and a \\nBurkinabe cannot stand as next of kin to a foreigner.\\n\\nI agree that 30% of this money will be for you as a respect to the provision \\nof a foriegn account ,10% will be set aside for expenses incurred during the \\nbusiness and 60% would be for me Thereafter, I will visit your country for \\ndisbursement according to the percentage indicated Therefore, to enable  the \\nimmediate transfer of this fund to you arranged,you must apply first  to the \\nbank as relation or next of kin of the deceased with a text of application \\nthat i will send to you,so i will like you to send to me your private \\ntelephone and fax number for easy and effective communication and location \\nwhere in the money will be remitted.\\n\\n\\nUpon receipt of your reply, I will send to you by fax or email the text  of \\nthe application.I will not fail to bring to your notice this transaction  is \\nhitch-free and that you should not entertain any atom of fear as all  \\nrequired arrangements have been made for the transfer. You should contact\\nme immediately as soon as you received this letter.\\n\\nTrusting to hear from you immediately.Yours Faithfully,\\n1. Full Name\\n2. Your Telephone Number and Fax Number\\n3. Your Contact Address.\\n\\nThank You.\\n\\nMR IRU DUNU EDWIN\\n\\n_________________________________________________________________\\nMSN Hotmail : crez votre adresse e-mail gratuite &  vie ! \\nhttp://www.msn.fr/newhotmail/Default.asp?Ath=f\"\n",
      " \"urgent business proposal. Dearest one,\\n\\nI Hope that this mail reaches you in good condition,having gotten your email contact from the computer datas. \\n\\nI am Mr, Randy  Bikom 36yrs from cote d' ivoire in West Africa the driver and house help to Dr. George Brumley a citizen of Atlanta, United States of America\\nwho died on Sunday, July 21, 2003 on a plane crash, I later discovered some documents containing his dealings with a Bank here in cote d'ivoire where he deposited $14 Million dollars USD with the bank. \\nPlease i have all the proof of documents that covers the fund as the driver with me so this transaction is 100% risk free. \\nSo i want you to contact the bank for the claim of this funds out from the Bank as the relatives then we can use the money for investment there in your country since my country will be going into presidential election so the safty of this fund is what that concern me to enable me take my own shear and take care of my life.\\nPlease read more information about him in this website: \\nhttp://www.cnn.com/2003/WORLD/africa/07/20/kenya.crash/index.html\\nUpon your acceptance please include your full information, your names ,age, nationality, home address and contact numbers( phone and fax), then i shall give you more details on this transaction and what next to do. \\nlf this proposal arouse your interest kindly contact me with this private email address: larry4bikom@yahoo.com\\n\\nThanks for your cooperation.\\nBest Regards,\\nMr, Randy Bikom.\\n\\n \\t\\t\\n---------------------------------\\nOn Yahoo!7\\n  Check out PS Trixi - The hot new online adventure  \\n \\t\\t\\n---------------------------------\\nOn Yahoo!7 \\n  360&#176;: Share your blog, photos, interests and what matters most to you\"\n",
      " 'YUKOS OIL FUNDS PARTERSHIP. Dear Sir/ Madam , \\n \\nI , Representing Mr. Mikhail Khodorkovsky (M.K.) would like to ask for your partnership in Re-profiling funds over US$423 million. I will give the details, but in summary, the funds are coming via bank Menatep, Gibraltar and this is a legitimate transaction. You will be paid 4% for your \"management fees\". \\nIf you are interested, Please write back and I will provide further instructions. Keep this confidential. Finally, please note that this must be concluded soonest. \\nWrite me back on this mail box, steinjammy@netscape.net\\n \\nI look forward to it. \\n \\nRegards.\\n \\nJames Stein']\n"
     ]
    },
    {
     "ename": "ValueError",
     "evalue": "all the input array dimensions except for the concatenation axis must match exactly, but along dimension 0, the array at index 0 has size 256 and the array at index 1 has size 1256",
     "output_type": "error",
     "traceback": [
      "\u001b[1;31m---------------------------------------------------------------------------\u001b[0m",
      "\u001b[1;31mValueError\u001b[0m                                Traceback (most recent call last)",
      "Cell \u001b[1;32mIn[32], line 13\u001b[0m\n\u001b[0;32m     10\u001b[0m hidden_size \u001b[38;5;241m=\u001b[39m \u001b[38;5;241m256\u001b[39m\n\u001b[0;32m     11\u001b[0m input_size \u001b[38;5;241m=\u001b[39m hidden_size \u001b[38;5;241m+\u001b[39m vocab_size\n\u001b[1;32m---> 13\u001b[0m finalCell \u001b[38;5;241m=\u001b[39m \u001b[43mtrain_LSTM\u001b[49m\u001b[43m(\u001b[49m\u001b[43minput_size\u001b[49m\u001b[43m,\u001b[49m\u001b[43m \u001b[49m\u001b[43mhidden_size\u001b[49m\u001b[43m,\u001b[49m\u001b[43m \u001b[49m\u001b[43mdataset\u001b[49m\u001b[43m)\u001b[49m\n",
      "Cell \u001b[1;32mIn[31], line 3\u001b[0m, in \u001b[0;36mtrain_LSTM\u001b[1;34m(input_size, hidden_size, dataset)\u001b[0m\n\u001b[0;32m      1\u001b[0m \u001b[38;5;28;01mdef\u001b[39;00m \u001b[38;5;21mtrain_LSTM\u001b[39m(input_size, hidden_size, dataset):\n\u001b[1;32m----> 3\u001b[0m     cell \u001b[38;5;241m=\u001b[39m \u001b[43minitialize_cell\u001b[49m\u001b[43m(\u001b[49m\u001b[43minput_size\u001b[49m\u001b[43m,\u001b[49m\u001b[43m \u001b[49m\u001b[43mhidden_size\u001b[49m\u001b[43m)\u001b[49m\n\u001b[0;32m      5\u001b[0m     losses \u001b[38;5;241m=\u001b[39m []\n\u001b[0;32m      7\u001b[0m     \u001b[38;5;28;01mfor\u001b[39;00m data \u001b[38;5;129;01min\u001b[39;00m dataset:\n",
      "Cell \u001b[1;32mIn[27], line 6\u001b[0m, in \u001b[0;36minitialize_cell\u001b[1;34m(input_size, hidden_size)\u001b[0m\n\u001b[0;32m      2\u001b[0m \u001b[38;5;28;01mdef\u001b[39;00m \u001b[38;5;21minitialize_cell\u001b[39m(input_size, hidden_size):\n\u001b[0;32m      4\u001b[0m     cell \u001b[38;5;241m=\u001b[39m {}\n\u001b[1;32m----> 6\u001b[0m     cell[\u001b[38;5;124m\"\u001b[39m\u001b[38;5;124mW_i\u001b[39m\u001b[38;5;124m\"\u001b[39m] \u001b[38;5;241m=\u001b[39m \u001b[43mnp\u001b[49m\u001b[38;5;241;43m.\u001b[39;49m\u001b[43mhstack\u001b[49m\u001b[43m(\u001b[49m\u001b[43m(\u001b[49m\u001b[43mnp\u001b[49m\u001b[38;5;241;43m.\u001b[39;49m\u001b[43mrandom\u001b[49m\u001b[38;5;241;43m.\u001b[39;49m\u001b[43mnormal\u001b[49m\u001b[43m(\u001b[49m\u001b[38;5;241;43m0\u001b[39;49m\u001b[43m,\u001b[49m\u001b[38;5;241;43m1\u001b[39;49m\u001b[43m,\u001b[49m\u001b[43m(\u001b[49m\u001b[43mhidden_size\u001b[49m\u001b[43m,\u001b[49m\u001b[43mhidden_size\u001b[49m\u001b[43m)\u001b[49m\u001b[43m)\u001b[49m\u001b[43m,\u001b[49m\u001b[43m \u001b[49m\u001b[43mnp\u001b[49m\u001b[38;5;241;43m.\u001b[39;49m\u001b[43mrandom\u001b[49m\u001b[38;5;241;43m.\u001b[39;49m\u001b[43mnormal\u001b[49m\u001b[43m(\u001b[49m\u001b[38;5;241;43m0\u001b[39;49m\u001b[43m,\u001b[49m\u001b[38;5;241;43m1\u001b[39;49m\u001b[43m,\u001b[49m\u001b[43m(\u001b[49m\u001b[43minput_size\u001b[49m\u001b[43m,\u001b[49m\u001b[43mhidden_size\u001b[49m\u001b[43m)\u001b[49m\u001b[43m)\u001b[49m\u001b[43m)\u001b[49m\u001b[43m)\u001b[49m \u001b[38;5;66;03m#input gate weights\u001b[39;00m\n\u001b[0;32m      7\u001b[0m     cell[\u001b[38;5;124m\"\u001b[39m\u001b[38;5;124mW_f\u001b[39m\u001b[38;5;124m\"\u001b[39m] \u001b[38;5;241m=\u001b[39m np\u001b[38;5;241m.\u001b[39mhstack((np\u001b[38;5;241m.\u001b[39mrandom\u001b[38;5;241m.\u001b[39mnormal(\u001b[38;5;241m0\u001b[39m,\u001b[38;5;241m1\u001b[39m,(hidden_size,hidden_size)), np\u001b[38;5;241m.\u001b[39mrandom\u001b[38;5;241m.\u001b[39mnormal(\u001b[38;5;241m0\u001b[39m,\u001b[38;5;241m1\u001b[39m,(input_size,hidden_size)))) \u001b[38;5;66;03m#forget gate weights\u001b[39;00m\n\u001b[0;32m      8\u001b[0m     cell[\u001b[38;5;124m\"\u001b[39m\u001b[38;5;124mW_c\u001b[39m\u001b[38;5;124m\"\u001b[39m] \u001b[38;5;241m=\u001b[39m np\u001b[38;5;241m.\u001b[39mhstack((np\u001b[38;5;241m.\u001b[39mrandom\u001b[38;5;241m.\u001b[39mnormal(\u001b[38;5;241m0\u001b[39m,\u001b[38;5;241m1\u001b[39m,(hidden_size,hidden_size)), np\u001b[38;5;241m.\u001b[39mrandom\u001b[38;5;241m.\u001b[39mnormal(\u001b[38;5;241m0\u001b[39m,\u001b[38;5;241m1\u001b[39m,(input_size,hidden_size)))) \u001b[38;5;66;03m#candidate gate weights\u001b[39;00m\n",
      "File \u001b[1;32mc:\\Python312\\Lib\\site-packages\\numpy\\core\\shape_base.py:359\u001b[0m, in \u001b[0;36mhstack\u001b[1;34m(tup, dtype, casting)\u001b[0m\n\u001b[0;32m    357\u001b[0m     \u001b[38;5;28;01mreturn\u001b[39;00m _nx\u001b[38;5;241m.\u001b[39mconcatenate(arrs, \u001b[38;5;241m0\u001b[39m, dtype\u001b[38;5;241m=\u001b[39mdtype, casting\u001b[38;5;241m=\u001b[39mcasting)\n\u001b[0;32m    358\u001b[0m \u001b[38;5;28;01melse\u001b[39;00m:\n\u001b[1;32m--> 359\u001b[0m     \u001b[38;5;28;01mreturn\u001b[39;00m \u001b[43m_nx\u001b[49m\u001b[38;5;241;43m.\u001b[39;49m\u001b[43mconcatenate\u001b[49m\u001b[43m(\u001b[49m\u001b[43marrs\u001b[49m\u001b[43m,\u001b[49m\u001b[43m \u001b[49m\u001b[38;5;241;43m1\u001b[39;49m\u001b[43m,\u001b[49m\u001b[43m \u001b[49m\u001b[43mdtype\u001b[49m\u001b[38;5;241;43m=\u001b[39;49m\u001b[43mdtype\u001b[49m\u001b[43m,\u001b[49m\u001b[43m \u001b[49m\u001b[43mcasting\u001b[49m\u001b[38;5;241;43m=\u001b[39;49m\u001b[43mcasting\u001b[49m\u001b[43m)\u001b[49m\n",
      "\u001b[1;31mValueError\u001b[0m: all the input array dimensions except for the concatenation axis must match exactly, but along dimension 0, the array at index 0 has size 256 and the array at index 1 has size 1256"
     ]
    }
   ],
   "source": [
    "\n",
    "batch_size = 16\n",
    "dataset = load_emails(batch_size)\n",
    "\n",
    "ex_email = dataset[random.randint(0, 50)]\n",
    "print(ex_email)\n",
    "\n",
    "\n",
    "vocab_size = 1000\n",
    "\n",
    "hidden_size = 256\n",
    "input_size = hidden_size + vocab_size\n",
    "\n",
    "finalCell = train_LSTM(input_size, hidden_size, dataset)"
   ]
  },
  {
   "cell_type": "code",
   "execution_count": null,
   "metadata": {},
   "outputs": [],
   "source": []
  },
  {
   "attachments": {},
   "cell_type": "markdown",
   "id": "044e084f",
   "metadata": {},
   "source": [
    "3. After this you can put it together with your model to make your full *forward()* method, which will do a forward pass through your entire model (each layer, including the nonlinearities). It’s important to note that the final layer is not followed by a nonlinearity. You also must save every intermittent value in the cache (again for use later).\n",
    "\n",
    "It is important to not only do the forward pass, but also cache the intermittent values so that we (well, *you* ) can do backpropogation next."
   ]
  },
  {
   "attachments": {},
   "cell_type": "markdown",
   "id": "6942feb6",
   "metadata": {},
   "source": [
    "Use this code to test your backprop and loss function, this test is not extensive though, you should try more network sizes using your math"
   ]
  },
  {
   "cell_type": "code",
   "execution_count": 45,
   "id": "fae2de66",
   "metadata": {},
   "outputs": [
    {
     "name": "stdout",
     "output_type": "stream",
     "text": [
      "your grad for W0: [[1.47722818]\n",
      " [1.94281755]\n",
      " [2.17819972]\n",
      " [1.05121284]\n",
      " [1.70709924]]\n",
      "correct grad for W0: [[1.47722818]\n",
      " [1.94281755]\n",
      " [2.17819972]\n",
      " [1.05121284]\n",
      " [1.70709924]]\n",
      "\n",
      "Now larger Network ----------------------------\n",
      "\n",
      "your grad for W0: [[-0.12930419  0.25562847  0.21567078  0.02922955]\n",
      " [-0.13911388  0.27461218  0.22273239  0.01330716]\n",
      " [-0.21457969  0.3644739   0.33975462 -0.01429388]\n",
      " [-0.11344546  0.16208002  0.16929955 -0.04171324]\n",
      " [-0.14651745  0.24768843  0.22581611 -0.02222018]]\n",
      "your grad for W1: [[-1.29491158 -0.75953234]\n",
      " [-5.10970175 -3.43050998]\n",
      " [-4.56368491 -2.75302084]\n",
      " [-0.83895712 -0.44106145]]\n"
     ]
    }
   ],
   "source": [
    "x = np.random.rand(3, 5)*0.9\n",
    "\n",
    "# print()\n",
    "# print(\"Single layer Network ----------------------------\")\n",
    "# print()\n",
    "\n",
    "params = {\"W0\": np.random.rand(5,1), \"b0\": np.random.rand(1)}\n",
    "\n",
    "your_pred, your_cache = forward(params, x)\n",
    "# print(your_cache)\n",
    "y = np.random.rand(3,1) \n",
    "\n",
    "your_grad, your_loss = backprop_and_loss(params, your_pred, your_cache, y)\n",
    "\n",
    "print(\"your grad for W0:\", your_grad[\"W0\"])\n",
    "print(\"correct grad for W0:\", x.T.dot(2*(your_pred-y)))\n",
    "\n",
    "# print(\"your loss:\", your_loss)\n",
    "# print(\"correct loss:\", np.mean((your_pred-y)**2) )\n",
    "\n",
    "params = {\"W0\": np.random.randn(5,4), \"b0\": np.zeros((4))}\n",
    "\n",
    "params[\"W1\"] = np.random.randn(4,2)\n",
    "params[\"b1\"] = np.zeros((2))\n",
    "\n",
    "your_pred, your_cache = forward(params, x)\n",
    "# print(your_cache)\n",
    "y = np.random.rand(your_pred.shape[0],your_pred.shape[1]) \n",
    "\n",
    "print()\n",
    "print(\"Now larger Network ----------------------------\")\n",
    "print()\n",
    "\n",
    "your_grad, your_loss = backprop_and_loss(params, your_pred, your_cache, y)\n",
    "\n",
    "print(\"your grad for W0:\", your_grad[\"W0\"])\n",
    "print(\"your grad for W1:\", your_grad[\"W1\"])\n",
    "#print(\"correct grad for W0:\", x.T.dot(2*(your_pred-y)))\n",
    "\n",
    "# print(\"your loss:\", your_loss)\n",
    "# print(\"correct loss:\", np.mean((your_pred-y)**2) )\n",
    "\n"
   ]
  },
  {
   "cell_type": "markdown",
   "id": "3102de34",
   "metadata": {},
   "source": [
    "6. Now it’s time to actually do the learning! You must complete the *gradient_descent()* method which will call all of your other methods to find first the prediction, then the loss and gradient. It will then use them to do gradient descent on the entire parameter dictionary (using the corresponding gradients). You’re free to do this however you see fit (as long as it works!)"
   ]
  },
  {
   "cell_type": "code",
   "execution_count": 46,
   "id": "844e0a09",
   "metadata": {},
   "outputs": [],
   "source": [
    "def gradient_descent(X : np.ndarray, Y : np.ndarray, initial_params : dict, lr : float, num_iterations : int)->Tuple[List[float], np.ndarray]:\n",
    "    \"\"\"\n",
    "    This function runs gradient descent for a fixed number of iterations on the\n",
    "    mean squared loss for a linear model parameterized by the weight vector w.\n",
    "    This function returns a list of the losses for each iteration of gradient\n",
    "    descent along with the final weight vector.\n",
    "    Parameters\n",
    "    ----------\n",
    "    X : np.ndarray\n",
    "        A 2D numpy array representing input where each row represents a feature vector\n",
    "    Y : np.ndarray\n",
    "        A 1D numpy array where each element represents a label for MSE\n",
    "    initial_params : dictionary\n",
    "        A dictionary holding the initialization of all parameters of the model as np.ndarrays\n",
    "        (e.g. key 'W0' maps to the first weight array of the neural net) \n",
    "    lr : float\n",
    "        The step-size parameter to use with gradient descent.\n",
    "    num_iterations : int\n",
    "        The number of iterations of gradient descent to run.\n",
    "    Returns\n",
    "    -------\n",
    "    losses : list\n",
    "        A list of floats representing the loss from each iteration and the\n",
    "        loss of the final weight vector\n",
    "    final_params : dictionary \n",
    "        A dictionary holding all of the parameters after training as np.ndarrays\n",
    "        (this should have the same mapping as initial_params, just with updated arrays) \n",
    "    \"\"\"\n",
    "\n",
    "    losses = []\n",
    "    final_params = {}\n",
    "\n",
    "    for n in tqdm(range(num_iterations)):  #tqdm will create a loading bar for your loop\n",
    "        \n",
    "        prediction, cache = forward(initial_params, X)\n",
    "\n",
    "        gradient, loss = backprop_and_loss(initial_params, prediction, cache, Y)\n",
    "\n",
    "        losses.append(loss)\n",
    "\n",
    "        for i in range(0,len(initial_params)//2):\n",
    "\n",
    "            initial_params[\"W\" + str(i)] -= lr*gradient[\"W\" + str(i)]\n",
    "            initial_params[\"b\" + str(i)] -= lr*gradient[\"b\"+ str(i)]\n",
    "    \n",
    "    return losses, initial_params"
   ]
  },
  {
   "attachments": {},
   "cell_type": "markdown",
   "id": "bfc56d9a",
   "metadata": {},
   "source": [
    "7. Now you can run it! And once you fix the 1000 bugs that you have... you can run it again and hopefully you see something *somewhat* like below – if you do, congrats! You (probably) have it working:\n",
    "\n",
    "\n",
    "Run both of these blocks and see if your graph looks similar"
   ]
  },
  {
   "cell_type": "code",
   "execution_count": 47,
   "id": "fc6da60e",
   "metadata": {},
   "outputs": [],
   "source": [
    "def learning_curve(losses: list, names : list):\n",
    "    \"\"\"\n",
    "    This function plots the learning curves for all gradient descent procedures in this homework.\n",
    "    The plot is saved in the file learning_curve.png. No TODO here\n",
    "    Parameters\n",
    "    ----------\n",
    "    losses : list\n",
    "        A list of arrays representing the losses for the gradient at each iteration for each run of gradient descent\n",
    "    names : list\n",
    "        A list of strings representing the names for each gradient descent method\n",
    "    Returns\n",
    "    -------\n",
    "    nothing\n",
    "    \"\"\"\n",
    "    for loss in losses:\n",
    "        plt.plot(loss)\n",
    "    plt.xscale(\"log\")\n",
    "    plt.ylim(0, 10000)\n",
    "    plt.xlabel(\"Iterations\")\n",
    "    plt.ylabel(\"Squared Loss\")\n",
    "    plt.title(\"Gradient Descent\")\n",
    "    plt.legend(names)\n",
    "    plt.savefig(\"learning_curve.png\")\n",
    "    plt.show()\n"
   ]
  },
  {
   "cell_type": "code",
   "execution_count": 49,
   "id": "8495880f",
   "metadata": {},
   "outputs": [
    {
     "name": "stdout",
     "output_type": "stream",
     "text": [
      "(800, 17)\n"
     ]
    },
    {
     "name": "stderr",
     "output_type": "stream",
     "text": [
      "  9%|▊         | 859/10000 [00:00<00:01, 8088.86it/s]"
     ]
    },
    {
     "name": "stderr",
     "output_type": "stream",
     "text": [
      "100%|██████████| 10000/10000 [00:01<00:00, 8998.39it/s]\n",
      "100%|██████████| 10000/10000 [00:01<00:00, 5081.00it/s]\n",
      "100%|██████████| 10000/10000 [00:02<00:00, 3578.61it/s]\n"
     ]
    },
    {
     "name": "stdout",
     "output_type": "stream",
     "text": [
      "final training loss values\n",
      "single layer.........   161.5\n",
      "two layer............   154.7\n",
      "many layer...........   160.7\n"
     ]
    },
    {
     "data": {
      "image/png": "[encoded data removed]",
      "text/plain": [
       "<Figure size 640x480 with 1 Axes>"
      ]
     },
     "metadata": {},
     "output_type": "display_data"
    },
    {
     "name": "stdout",
     "output_type": "stream",
     "text": [
      "test loss of model 1: 105790.8732068747\n",
      "test loss of model 2: 113569.83930553994\n",
      "test loss of model 3: 124403.70111095396\n"
     ]
    },
    {
     "name": "stderr",
     "output_type": "stream",
     "text": [
      "100%|██████████| 10000/10000 [00:04<00:00, 2195.09it/s]"
     ]
    },
    {
     "name": "stdout",
     "output_type": "stream",
     "text": [
      "0.1011\n",
      "test loss of your \"best\" model: 130367.64292079299\n"
     ]
    },
    {
     "name": "stderr",
     "output_type": "stream",
     "text": [
      "\n"
     ]
    }
   ],
   "source": [
    "def train_networks():\n",
    "    Train_X, Train_Y = load_data(\"StudentsPerformance.csv\", \"train\")  # load the data set\n",
    "\n",
    "    N = 10000 # N needs to equal 10,000 for your final plot. You can lower it to tune hyperparameters.\n",
    "    print(Train_X.shape)\n",
    "\n",
    "    init_params0 = initialize_network([17,3], scale=0.1) # initializes a sigle layer network (perceptron)\n",
    "    losses0, final_params0 = gradient_descent(Train_X, Train_Y, init_params0, lr=1e-6, num_iterations=N)  \n",
    "\n",
    "    init_params1 = initialize_network([17, 5, 3], scale=0.1)  # initializes a two layer network\n",
    "    losses1, final_params1 = gradient_descent(Train_X, Train_Y, init_params1, lr=1e-6, num_iterations=N)  \n",
    "   \n",
    "    init_params2 = initialize_network([17, 7, 3, 3], scale=0.1)  # initializes a many layer network\n",
    "    losses2, final_params2 = gradient_descent(Train_X, Train_Y, init_params2, lr=1e-6, num_iterations=N)   \n",
    "\n",
    "    all_losses = [losses0, losses1, losses2]\n",
    "    names = [\"single layer\", \"two layer\", \"many layer\"]\n",
    "    print(\"final training loss values\")\n",
    "    for name, losses in zip(names, all_losses):\n",
    "        print(\"{0:.<21}{1:>8.1f}\".format(name, float(losses[-1])))\n",
    "\n",
    "    learning_curve(all_losses, names)\n",
    "\n",
    "    # TESTING \n",
    "\n",
    "    Test_X, Test_Y = load_data(\"StudentsPerformance.csv\", \"test\")\n",
    "\n",
    "    pred0, _ = forward(final_params0, Test_X)\n",
    "    test_loss0 = np.sum(np.square(Test_Y  - pred0)) \n",
    "    print(\"test loss of model 1:\", test_loss0)\n",
    "\n",
    "    pred1, _ = forward(final_params1, Test_X)\n",
    "    test_loss1 = np.sum(np.square(Test_Y  - pred1)) \n",
    "    print(\"test loss of model 2:\", test_loss1)\n",
    "\n",
    "    pred2, _ = forward(final_params2, Test_X)\n",
    "    test_loss2 = np.sum(np.square(Test_Y  - pred2)) \n",
    "    print(\"test loss of model 3:\", test_loss2)\n",
    "\n",
    "    # TODO choose the hyper parameters for your best model (change them in train_best_model() )\n",
    "    # You'll have to uncomment the below lines for once you find your best model\n",
    "\n",
    "    best_losses, best_params = train_best_model(Train_X, Train_Y) \n",
    "    best_pred, _ = forward(best_params, Test_X)\n",
    "    best_loss = np.sum(np.square(Test_Y - best_pred)) \n",
    "    print(\"test loss of your \\\"best\\\" model:\", best_loss)\n",
    "\n",
    "\n",
    "train_networks()"
   ]
  },
  {
   "attachments": {},
   "cell_type": "markdown",
   "id": "f0da1fdc",
   "metadata": {},
   "source": [
    "### 4a) That other bit you forgot about until now (10 points)\n",
    "1. Use *train_best_model()* (you’ll need to find some good hyperparameters) and plot its training alongside the other 3 models (you’ll need to change code in main to plot this) and show it here – Describe your best model and list the values of its hyperparameters here. You should be able to do significantly better than the default, you will be checked for the code you used to find a best model and for the quality of your final loss."
   ]
  },
  {
   "cell_type": "code",
   "execution_count": 48,
   "id": "f258f26e",
   "metadata": {},
   "outputs": [
    {
     "name": "stderr",
     "output_type": "stream",
     "text": [
      "  2%|▏         | 174/10000 [00:00<00:05, 1649.68it/s]"
     ]
    },
    {
     "name": "stderr",
     "output_type": "stream",
     "text": [
      "100%|██████████| 10000/10000 [00:04<00:00, 2109.62it/s]"
     ]
    },
    {
     "name": "stdout",
     "output_type": "stream",
     "text": [
      "0.1011\n",
      "final loss: 133.28059750877068\n"
     ]
    },
    {
     "name": "stderr",
     "output_type": "stream",
     "text": [
      "\n"
     ]
    }
   ],
   "source": [
    "def train_best_model(Train_X, Train_Y):\n",
    "    \"\"\"\n",
    "    This function will train the model with the hyper parameters\n",
    "    and layers that you have found to be best -- this model must get below 3\n",
    "    MSE loss on our test data (which is not the test data you are given)\n",
    "    \"\"\"\n",
    "\n",
    "    BEST_SCALE = 0.1011            # You need\n",
    "    BEST_LAYERS = [17, 15, 3]          # to change\n",
    "    BEST_ALPHA = 0.00001             # these\n",
    "    BEST_NUM_ITERATIONS = 10000    # !\n",
    "\n",
    "\n",
    "    best_params = initialize_network(BEST_LAYERS, BEST_SCALE)\n",
    "    best_losses, best_final_params = gradient_descent(Train_X, Train_Y, best_params, lr=BEST_ALPHA, num_iterations=BEST_NUM_ITERATIONS)\n",
    "\n",
    "    print(BEST_SCALE)\n",
    "    return best_losses, best_final_params\n",
    "\n",
    "Train_X, Train_Y = load_data(\"StudentsPerformance.csv\", \"train\")  # load the data set  \n",
    "best_losses,best_final_params = train_best_model(Train_X, Train_Y)\n",
    "\n",
    "print(\"final loss:\", best_losses[-1])     "
   ]
  },
  {
   "cell_type": "markdown",
   "id": "ab6306a5",
   "metadata": {},
   "source": []
  },
  {
   "attachments": {},
   "cell_type": "markdown",
   "id": "14038e05",
   "metadata": {},
   "source": [
    "2. Now note the printed test losses (the loss on the test set which isn’t trained on), for the 3 original models and your best, show the train loss and test loss. What is the relationship between these, explain why you think this is?\n",
    "\n",
    "test loss of model 1: 105753.67332288889\n",
    "test loss of model 2: 113589.8688507396\n",
    "test loss of model 3: 121774.24686293973\n",
    "test loss of your \"best\" model: 135425.31890427636\n",
    "\n",
    "single layer.........   161.5\n",
    "two layer............   154.8\n",
    "many layer...........   164.2\n",
    "final loss...........   132.2\n",
    "\n",
    "The test loss seems inversely proportional to the train loss. \n",
    "This may be due to my best model overfitting, leading to poor generalization."
   ]
  },
  {
   "cell_type": "markdown",
   "id": "460ea208",
   "metadata": {},
   "source": [
    "### 5) Time to Convert to PDF! (No Skipping this Step 🚀)\n",
    "\n",
    "Hi! Congrats on finishing (or reading ahead)! We'll be using the google colab library to convert your notebook into a pdf, so you'll need to convert to colab if you're not using it (or finding another way to convert to a pdf):\n",
    "\n",
    "📤 **Uploading to Colab from Your System? Here's How:**\n",
    "1. Go to [colab](https://colab.research.google.com/).\n",
    "2. Hit \"upload\" on the left sidebar of the pop-up box.\n",
    "3. Upload the notebook.\n",
    "4. It's alright if you've already run your code, the outputs of the cells should be brought over too.\n",
    "\n",
    "🛣️ **Once you're on colab (or if you always were):**\n",
    "1. First things first, click on File > Locate in Drive.\n",
    "2. Next up, copy the path of the folder where your notebook resides in your Drive and paste it in variable named `DIR_FOR_COLAB_NOTEBOOK` in the cell below. (Usually, it's just 'Colab Notebooks/')\n",
    "3. Next asisgn the variable named `NOTEBOOK_NAME` with the name of your notebook. Easy peasy!\n",
    "4. Run the final cells\n",
    "5. Double check the pdf has all of your code and outputs then slam that bad boy into gradescope.\n"
   ]
  },
  {
   "cell_type": "code",
   "execution_count": 33,
   "id": "41a29d1b",
   "metadata": {},
   "outputs": [],
   "source": [
    "DIR_FOR_COLAB_NOTEBOOK = 'Colab Notebooks/' #Please update it to the correct directory following the instruction\n",
    "NOTEBOOK_NAME = 'HW2_notebook.ipynb' #Please update this to the name of the file you see on top right next to colab logo"
   ]
  },
  {
   "cell_type": "code",
   "execution_count": 34,
   "id": "28e07f22",
   "metadata": {},
   "outputs": [
    {
     "ename": "ModuleNotFoundError",
     "evalue": "No module named 'google'",
     "output_type": "error",
     "traceback": [
      "\u001b[1;31m---------------------------------------------------------------------------\u001b[0m",
      "\u001b[1;31mModuleNotFoundError\u001b[0m                       Traceback (most recent call last)",
      "Cell \u001b[1;32mIn[34], line 2\u001b[0m\n\u001b[0;32m      1\u001b[0m \u001b[38;5;28;01mimport\u001b[39;00m \u001b[38;5;21;01mos\u001b[39;00m\n\u001b[1;32m----> 2\u001b[0m \u001b[38;5;28;01mfrom\u001b[39;00m \u001b[38;5;21;01mgoogle\u001b[39;00m\u001b[38;5;21;01m.\u001b[39;00m\u001b[38;5;21;01mcolab\u001b[39;00m \u001b[38;5;28;01mimport\u001b[39;00m drive, files\n\u001b[0;32m      3\u001b[0m \u001b[38;5;28;01mimport\u001b[39;00m \u001b[38;5;21;01msubprocess\u001b[39;00m\n\u001b[0;32m      5\u001b[0m \u001b[38;5;28;01massert\u001b[39;00m DIR_FOR_COLAB_NOTEBOOK \u001b[38;5;129;01mis\u001b[39;00m \u001b[38;5;129;01mnot\u001b[39;00m \u001b[38;5;28;01mNone\u001b[39;00m, \u001b[38;5;124m\"\u001b[39m\u001b[38;5;124mPlease update the variable DIR_FOR_COLAB_NOTEBOOK to the correct directory\u001b[39m\u001b[38;5;124m\"\u001b[39m\n",
      "\u001b[1;31mModuleNotFoundError\u001b[0m: No module named 'google'"
     ]
    }
   ],
   "source": [
    "import os\n",
    "from google.colab import drive, files\n",
    "import subprocess\n",
    "\n",
    "assert DIR_FOR_COLAB_NOTEBOOK is not None, \"Please update the variable DIR_FOR_COLAB_NOTEBOOK to the correct directory\"\n",
    "assert NOTEBOOK_NAME is not None, \"Please update NOTEBOOK_NAME to correct notebook name\"\n",
    "\n",
    "print(\"\\n#Mounting google drive\\n\")\n",
    "drive.mount('/content/drive/')\n",
    "notebook_dir = os.path.join('/content/drive/MyDrive', DIR_FOR_COLAB_NOTEBOOK)\n",
    "os.chdir(notebook_dir)\n",
    "\n",
    "print(\"\\n#Installing Dependencies\\n\")\n",
    "print(\"Installing nbconvert...\", end=\"\")\n",
    "subprocess.run(f\"pip install nbconvert\", shell=True)\n",
    "print(\"Done\")\n",
    "print(\"Installing texlive and dependancies...\", end=\"\")\n",
    "subprocess.run(f\"apt-get install texlive texlive-xetex texlive-latex-extra pandoc\", shell=True)\n",
    "print(\"Done\")\n",
    "\n",
    "print(\"\\n#Converting to PDF\\n\")\n",
    "print(f\"Running the following command:\\njupyter nbconvert --to pdf {NOTEBOOK_NAME} --output {NOTEBOOK_NAME.replace('.ipynb', '.pdf')}\\n\")\n",
    "print(\"Started conversion...\", end=\"\")\n",
    "result = subprocess.run(f\"jupyter nbconvert --to pdf {NOTEBOOK_NAME} --output {NOTEBOOK_NAME.replace('.ipynb', '.pdf')}\", shell=True, stderr=subprocess.PIPE)\n",
    "print(\"Done\")\n",
    "print(\"\\n##Output of conversion:\\n\")\n",
    "print(result.stderr.decode())\n",
    "\n",
    "print(\"\\n#Downloading PDF file\\n\")\n",
    "files.download(NOTEBOOK_NAME.replace('.ipynb', '.pdf'))"
   ]
  }
 ],
 "metadata": {
  "kernelspec": {
   "display_name": "Python 3",
   "language": "python",
   "name": "python3"
  },
  "language_info": {
   "codemirror_mode": {
    "name": "ipython",
    "version": 3
   },
   "file_extension": ".py",
   "mimetype": "text/x-python",
   "name": "python",
   "nbconvert_exporter": "python",
   "pygments_lexer": "ipython3",
   "version": "3.12.1"
  },
  "vscode": {
   "interpreter": {
    "hash": "60268a3974607f958e98a9322dd45e6d52b600b97a1d9eef60ef15acbb670d09"
   }
  }
 },
 "nbformat": 4,
 "nbformat_minor": 5
}
