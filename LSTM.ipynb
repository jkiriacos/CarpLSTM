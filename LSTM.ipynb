{
 "cells": [
  {
   "cell_type": "code",
   "execution_count": 2,
   "id": "5da06227",
   "metadata": {},
   "outputs": [],
   "source": [
    "import numpy as np\n",
    "import matplotlib.pyplot as plt\n",
    "from typing import Tuple, List\n",
    "from tqdm import tqdm\n",
    "\n",
    "def load_data(file_path: str, label: str)->Tuple[np.ndarray, np.ndarray]:\n",
    "    '''\n",
    "    This function loads and parses text file separated by a ',' character and\n",
    "    returns a data set as two arrays, an array of features, and an array of labels.\n",
    "    Parameters\n",
    "    ----------\n",
    "    file_path : str\n",
    "                path to the file containing the data set\n",
    "    label : str\n",
    "                A label of whether to grab training or testing data\n",
    "    Returns\n",
    "    -------\n",
    "    features : ndarray\n",
    "                2D array of shape (n,c) containing features for the data set\n",
    "    labels : ndarray\n",
    "                2D array of shape (n,d) containing labels for the data set\n",
    "    '''\n",
    "    D = np.genfromtxt(file_path, delimiter=\",\")\n",
    "    if label == \"train\":\n",
    "        features = D[0:800, :-3]  # all columns but the last three\n",
    "        labels = D[0:800, -3:]  # the last 3 columns \n",
    "    else:\n",
    "        features = D[801:1000, :-3]  # all columns but the last three\n",
    "        labels = D[801:1000, -3:]  # the last 3 columns\n",
    "    \n",
    "    return features, labels"
   ]
  },
  {
   "cell_type": "code",
   "execution_count": 6,
   "id": "0e301245",
   "metadata": {},
   "outputs": [],
   "source": [
    "#Initialize helpful functions for math\n",
    "def sigmoid(x: np.ndarray):\n",
    "    return 1/(1+np.exp(-1*x))\n",
    "\n",
    "def sigmoid_derivative(x: np.ndarray):\n",
    "    return sigmoid(x)*(1-sigmoid(x))\n",
    "\n",
    "def tanh(x: np.ndarray):\n",
    "    return (np.exp(x) - np.exp(-x))/(np.exp(x)+np.exp(-x))\n",
    "    \n",
    "def tanh_derivative(x:np.ndarray):\n",
    "    return 1-np.square(tanh(x))\n",
    "\n",
    "def softmax(x: np.ndarray):\n",
    "    return np.exp(x)/np.sum(np.exp(x))"
   ]
  },
  {
   "cell_type": "code",
   "execution_count": 5,
   "id": "18d1a516",
   "metadata": {},
   "outputs": [],
   "source": [
    "#initializes the weights of the network\n",
    "def initialize_cell(input_size, hidden_size):\n",
    "\n",
    "    cell = {}\n",
    "\n",
    "    cell[\"W_i\"] = np.random.normal(0,1,(input_size+hidden_size,hidden_size)) #input gate weights\n",
    "    cell[\"W_f\"] = np.random.normal(0,1,(input_size+hidden_size,hidden_size)) #forget gate weights\n",
    "    cell[\"W_c\"] = np.random.normal(0,1,(input_size+hidden_size,hidden_size)) #candidate gate weights\n",
    "    cell[\"W_o\"] = np.random.normal(0,1,(input_size+hidden_size,hidden_size)) #output gate weights\n",
    "    cell[\"W_y\"] = np.random.normal(0,1,(input_size+hidden_size,hidden_size)) #final gate weights\n",
    "\n",
    "    cell[\"b_i\"] = np.zeros(hidden_size,1) #input gate biases\n",
    "    cell[\"b_f\"] = np.zeros(hidden_size,1) #forget gate biases\n",
    "    cell[\"b_c\"] = np.zeros(hidden_size,1) #candidate gate biases\n",
    "    cell[\"b_o\"] = np.zeros(hidden_size,1) #output gate biases\n",
    "    cell[\"b_y\"] = np.zeros(hidden_size,1) #final gate biases\n",
    "\n",
    "    return cell"
   ]
  },
  {
   "cell_type": "code",
   "execution_count": 7,
   "id": "348ff4c1",
   "metadata": {},
   "outputs": [],
   "source": [
    "# #forward pass of all gates\n",
    "# def forward_pass(cell, input):\n",
    "\n",
    "#     forward = {}\n",
    "\n",
    "#     forward[\"forget\"] = forward[\"cell_state\"] * sigmoid((input.dot(cell[\"W_hf\"]).dot(cell[\"activation\"]) + cell[\"b_hf\"]) + (input.dot(cell[\"W_f\"]).dot(input) + cell[\"b_i\"]))\n",
    "\n",
    "#     forward[\"candidate\"] = tanh((input.dot(cell[\"W_hc\"]).dot(cell[\"activation\"]) + cell[\"b_hc\"]) + (input.dot(cell[\"W_c\"]).dot(input) + cell[\"b_c\"]))\n",
    "\n",
    "#     forward[\"input\"] = sigmoid((input.dot(cell[\"W_hi\"]).dot(cell[\"activation\"]) + cell[\"b_hi\"]) + (input.dot(cell[\"W_i\"]).dot(input) + cell[\"b_i\"]))\n",
    "#     forward[\"input\"] = forward[\"input\"] * forward[\"candidate\"]\n",
    "\n",
    "#     forward[\"output\"] = sigmoid((input.dot(cell[\"W_ho\"]).dot(cell[\"activation\"]) + cell[\"b_ho\"]) + (input.dot(cell[\"W_o\"]).dot(input) + cell[\"b_o\"]))\n",
    "\n",
    "#     forward[\"cell_state\"] = forward[\"forget\"] + forward[\"input\"]\n",
    "#     forward[\"activation\"] = forward[\"output\"] * tanh(forward[\"cell_state\"])\n",
    "\n",
    "#     return forward\n",
    "\n",
    "#forward pass of all gates\n",
    "def forward_pass(cell, input):\n",
    "\n",
    "    forward = {}\n",
    "\n",
    "    Z = np.concatenate(cell[\"activation\"], input)\n",
    "\n",
    "    forward[\"forget\"] = forward[\"cell_state\"] * sigmoid(cell[\"W_f\"].dot(Z) + cell[\"b_f\"])\n",
    "\n",
    "    forward[\"candidate\"] = tanh(cell[\"W_c\"].dot(Z) + cell[\"b_c\"])\n",
    "\n",
    "    forward[\"input\"] = sigmoid(cell[\"W_i\"].dot(Z) + cell[\"b_i\"]) * forward[\"candidate\"]\n",
    "\n",
    "    forward[\"cell_state\"] = forward[\"forget\"] + forward[\"input\"]\n",
    "\n",
    "    forward[\"output\"] = tanh(forward[\"cell_state\"]) * sigmoid(cell[\"W_o\"].dot(Z) + cell[\"b_o\"]) \n",
    "\n",
    "    forward[\"activation\"] = forward[\"output\"] * tanh(forward[\"cell_state\"])\n",
    "\n",
    "    forward[\"final\"] = softmax(forward[\"activation\"].dot(cell[\"W_y\"]) + cell[\"b_y\"])\n",
    "\n",
    "    return forward"
   ]
  },
  {
   "cell_type": "code",
   "execution_count": 38,
   "id": "e7355acf",
   "metadata": {},
   "outputs": [],
   "source": [
    "def backpropagation(cell, forward):\n",
    "\n",
    "    \n",
    "\n",
    "    return 1"
   ]
  },
  {
   "cell_type": "code",
   "execution_count": 39,
   "id": "fe29d85e",
   "metadata": {},
   "outputs": [
    {
     "data": {
      "image/png": "[encoded data removed]",
      "text/plain": [
       "<Figure size 640x480 with 1 Axes>"
      ]
     },
     "metadata": {},
     "output_type": "display_data"
    }
   ],
   "source": [
    "example_inputs = np.arange(-5,5,0.25)\n",
    "your_output = sigmoid_forward(example_inputs)\n",
    "\n",
    "plt.plot(example_inputs, your_output)\n",
    "plt.title(\"Your sigmoid function\")\n",
    "plt.xlabel(\"Input\")\n",
    "plt.ylabel(\"Output\")\n",
    "plt.show()"
   ]
  },
  {
   "attachments": {},
   "cell_type": "markdown",
   "id": "044e084f",
   "metadata": {},
   "source": [
    "3. After this you can put it together with your model to make your full *forward()* method, which will do a forward pass through your entire model (each layer, including the nonlinearities). It’s important to note that the final layer is not followed by a nonlinearity. You also must save every intermittent value in the cache (again for use later).\n",
    "\n",
    "It is important to not only do the forward pass, but also cache the intermittent values so that we (well, *you* ) can do backpropogation next."
   ]
  },
  {
   "cell_type": "code",
   "execution_count": 40,
   "id": "9db3237a",
   "metadata": {},
   "outputs": [],
   "source": [
    "def forward(params: dict, X: np.ndarray):\n",
    "    \"\"\"\n",
    "    This function will perform the forward pass of your backprop algorithm\n",
    "    It will calculate your networks prediction using your parameters and\n",
    "    will keep a cache of all intermittent values (which you need for backprop)\n",
    "    ** YOU MUST COMPLETE THE \"sigmoid_forward()\" method for this part **\n",
    "    Parameters\n",
    "    ----------\n",
    "    params : dict\n",
    "        A dictionary that maps the labels: 'W0', 'W1', etc to their respective\n",
    "        weight matrices -- this is the current state of your params\n",
    "    X : np.ndarray\n",
    "        A 2D numpy array representing input where each row represents a feature vector\n",
    "    \n",
    "    Returns\n",
    "    ---------\n",
    "    prediction : np.ndarray\n",
    "        A 1D numpy array holding the predictions of your network given input X\n",
    "    cache : dict\n",
    "        A dictionary that holds all of the intermittent values calculated during your\n",
    "        forward pass of your network (the 'OUT' and 'A'  of each layer), you must have the\n",
    "        keys of this dictionary be of the form \"AL\" and \"OUTL\" where \"AL\" representes the input\n",
    "        to the L-th layer of weights and \"OUT(L+1)\" is the output after multiplying by weights in Layer L . \n",
    "        \n",
    "        X = OUT0 = A0\n",
    "        XW0 + b0 = OUT1\n",
    "        sigmoid(XW0 + b0) = A1\n",
    "        sigmoid(XW0 + b0)W1 + b1 = OUT2\n",
    "        ... \n",
    "\n",
    "        i.e \"OUT0\" will be the key for exactly the input X and \"A0\" will be (as a special case) also X  \n",
    "        generally \"AL\" will be sigma(\"OUTL\")\n",
    "    \"\"\"\n",
    "\n",
    "    cache = {}\n",
    "\n",
    "    cache[\"A0\"] = np.copy(X)\n",
    "\n",
    "    for i in range(1, len(params)//2):\n",
    "        cache[\"OUT\" + str(i)] = np.dot(cache[\"A\" + str(i-1)], params[\"W\" + str(i-1)]) + params[\"b\" + str(i-1)]\n",
    "        cache[\"A\" + str(i)] = sigmoid_forward(cache[\"OUT\" + str(i)])\n",
    "\n",
    "    cache[\"OUT\" + str(len(params)//2)] = np.dot(cache[\"A\" + str(len(params)//2-1)], params[\"W\" + str(len(params)//2-1)]) + params[\"b\" + str(len(params)//2-1)]\n",
    "\n",
    "    prediction = cache[\"OUT\" + str(len(params)//2)]\n",
    "\n",
    "    return prediction, cache"
   ]
  },
  {
   "attachments": {},
   "cell_type": "markdown",
   "id": "6c6029ad",
   "metadata": {},
   "source": [
    "Use this code to check that your forward pass works:"
   ]
  },
  {
   "cell_type": "code",
   "execution_count": 41,
   "id": "655fe9b9",
   "metadata": {},
   "outputs": [
    {
     "name": "stdout",
     "output_type": "stream",
     "text": [
      "\n",
      "Single layer Network ----------------------------\n",
      "\n",
      "your prediction: [[3.47329479 3.47329479 3.47329479 3.47329479]]\n",
      "correct prediction: [[3.47329479 3.47329479 3.47329479 3.47329479]]\n",
      "\n",
      "Now larger Network ----------------------------\n",
      "\n",
      "your ouput size with larger net: (3, 2) -- Should be (3,2)\n",
      "your Cache (check this looks right):\n",
      "\n",
      "A0 : [[0.80573763 0.79896571 0.74036695 0.5919434  0.75762073]\n",
      " [0.35511787 0.76911084 0.96929678 0.99445251 0.38531678]\n",
      " [0.30626958 0.42274283 0.35301689 0.27019025 0.31312242]]\n",
      "\n",
      "OUT1 : [[3.69463443 3.69463443 3.69463443 3.69463443]\n",
      " [3.47329479 3.47329479 3.47329479 3.47329479]\n",
      " [1.66534197 1.66534197 1.66534197 1.66534197]]\n",
      "\n",
      "A1 : [[0.97574632 0.97574632 0.97574632 0.97574632]\n",
      " [0.9699183  0.9699183  0.9699183  0.9699183 ]\n",
      " [0.8409538  0.8409538  0.8409538  0.8409538 ]]\n",
      "\n",
      "OUT2 : [[3.90298529 3.90298529]\n",
      " [3.8796732  3.8796732 ]\n",
      " [3.36381519 3.36381519]]\n"
     ]
    }
   ],
   "source": [
    "x = np.random.rand(3, 5)\n",
    "\n",
    "print()\n",
    "print(\"Single layer Network ----------------------------\")\n",
    "print()\n",
    "\n",
    "params = {\"W0\": np.ones((5,4)), \"b0\": np.zeros((4))}\n",
    "\n",
    "your_pred, _ = forward(params, x)\n",
    "\n",
    "print(\"your prediction:\", your_pred[1:2])\n",
    "print(\"correct prediction:\", (x.dot(params[\"W0\"]) + params[\"b0\"])[1:2])\n",
    "\n",
    "print()\n",
    "print(\"Now larger Network ----------------------------\")\n",
    "print()\n",
    "\n",
    "params[\"W1\"] = np.ones((4,2))\n",
    "params[\"b1\"] = np.zeros((2))\n",
    "\n",
    "your_pred, your_cache = forward(params, x)\n",
    "\n",
    "print(\"your ouput size with larger net:\", your_pred.shape, \"-- Should be (3,2)\" )\n",
    "print(\"your Cache (check this looks right):\")\n",
    "for key in your_cache:\n",
    "    print()\n",
    "    print(key,\":\", your_cache[key])"
   ]
  },
  {
   "attachments": {},
   "cell_type": "markdown",
   "id": "1f5f17aa",
   "metadata": {},
   "source": [
    "4. Next we are going to start doing the hard part, derivatives! In this step though all you need to do is complete *sigma_backward()* which will calculate the derivative of sigma with respect to its input (whoa! like the math we did!). This method takes its output as an input – why on earth would it do that?? Check out your math! and if it still doesn’t make sense you should check your math."
   ]
  },
  {
   "cell_type": "code",
   "execution_count": 42,
   "id": "344ced73",
   "metadata": {},
   "outputs": [],
   "source": [
    "def sigmoid_backward(A: np.ndarray):\n",
    "    \"\"\"\n",
    "    calculates the derivative of your sigma function give the output of it\n",
    "    Parameters\n",
    "    ----------\n",
    "    A: np.ndarray \n",
    "        sigmoid(OUT), this is the A value (output of the sigma) of \n",
    "        some layer. This is all we need to find dsigma / dOUT believe it or not\n",
    "    Returns\n",
    "    ----------\n",
    "    dsigmoid: np.ndarray\n",
    "        the derivative of sigmoid(OUT) dOUT -- this will use the A value\n",
    "        it will also be very simple\n",
    "    \"\"\"\n",
    "\n",
    "    dsigmoid = np.multiply(np.add(np.multiply(A,-1),1),A)\n",
    "\n",
    "    return dsigmoid"
   ]
  },
  {
   "cell_type": "code",
   "execution_count": 43,
   "id": "4eb6bb16",
   "metadata": {},
   "outputs": [
    {
     "name": "stdout",
     "output_type": "stream",
     "text": [
      "yours: [0.     0.1875 0.25   0.1875 0.    ]\n",
      "correct: [0, 0.1875, 0.25, 0.1875, 0]\n"
     ]
    },
    {
     "data": {
      "image/png": "[encoded data removed]",
      "text/plain": [
       "<Figure size 640x480 with 1 Axes>"
      ]
     },
     "metadata": {},
     "output_type": "display_data"
    }
   ],
   "source": [
    "example_A = [1, 0.75, 0.5, 0.25, 0]\n",
    "your_dsigmoid = sigmoid_backward(example_A)\n",
    "\n",
    "print(\"yours:\",your_dsigmoid)\n",
    "print(\"correct:\", [0, 0.1875, 0.25, 0.1875, 0])\n",
    "\n",
    "example_inputs = np.arange(0,1,0.05)\n",
    "your_output = sigmoid_backward(example_inputs)\n",
    "\n",
    "plt.plot(example_inputs, your_output)\n",
    "plt.title(\"Your sigmoid_backward function\")\n",
    "plt.xlabel(\"Input\")\n",
    "plt.ylabel(\"Output\")\n",
    "plt.show()\n"
   ]
  },
  {
   "attachments": {},
   "cell_type": "markdown",
   "id": "24e3919a",
   "metadata": {},
   "source": [
    "5. Well it’s later, time to use the cache! This next step is the heart of your entire homework so it may take a little bit. You are going to complete the *backprop_and_loss()* method which will take your network, your cache, and the true output and calculate the loss as well as the gradient of loss with respect to every parameter (i.e. each ”WL” and ”bL”) and store those gradients in a cache using the same naming convention. **Note:** this uses MEAN squared error\n",
    "\n",
    "**HINT:** You'll need to loop over the layers (backwards) to calculate the intermediate derivatives and use them to calculate the next layer's derivatives. If you are able to do a single layer fully, you should be able to iteratively do it. "
   ]
  },
  {
   "cell_type": "code",
   "execution_count": 44,
   "id": "aa89979c",
   "metadata": {},
   "outputs": [],
   "source": [
    "def backprop_and_loss(params: dict, prediction: np.ndarray, cache: dict, Y : np.ndarray):\n",
    "    \"\"\"\n",
    "    This function will calculate the loss (LSE) of your predictions and the gradient\n",
    "    of your network for a single iteration. To calculate the gradient you must\n",
    "    use backpropogation through your network\n",
    "    ** YOU MUST COMPLETE THE \"sigmoid_backward()\" method for this part **\n",
    "    Parameters\n",
    "    ----------\n",
    "    params : dict\n",
    "        A dictionary that maps the labels: 'W0', 'W1', etc to their respective\n",
    "        weight as well as 'b0', 'b1', etc to the bias\n",
    "        -- this is the current state of your params\n",
    "    prediction : np.ndarray\n",
    "        A 1D numpy array holding the predictions of your network given input X\n",
    "    cache : dict\n",
    "        A dictionary that holds all of the intermittent values calculated during your\n",
    "        forward pass of your network (the 'OUT' and 'A'  of each layer), you must have the\n",
    "        keys of this dictionary be of the form \"AL\" and \"INL\" where \"AL\" representes the input\n",
    "        to the L-th layer of weights and \"OUT(L+1)\" is the output after multiplying by weights in Layer L . \n",
    "        \n",
    "        i.e \"OUT0\" will be the key for exactly the input X and \"A0\" will be (as a special case) also X \n",
    "        generally \"AL\" will be sigma(\"OUTL\")\n",
    "    Y : np.ndarray\n",
    "        A 1D numpy array of the correct labels of our input X\n",
    "    Returns\n",
    "    ---------\n",
    "    gradient : dict\n",
    "        A dictionary that maps the labels: 'W0', 'W1', etc to the gradients of \n",
    "        the respective parameters (eg 'W0' -> gradient of first weight matrix)\n",
    "    loss : float\n",
    "        The MEAN (use np.mean) Squared Error loss given our predictions and true labels 'Y'. \n",
    "    \n",
    "    \"\"\"\n",
    "\n",
    "    gradient = {}\n",
    "\n",
    "    dout = 2*np.subtract(prediction, Y)\n",
    "\n",
    "    for i in range(len(params)//2-1,-1,-1):\n",
    "        gradient[\"W\" + str(i)] = np.transpose(cache[\"A\" + str(i)]).dot(dout)\n",
    "        gradient[\"b\" + str(i)] = dout.T.dot(np.ones(dout.shape[0]))\n",
    "\n",
    "        dout = dout.dot(np.transpose(params[\"W\" + str(i)])) * sigmoid_backward(cache[\"A\" + str(i)])\n",
    "        \n",
    "\n",
    "    loss = np.mean(np.square(prediction - Y))\n",
    "\n",
    "    return gradient, loss"
   ]
  },
  {
   "attachments": {},
   "cell_type": "markdown",
   "id": "6942feb6",
   "metadata": {},
   "source": [
    "Use this code to test your backprop and loss function, this test is not extensive though, you should try more network sizes using your math"
   ]
  },
  {
   "cell_type": "code",
   "execution_count": 45,
   "id": "fae2de66",
   "metadata": {},
   "outputs": [
    {
     "name": "stdout",
     "output_type": "stream",
     "text": [
      "your grad for W0: [[1.47722818]\n",
      " [1.94281755]\n",
      " [2.17819972]\n",
      " [1.05121284]\n",
      " [1.70709924]]\n",
      "correct grad for W0: [[1.47722818]\n",
      " [1.94281755]\n",
      " [2.17819972]\n",
      " [1.05121284]\n",
      " [1.70709924]]\n",
      "\n",
      "Now larger Network ----------------------------\n",
      "\n",
      "your grad for W0: [[-0.12930419  0.25562847  0.21567078  0.02922955]\n",
      " [-0.13911388  0.27461218  0.22273239  0.01330716]\n",
      " [-0.21457969  0.3644739   0.33975462 -0.01429388]\n",
      " [-0.11344546  0.16208002  0.16929955 -0.04171324]\n",
      " [-0.14651745  0.24768843  0.22581611 -0.02222018]]\n",
      "your grad for W1: [[-1.29491158 -0.75953234]\n",
      " [-5.10970175 -3.43050998]\n",
      " [-4.56368491 -2.75302084]\n",
      " [-0.83895712 -0.44106145]]\n"
     ]
    }
   ],
   "source": [
    "x = np.random.rand(3, 5)*0.9\n",
    "\n",
    "# print()\n",
    "# print(\"Single layer Network ----------------------------\")\n",
    "# print()\n",
    "\n",
    "params = {\"W0\": np.random.rand(5,1), \"b0\": np.random.rand(1)}\n",
    "\n",
    "your_pred, your_cache = forward(params, x)\n",
    "# print(your_cache)\n",
    "y = np.random.rand(3,1) \n",
    "\n",
    "your_grad, your_loss = backprop_and_loss(params, your_pred, your_cache, y)\n",
    "\n",
    "print(\"your grad for W0:\", your_grad[\"W0\"])\n",
    "print(\"correct grad for W0:\", x.T.dot(2*(your_pred-y)))\n",
    "\n",
    "# print(\"your loss:\", your_loss)\n",
    "# print(\"correct loss:\", np.mean((your_pred-y)**2) )\n",
    "\n",
    "params = {\"W0\": np.random.randn(5,4), \"b0\": np.zeros((4))}\n",
    "\n",
    "params[\"W1\"] = np.random.randn(4,2)\n",
    "params[\"b1\"] = np.zeros((2))\n",
    "\n",
    "your_pred, your_cache = forward(params, x)\n",
    "# print(your_cache)\n",
    "y = np.random.rand(your_pred.shape[0],your_pred.shape[1]) \n",
    "\n",
    "print()\n",
    "print(\"Now larger Network ----------------------------\")\n",
    "print()\n",
    "\n",
    "your_grad, your_loss = backprop_and_loss(params, your_pred, your_cache, y)\n",
    "\n",
    "print(\"your grad for W0:\", your_grad[\"W0\"])\n",
    "print(\"your grad for W1:\", your_grad[\"W1\"])\n",
    "#print(\"correct grad for W0:\", x.T.dot(2*(your_pred-y)))\n",
    "\n",
    "# print(\"your loss:\", your_loss)\n",
    "# print(\"correct loss:\", np.mean((your_pred-y)**2) )\n",
    "\n"
   ]
  },
  {
   "cell_type": "markdown",
   "id": "3102de34",
   "metadata": {},
   "source": [
    "6. Now it’s time to actually do the learning! You must complete the *gradient_descent()* method which will call all of your other methods to find first the prediction, then the loss and gradient. It will then use them to do gradient descent on the entire parameter dictionary (using the corresponding gradients). You’re free to do this however you see fit (as long as it works!)"
   ]
  },
  {
   "cell_type": "code",
   "execution_count": 46,
   "id": "844e0a09",
   "metadata": {},
   "outputs": [],
   "source": [
    "def gradient_descent(X : np.ndarray, Y : np.ndarray, initial_params : dict, lr : float, num_iterations : int)->Tuple[List[float], np.ndarray]:\n",
    "    \"\"\"\n",
    "    This function runs gradient descent for a fixed number of iterations on the\n",
    "    mean squared loss for a linear model parameterized by the weight vector w.\n",
    "    This function returns a list of the losses for each iteration of gradient\n",
    "    descent along with the final weight vector.\n",
    "    Parameters\n",
    "    ----------\n",
    "    X : np.ndarray\n",
    "        A 2D numpy array representing input where each row represents a feature vector\n",
    "    Y : np.ndarray\n",
    "        A 1D numpy array where each element represents a label for MSE\n",
    "    initial_params : dictionary\n",
    "        A dictionary holding the initialization of all parameters of the model as np.ndarrays\n",
    "        (e.g. key 'W0' maps to the first weight array of the neural net) \n",
    "    lr : float\n",
    "        The step-size parameter to use with gradient descent.\n",
    "    num_iterations : int\n",
    "        The number of iterations of gradient descent to run.\n",
    "    Returns\n",
    "    -------\n",
    "    losses : list\n",
    "        A list of floats representing the loss from each iteration and the\n",
    "        loss of the final weight vector\n",
    "    final_params : dictionary \n",
    "        A dictionary holding all of the parameters after training as np.ndarrays\n",
    "        (this should have the same mapping as initial_params, just with updated arrays) \n",
    "    \"\"\"\n",
    "\n",
    "    losses = []\n",
    "    final_params = {}\n",
    "\n",
    "    for n in tqdm(range(num_iterations)):  #tqdm will create a loading bar for your loop\n",
    "        \n",
    "        prediction, cache = forward(initial_params, X)\n",
    "\n",
    "        gradient, loss = backprop_and_loss(initial_params, prediction, cache, Y)\n",
    "\n",
    "        losses.append(loss)\n",
    "\n",
    "        for i in range(0,len(initial_params)//2):\n",
    "\n",
    "            initial_params[\"W\" + str(i)] -= lr*gradient[\"W\" + str(i)]\n",
    "            initial_params[\"b\" + str(i)] -= lr*gradient[\"b\"+ str(i)]\n",
    "    \n",
    "    return losses, initial_params"
   ]
  },
  {
   "attachments": {},
   "cell_type": "markdown",
   "id": "bfc56d9a",
   "metadata": {},
   "source": [
    "7. Now you can run it! And once you fix the 1000 bugs that you have... you can run it again and hopefully you see something *somewhat* like below – if you do, congrats! You (probably) have it working:\n",
    "\n",
    "\n",
    "Run both of these blocks and see if your graph looks similar"
   ]
  },
  {
   "cell_type": "code",
   "execution_count": 47,
   "id": "fc6da60e",
   "metadata": {},
   "outputs": [],
   "source": [
    "def learning_curve(losses: list, names : list):\n",
    "    \"\"\"\n",
    "    This function plots the learning curves for all gradient descent procedures in this homework.\n",
    "    The plot is saved in the file learning_curve.png. No TODO here\n",
    "    Parameters\n",
    "    ----------\n",
    "    losses : list\n",
    "        A list of arrays representing the losses for the gradient at each iteration for each run of gradient descent\n",
    "    names : list\n",
    "        A list of strings representing the names for each gradient descent method\n",
    "    Returns\n",
    "    -------\n",
    "    nothing\n",
    "    \"\"\"\n",
    "    for loss in losses:\n",
    "        plt.plot(loss)\n",
    "    plt.xscale(\"log\")\n",
    "    plt.ylim(0, 10000)\n",
    "    plt.xlabel(\"Iterations\")\n",
    "    plt.ylabel(\"Squared Loss\")\n",
    "    plt.title(\"Gradient Descent\")\n",
    "    plt.legend(names)\n",
    "    plt.savefig(\"learning_curve.png\")\n",
    "    plt.show()\n"
   ]
  },
  {
   "cell_type": "code",
   "execution_count": 49,
   "id": "8495880f",
   "metadata": {},
   "outputs": [
    {
     "name": "stdout",
     "output_type": "stream",
     "text": [
      "(800, 17)\n"
     ]
    },
    {
     "name": "stderr",
     "output_type": "stream",
     "text": [
      "  9%|▊         | 859/10000 [00:00<00:01, 8088.86it/s]"
     ]
    },
    {
     "name": "stderr",
     "output_type": "stream",
     "text": [
      "100%|██████████| 10000/10000 [00:01<00:00, 8998.39it/s]\n",
      "100%|██████████| 10000/10000 [00:01<00:00, 5081.00it/s]\n",
      "100%|██████████| 10000/10000 [00:02<00:00, 3578.61it/s]\n"
     ]
    },
    {
     "name": "stdout",
     "output_type": "stream",
     "text": [
      "final training loss values\n",
      "single layer.........   161.5\n",
      "two layer............   154.7\n",
      "many layer...........   160.7\n"
     ]
    },
    {
     "data": {
      "image/png": "[encoded data removed]",
      "text/plain": [
       "<Figure size 640x480 with 1 Axes>"
      ]
     },
     "metadata": {},
     "output_type": "display_data"
    },
    {
     "name": "stdout",
     "output_type": "stream",
     "text": [
      "test loss of model 1: 105790.8732068747\n",
      "test loss of model 2: 113569.83930553994\n",
      "test loss of model 3: 124403.70111095396\n"
     ]
    },
    {
     "name": "stderr",
     "output_type": "stream",
     "text": [
      "100%|██████████| 10000/10000 [00:04<00:00, 2195.09it/s]"
     ]
    },
    {
     "name": "stdout",
     "output_type": "stream",
     "text": [
      "0.1011\n",
      "test loss of your \"best\" model: 130367.64292079299\n"
     ]
    },
    {
     "name": "stderr",
     "output_type": "stream",
     "text": [
      "\n"
     ]
    }
   ],
   "source": [
    "def train_networks():\n",
    "    Train_X, Train_Y = load_data(\"StudentsPerformance.csv\", \"train\")  # load the data set\n",
    "\n",
    "    N = 10000 # N needs to equal 10,000 for your final plot. You can lower it to tune hyperparameters.\n",
    "    print(Train_X.shape)\n",
    "\n",
    "    init_params0 = initialize_network([17,3], scale=0.1) # initializes a sigle layer network (perceptron)\n",
    "    losses0, final_params0 = gradient_descent(Train_X, Train_Y, init_params0, lr=1e-6, num_iterations=N)  \n",
    "\n",
    "    init_params1 = initialize_network([17, 5, 3], scale=0.1)  # initializes a two layer network\n",
    "    losses1, final_params1 = gradient_descent(Train_X, Train_Y, init_params1, lr=1e-6, num_iterations=N)  \n",
    "   \n",
    "    init_params2 = initialize_network([17, 7, 3, 3], scale=0.1)  # initializes a many layer network\n",
    "    losses2, final_params2 = gradient_descent(Train_X, Train_Y, init_params2, lr=1e-6, num_iterations=N)   \n",
    "\n",
    "    all_losses = [losses0, losses1, losses2]\n",
    "    names = [\"single layer\", \"two layer\", \"many layer\"]\n",
    "    print(\"final training loss values\")\n",
    "    for name, losses in zip(names, all_losses):\n",
    "        print(\"{0:.<21}{1:>8.1f}\".format(name, float(losses[-1])))\n",
    "\n",
    "    learning_curve(all_losses, names)\n",
    "\n",
    "    # TESTING \n",
    "\n",
    "    Test_X, Test_Y = load_data(\"StudentsPerformance.csv\", \"test\")\n",
    "\n",
    "    pred0, _ = forward(final_params0, Test_X)\n",
    "    test_loss0 = np.sum(np.square(Test_Y  - pred0)) \n",
    "    print(\"test loss of model 1:\", test_loss0)\n",
    "\n",
    "    pred1, _ = forward(final_params1, Test_X)\n",
    "    test_loss1 = np.sum(np.square(Test_Y  - pred1)) \n",
    "    print(\"test loss of model 2:\", test_loss1)\n",
    "\n",
    "    pred2, _ = forward(final_params2, Test_X)\n",
    "    test_loss2 = np.sum(np.square(Test_Y  - pred2)) \n",
    "    print(\"test loss of model 3:\", test_loss2)\n",
    "\n",
    "    # TODO choose the hyper parameters for your best model (change them in train_best_model() )\n",
    "    # You'll have to uncomment the below lines for once you find your best model\n",
    "\n",
    "    best_losses, best_params = train_best_model(Train_X, Train_Y) \n",
    "    best_pred, _ = forward(best_params, Test_X)\n",
    "    best_loss = np.sum(np.square(Test_Y - best_pred)) \n",
    "    print(\"test loss of your \\\"best\\\" model:\", best_loss)\n",
    "\n",
    "\n",
    "train_networks()"
   ]
  },
  {
   "attachments": {},
   "cell_type": "markdown",
   "id": "f0da1fdc",
   "metadata": {},
   "source": [
    "### 4a) That other bit you forgot about until now (10 points)\n",
    "1. Use *train_best_model()* (you’ll need to find some good hyperparameters) and plot its training alongside the other 3 models (you’ll need to change code in main to plot this) and show it here – Describe your best model and list the values of its hyperparameters here. You should be able to do significantly better than the default, you will be checked for the code you used to find a best model and for the quality of your final loss."
   ]
  },
  {
   "cell_type": "code",
   "execution_count": 48,
   "id": "f258f26e",
   "metadata": {},
   "outputs": [
    {
     "name": "stderr",
     "output_type": "stream",
     "text": [
      "  2%|▏         | 174/10000 [00:00<00:05, 1649.68it/s]"
     ]
    },
    {
     "name": "stderr",
     "output_type": "stream",
     "text": [
      "100%|██████████| 10000/10000 [00:04<00:00, 2109.62it/s]"
     ]
    },
    {
     "name": "stdout",
     "output_type": "stream",
     "text": [
      "0.1011\n",
      "final loss: 133.28059750877068\n"
     ]
    },
    {
     "name": "stderr",
     "output_type": "stream",
     "text": [
      "\n"
     ]
    }
   ],
   "source": [
    "def train_best_model(Train_X, Train_Y):\n",
    "    \"\"\"\n",
    "    This function will train the model with the hyper parameters\n",
    "    and layers that you have found to be best -- this model must get below 3\n",
    "    MSE loss on our test data (which is not the test data you are given)\n",
    "    \"\"\"\n",
    "\n",
    "    BEST_SCALE = 0.1011            # You need\n",
    "    BEST_LAYERS = [17, 15, 3]          # to change\n",
    "    BEST_ALPHA = 0.00001             # these\n",
    "    BEST_NUM_ITERATIONS = 10000    # !\n",
    "\n",
    "\n",
    "    best_params = initialize_network(BEST_LAYERS, BEST_SCALE)\n",
    "    best_losses, best_final_params = gradient_descent(Train_X, Train_Y, best_params, lr=BEST_ALPHA, num_iterations=BEST_NUM_ITERATIONS)\n",
    "\n",
    "    print(BEST_SCALE)\n",
    "    return best_losses, best_final_params\n",
    "\n",
    "Train_X, Train_Y = load_data(\"StudentsPerformance.csv\", \"train\")  # load the data set  \n",
    "best_losses,best_final_params = train_best_model(Train_X, Train_Y)\n",
    "\n",
    "print(\"final loss:\", best_losses[-1])     "
   ]
  },
  {
   "cell_type": "markdown",
   "id": "ab6306a5",
   "metadata": {},
   "source": []
  },
  {
   "attachments": {},
   "cell_type": "markdown",
   "id": "14038e05",
   "metadata": {},
   "source": [
    "2. Now note the printed test losses (the loss on the test set which isn’t trained on), for the 3 original models and your best, show the train loss and test loss. What is the relationship between these, explain why you think this is?\n",
    "\n",
    "test loss of model 1: 105753.67332288889\n",
    "test loss of model 2: 113589.8688507396\n",
    "test loss of model 3: 121774.24686293973\n",
    "test loss of your \"best\" model: 135425.31890427636\n",
    "\n",
    "single layer.........   161.5\n",
    "two layer............   154.8\n",
    "many layer...........   164.2\n",
    "final loss...........   132.2\n",
    "\n",
    "The test loss seems inversely proportional to the train loss. \n",
    "This may be due to my best model overfitting, leading to poor generalization."
   ]
  },
  {
   "cell_type": "markdown",
   "id": "460ea208",
   "metadata": {},
   "source": [
    "### 5) Time to Convert to PDF! (No Skipping this Step 🚀)\n",
    "\n",
    "Hi! Congrats on finishing (or reading ahead)! We'll be using the google colab library to convert your notebook into a pdf, so you'll need to convert to colab if you're not using it (or finding another way to convert to a pdf):\n",
    "\n",
    "📤 **Uploading to Colab from Your System? Here's How:**\n",
    "1. Go to [colab](https://colab.research.google.com/).\n",
    "2. Hit \"upload\" on the left sidebar of the pop-up box.\n",
    "3. Upload the notebook.\n",
    "4. It's alright if you've already run your code, the outputs of the cells should be brought over too.\n",
    "\n",
    "🛣️ **Once you're on colab (or if you always were):**\n",
    "1. First things first, click on File > Locate in Drive.\n",
    "2. Next up, copy the path of the folder where your notebook resides in your Drive and paste it in variable named `DIR_FOR_COLAB_NOTEBOOK` in the cell below. (Usually, it's just 'Colab Notebooks/')\n",
    "3. Next asisgn the variable named `NOTEBOOK_NAME` with the name of your notebook. Easy peasy!\n",
    "4. Run the final cells\n",
    "5. Double check the pdf has all of your code and outputs then slam that bad boy into gradescope.\n"
   ]
  },
  {
   "cell_type": "code",
   "execution_count": 33,
   "id": "41a29d1b",
   "metadata": {},
   "outputs": [],
   "source": [
    "DIR_FOR_COLAB_NOTEBOOK = 'Colab Notebooks/' #Please update it to the correct directory following the instruction\n",
    "NOTEBOOK_NAME = 'HW2_notebook.ipynb' #Please update this to the name of the file you see on top right next to colab logo"
   ]
  },
  {
   "cell_type": "code",
   "execution_count": 34,
   "id": "28e07f22",
   "metadata": {},
   "outputs": [
    {
     "ename": "ModuleNotFoundError",
     "evalue": "No module named 'google'",
     "output_type": "error",
     "traceback": [
      "\u001b[1;31m---------------------------------------------------------------------------\u001b[0m",
      "\u001b[1;31mModuleNotFoundError\u001b[0m                       Traceback (most recent call last)",
      "Cell \u001b[1;32mIn[34], line 2\u001b[0m\n\u001b[0;32m      1\u001b[0m \u001b[38;5;28;01mimport\u001b[39;00m \u001b[38;5;21;01mos\u001b[39;00m\n\u001b[1;32m----> 2\u001b[0m \u001b[38;5;28;01mfrom\u001b[39;00m \u001b[38;5;21;01mgoogle\u001b[39;00m\u001b[38;5;21;01m.\u001b[39;00m\u001b[38;5;21;01mcolab\u001b[39;00m \u001b[38;5;28;01mimport\u001b[39;00m drive, files\n\u001b[0;32m      3\u001b[0m \u001b[38;5;28;01mimport\u001b[39;00m \u001b[38;5;21;01msubprocess\u001b[39;00m\n\u001b[0;32m      5\u001b[0m \u001b[38;5;28;01massert\u001b[39;00m DIR_FOR_COLAB_NOTEBOOK \u001b[38;5;129;01mis\u001b[39;00m \u001b[38;5;129;01mnot\u001b[39;00m \u001b[38;5;28;01mNone\u001b[39;00m, \u001b[38;5;124m\"\u001b[39m\u001b[38;5;124mPlease update the variable DIR_FOR_COLAB_NOTEBOOK to the correct directory\u001b[39m\u001b[38;5;124m\"\u001b[39m\n",
      "\u001b[1;31mModuleNotFoundError\u001b[0m: No module named 'google'"
     ]
    }
   ],
   "source": [
    "import os\n",
    "from google.colab import drive, files\n",
    "import subprocess\n",
    "\n",
    "assert DIR_FOR_COLAB_NOTEBOOK is not None, \"Please update the variable DIR_FOR_COLAB_NOTEBOOK to the correct directory\"\n",
    "assert NOTEBOOK_NAME is not None, \"Please update NOTEBOOK_NAME to correct notebook name\"\n",
    "\n",
    "print(\"\\n#Mounting google drive\\n\")\n",
    "drive.mount('/content/drive/')\n",
    "notebook_dir = os.path.join('/content/drive/MyDrive', DIR_FOR_COLAB_NOTEBOOK)\n",
    "os.chdir(notebook_dir)\n",
    "\n",
    "print(\"\\n#Installing Dependencies\\n\")\n",
    "print(\"Installing nbconvert...\", end=\"\")\n",
    "subprocess.run(f\"pip install nbconvert\", shell=True)\n",
    "print(\"Done\")\n",
    "print(\"Installing texlive and dependancies...\", end=\"\")\n",
    "subprocess.run(f\"apt-get install texlive texlive-xetex texlive-latex-extra pandoc\", shell=True)\n",
    "print(\"Done\")\n",
    "\n",
    "print(\"\\n#Converting to PDF\\n\")\n",
    "print(f\"Running the following command:\\njupyter nbconvert --to pdf {NOTEBOOK_NAME} --output {NOTEBOOK_NAME.replace('.ipynb', '.pdf')}\\n\")\n",
    "print(\"Started conversion...\", end=\"\")\n",
    "result = subprocess.run(f\"jupyter nbconvert --to pdf {NOTEBOOK_NAME} --output {NOTEBOOK_NAME.replace('.ipynb', '.pdf')}\", shell=True, stderr=subprocess.PIPE)\n",
    "print(\"Done\")\n",
    "print(\"\\n##Output of conversion:\\n\")\n",
    "print(result.stderr.decode())\n",
    "\n",
    "print(\"\\n#Downloading PDF file\\n\")\n",
    "files.download(NOTEBOOK_NAME.replace('.ipynb', '.pdf'))"
   ]
  }
 ],
 "metadata": {
  "kernelspec": {
   "display_name": "Python 3",
   "language": "python",
   "name": "python3"
  },
  "language_info": {
   "codemirror_mode": {
    "name": "ipython",
    "version": 3
   },
   "file_extension": ".py",
   "mimetype": "text/x-python",
   "name": "python",
   "nbconvert_exporter": "python",
   "pygments_lexer": "ipython3",
   "version": "3.11.0"
  },
  "vscode": {
   "interpreter": {
    "hash": "60268a3974607f958e98a9322dd45e6d52b600b97a1d9eef60ef15acbb670d09"
   }
  }
 },
 "nbformat": 4,
 "nbformat_minor": 5
}
