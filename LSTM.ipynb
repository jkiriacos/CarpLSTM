{
 "cells": [
  {
   "cell_type": "code",
   "execution_count": 17,
   "id": "5da06227",
   "metadata": {},
   "outputs": [],
   "source": [
    "import numpy as np\n",
    "import matplotlib.pyplot as plt\n",
    "from typing import Tuple, List\n",
    "from tqdm import tqdm\n",
    "\n",
    "def load_data(file_path: str, label: str)->Tuple[np.ndarray, np.ndarray]:\n",
    "    '''\n",
    "    This function loads and parses text file separated by a ',' character and\n",
    "    returns a data set as two arrays, an array of features, and an array of labels.\n",
    "    Parameters\n",
    "    ----------\n",
    "    file_path : str\n",
    "                path to the file containing the data set\n",
    "    label : str\n",
    "                A label of whether to grab training or testing data\n",
    "    Returns\n",
    "    -------\n",
    "    features : ndarray\n",
    "                2D array of shape (n,c) containing features for the data set\n",
    "    labels : ndarray\n",
    "                2D array of shape (n,d) containing labels for the data set\n",
    "    '''\n",
    "    D = np.genfromtxt(file_path, delimiter=\",\")\n",
    "    if label == \"train\":\n",
    "        features = D[0:800, :-3]  # all columns but the last three\n",
    "        labels = D[0:800, -3:]  # the last 3 columns \n",
    "    else:\n",
    "        features = D[801:1000, :-3]  # all columns but the last three\n",
    "        labels = D[801:1000, -3:]  # the last 3 columns\n",
    "    \n",
    "    return features, labels"
   ]
  },
  {
   "cell_type": "code",
   "execution_count": 18,
   "id": "0e301245",
   "metadata": {},
   "outputs": [],
   "source": [
    "#Initialize helpful functions for math\n",
    "def sigmoid(x: np.ndarray):\n",
    "    return 1/(1+np.exp(-1*x))\n",
    "\n",
    "def sigmoid_derivative(x: np.ndarray):\n",
    "    return sigmoid(x)*(1-sigmoid(x))\n",
    "\n",
    "def tanh(x: np.ndarray):\n",
    "    return (np.exp(x) - np.exp(-x))/(np.exp(x)+np.exp(-x))\n",
    "    \n",
    "def tanh_derivative(x:np.ndarray):\n",
    "    return 1-np.square(tanh(x))\n",
    "\n",
    "def softmax(x: np.ndarray):\n",
    "    return np.exp(x)/np.sum(np.exp(x))\n",
    "\n",
    "def cross_entropy(yhat, y):\n",
    "    loss = 0\n",
    "     \n",
    "    # Doing cross entropy Loss\n",
    "    for i in range(len(yhat)):\n",
    " \n",
    "        # Here, the loss is computed using the\n",
    "        # above mathematical formulation.\n",
    "        loss = loss + (-1 * y[i]*np.log(yhat[i]))\n",
    " \n",
    "    return loss"
   ]
  },
  {
   "cell_type": "code",
   "execution_count": 19,
   "id": "18d1a516",
   "metadata": {},
   "outputs": [],
   "source": [
    "#initializes the weights of the network\n",
    "def initialize_cell(input_size, hidden_size):\n",
    "\n",
    "    cell = {}\n",
    "\n",
    "    cell[\"W_i\"] = np.hstack(np.random.normal(0,1,(hidden_size,hidden_size)), np.random.normal(0,1,(input_size,hidden_size))) #input gate weights\n",
    "    cell[\"W_f\"] = np.hstack(np.random.normal(0,1,(hidden_size,hidden_size)), np.random.normal(0,1,(input_size,hidden_size))) #forget gate weights\n",
    "    cell[\"W_c\"] = np.hstack(np.random.normal(0,1,(hidden_size,hidden_size)), np.random.normal(0,1,(input_size,hidden_size))) #candidate gate weights\n",
    "    cell[\"W_o\"] = np.hstack(np.random.normal(0,1,(hidden_size,hidden_size)), np.random.normal(0,1,(input_size,hidden_size))) #output gate weights\n",
    "    cell[\"W_y\"] = np.hstack(np.random.normal(0,1,(hidden_size,hidden_size)), np.random.normal(0,1,(input_size,hidden_size))) #final gate weights\n",
    "\n",
    "    #not sure if the biases need to be 3d...\n",
    "    cell[\"b_i\"] = np.zeros(hidden_size,1) #input gate biases\n",
    "    cell[\"b_f\"] = np.zeros(hidden_size,1) #forget gate biases\n",
    "    cell[\"b_c\"] = np.zeros(hidden_size,1) #candidate gate biases\n",
    "    cell[\"b_o\"] = np.zeros(hidden_size,1) #output gate biases\n",
    "    cell[\"b_y\"] = np.zeros(hidden_size,1) #final gate biases\n",
    "\n",
    "    return cell"
   ]
  },
  {
   "cell_type": "code",
   "execution_count": 20,
   "id": "348ff4c1",
   "metadata": {},
   "outputs": [],
   "source": [
    "#forward pass of all gates\n",
    "def forward_pass(cell, prevA, prevC, X):\n",
    "    \n",
    "    input = np.concatenate(prevA, X)\n",
    "\n",
    "    forward = {}\n",
    "\n",
    "    forward[\"F\"] = sigmoid(input.dot(cell[\"W_f\"]).dot(input) + cell[\"b_i\"])\n",
    "    \n",
    "    forward[\"C\"] = tanh(input.dot(cell[\"W_c\"]).dot(input) + cell[\"b_c\"])\n",
    "\n",
    "    forward[\"I\"] = sigmoid(input.dot(cell[\"W_i\"]).dot(input) + cell[\"b_i\"])\n",
    "\n",
    "    forward[\"O\"] = sigmoid(input.dot(cell[\"W_o\"]).dot(input) + cell[\"b_o\"])\n",
    "\n",
    "    forward[\"prevC\"] = prevC\n",
    "    forward[\"C_t\"] = (forward[\"C_(t-1)\"] * forward[\"F\"]) + (forward[\"I\"] * forward[\"C\"])\n",
    "    forward[\"A_t\"] = forward[\"O\"] * tanh(forward[\"C_t\"])\n",
    "\n",
    "    forward[\"Z_t\"] = cell[\"W_y\"].dot(forward[\"C_t\"] * forward[\"O\"]) + cell[\"b_y\"]\n",
    "    forward[\"Yhat\"] = softmax(cell[\"Z_t\"])\n",
    "\n",
    "    return forward"
   ]
  },
  {
   "cell_type": "code",
   "execution_count": 21,
   "id": "e7355acf",
   "metadata": {},
   "outputs": [],
   "source": [
    "def gradient(forward, cell, X, Y, lprimea, lprimec):\n",
    "\n",
    "    grads = {}\n",
    "\n",
    "    input = np.vstack(cell[\"prevA\"], X)\n",
    "\n",
    "    dldA_t = np.transpose(cell[\"W_y\"]).dot(forward[\"Yhat\"]-Y) + lprimea\n",
    "    dldC_t = lprimec + (forward[\"O\"] * tanh_derivative(forward[\"C_t\"])) * dldA_t\n",
    "\n",
    "    TdLdw_f = (dldC_t * forward[\"prevC\"] * forward[\"F\"]*(1-forward[\"F\"])) #this might be slightly wrong, unsure.\n",
    "    TdLdw_c = (dldC_t * forward[\"I\"] * (1-np.square(forward[\"C\"])))\n",
    "    TdLdw_o = (dldA_t * forward[\"I\"] * tanh(forward[\"C_t\"]) * forward[\"O\"] * (1-forward[\"O\"]))\n",
    "    TdLdw_i = (dldC_t * forward[\"C\"] * forward[I] * (1-forward[\"I\"]))\n",
    "\n",
    "    grads[\"dLdw_f\"] = TdLdw_f.dot(np.transpose(input))\n",
    "    grads[\"dLdw_c\"] = TdLdw_c.dot(np.transpose(input))\n",
    "    grads[\"dLdw_o\"] = TdLdw_o.dot(np.transpose(input))\n",
    "    grads[\"dLdw_i\"] = TdLdw_i.dot(np.transpose(input))\n",
    "    grads[\"dLdw_y\"] = (forward[\"Yhat\"] - Y).dot(np.transpose(forward[\"A_t\"]))\n",
    "\n",
    "    grads[\"dLdb_f\"] = 1\n",
    "    grads[\"dLdb_c\"] = 1\n",
    "    grads[\"dLdb_o\"] = 1\n",
    "    grads[\"dLdb_i\"] = 1\n",
    "    grads[\"dLdb_y\"] = 1\n",
    "\n",
    "    woa, _ = np.hsplit(cell[\"W_o\"])\n",
    "    wca, _ = np.hsplit(cell[\"W_c\"])\n",
    "    wia, _ = np.hsplit(cell[\"W_i\"])\n",
    "    wfa, _ = np.hsplit(cell[\"W_f\"])\n",
    "    \n",
    "    grads[\"dLda_prev\"] = woa * TdLdw_o + wca * TdLdw_c + wia* TdLdw_i + wfa * TdLdw_f\n",
    "    grads[\"dLdc_prev\"] = cell[\"O\"] * (1-np.square(tanh(forward[\"C_t\"])) * dldA_t + lprimec) * cell[\"F\"]\n",
    "\n",
    "    loss = cross_entropy(cell[\"Yhat\"], Y)\n",
    "\n",
    "    return grads, loss"
   ]
  },
  {
   "cell_type": "code",
   "execution_count": 14,
   "id": "fe29d85e",
   "metadata": {},
   "outputs": [],
   "source": [
    "def descent(cell, X, Y, input_size, hidden_size, lr):\n",
    "   \n",
    "    prevA = np.zeros(hidden_size,1)\n",
    "    prevC = np.zeros(hidden_size,1)\n",
    "    lprimea = 0\n",
    "    lprimec = 0\n",
    "\n",
    "    gradientTot = {}\n",
    "    lossTot = []\n",
    "\n",
    "    gradientTot[\"dLdw_f\"] = np.hstack(np.random.normal(0,1,(hidden_size,hidden_size)), np.random.normal(0,1,(input_size,hidden_size)))\n",
    "    gradientTot[\"dLdw_c\"] = np.hstack(np.random.normal(0,1,(hidden_size,hidden_size)), np.random.normal(0,1,(input_size,hidden_size)))\n",
    "    gradientTot[\"dLdw_o\"] = np.hstack(np.random.normal(0,1,(hidden_size,hidden_size)), np.random.normal(0,1,(input_size,hidden_size)))\n",
    "    gradientTot[\"dLdw_i\"] = np.hstack(np.random.normal(0,1,(hidden_size,hidden_size)), np.random.normal(0,1,(input_size,hidden_size)))\n",
    "    gradientTot[\"dLdw_y\"] = np.hstack(np.random.normal(0,1,(hidden_size,hidden_size)), np.random.normal(0,1,(input_size,hidden_size)))\n",
    "    gradientTot[\"dLdb_f\"] = np.zeros(hidden_size,1)\n",
    "    gradientTot[\"dLdb_c\"] = np.zeros(hidden_size,1)\n",
    "    gradientTot[\"dLdb_o\"] = np.zeros(hidden_size,1)\n",
    "    gradientTot[\"dLdb_i\"] = np.zeros(hidden_size,1)\n",
    "    gradientTot[\"dLdb_y\"] = np.zeros(hidden_size,1)\n",
    "\n",
    "    for n in range(0, len(X)):  #tqdm will create a loading bar for your loop\n",
    "        \n",
    "        forward = forward_pass(cell, prevA, prevC, X)\n",
    "       \n",
    "        gradient, loss = gradient(forward, cell, X, Y, lprimea, lprimec)\n",
    "\n",
    "        gradientTot[\"dLdw_f\"] += gradient[\"dLdw_f\"]\n",
    "        gradientTot[\"dLdw_c\"] += gradient[\"dLdw_c\"]\n",
    "        gradientTot[\"dLdw_o\"] += gradient[\"dLdw_o\"]\n",
    "        gradientTot[\"dLdw_i\"] += gradient[\"dLdw_i\"]\n",
    "        gradientTot[\"dLdw_y\"] += gradient[\"dLdw_y\"]\n",
    "        \n",
    "        gradientTot[\"dLdb_f\"] += gradient[\"dLdb_f\"]\n",
    "        gradientTot[\"dLdb_c\"] += gradient[\"dLdb_c\"]\n",
    "        gradientTot[\"dLdb_o\"] += gradient[\"dLdb_o\"]\n",
    "        gradientTot[\"dLdb_i\"] += gradient[\"dLdb_i\"]\n",
    "        gradientTot[\"dLdb_y\"] += gradient[\"dLdb_y\"]\n",
    "\n",
    "        lossTot.append(loss)\n",
    "\n",
    "    cell[\"W_f\"] = cell[\"W_f\"] * lr\n",
    "    cell[\"W_c\"] = cell[\"W_c\"] * lr\n",
    "    cell[\"W_o\"] = cell[\"W_o\"] * lr\n",
    "    cell[\"W_i\"] = cell[\"W_i\"] * lr\n",
    "    cell[\"W_y\"] = cell[\"W_y\"] * lr\n",
    "\n",
    "    cell[\"W_f\"] = cell[\"W_f\"] * lr\n",
    "    cell[\"W_c\"] = cell[\"W_c\"] * lr\n",
    "    cell[\"W_o\"] = cell[\"W_o\"] * lr\n",
    "    cell[\"W_i\"] = cell[\"W_i\"] * lr\n",
    "    cell[\"W_y\"] = cell[\"W_y\"] * lr\n",
    "\n",
    "    return lossTot\n"
   ]
  },
  {
   "cell_type": "code",
   "execution_count": null,
   "id": "ad233117",
   "metadata": {},
   "outputs": [],
   "source": [
    "def train_LSTM(input_size, hidden_size, dataset):\n",
    "\n",
    "    cell = initialize_cell(input_size, hidden_size)\n",
    "\n",
    "    for X, Y in dataset:\n",
    "        descent(cell, X, Y, input_size, hidden_size)\n",
    "\n",
    "    return cell\n",
    "    "
   ]
  },
  {
   "cell_type": "code",
   "execution_count": null,
   "id": "f2272f5e",
   "metadata": {},
   "outputs": [],
   "source": [
    "dataset = load_data(____,_____)\n",
    "\n",
    "finalCell = train_LSTM(250, 100, dataset)"
   ]
  },
  {
   "cell_type": "code",
   "execution_count": null,
   "metadata": {},
   "outputs": [],
   "source": []
  },
  {
   "attachments": {},
   "cell_type": "markdown",
   "id": "044e084f",
   "metadata": {},
   "source": [
    "3. After this you can put it together with your model to make your full *forward()* method, which will do a forward pass through your entire model (each layer, including the nonlinearities). It’s important to note that the final layer is not followed by a nonlinearity. You also must save every intermittent value in the cache (again for use later).\n",
    "\n",
    "It is important to not only do the forward pass, but also cache the intermittent values so that we (well, *you* ) can do backpropogation next."
   ]
  },
  {
   "attachments": {},
   "cell_type": "markdown",
   "id": "6942feb6",
   "metadata": {},
   "source": [
    "Use this code to test your backprop and loss function, this test is not extensive though, you should try more network sizes using your math"
   ]
  },
  {
   "cell_type": "code",
   "execution_count": 45,
   "id": "fae2de66",
   "metadata": {},
   "outputs": [
    {
     "name": "stdout",
     "output_type": "stream",
     "text": [
      "your grad for W0: [[1.47722818]\n",
      " [1.94281755]\n",
      " [2.17819972]\n",
      " [1.05121284]\n",
      " [1.70709924]]\n",
      "correct grad for W0: [[1.47722818]\n",
      " [1.94281755]\n",
      " [2.17819972]\n",
      " [1.05121284]\n",
      " [1.70709924]]\n",
      "\n",
      "Now larger Network ----------------------------\n",
      "\n",
      "your grad for W0: [[-0.12930419  0.25562847  0.21567078  0.02922955]\n",
      " [-0.13911388  0.27461218  0.22273239  0.01330716]\n",
      " [-0.21457969  0.3644739   0.33975462 -0.01429388]\n",
      " [-0.11344546  0.16208002  0.16929955 -0.04171324]\n",
      " [-0.14651745  0.24768843  0.22581611 -0.02222018]]\n",
      "your grad for W1: [[-1.29491158 -0.75953234]\n",
      " [-5.10970175 -3.43050998]\n",
      " [-4.56368491 -2.75302084]\n",
      " [-0.83895712 -0.44106145]]\n"
     ]
    }
   ],
   "source": [
    "x = np.random.rand(3, 5)*0.9\n",
    "\n",
    "# print()\n",
    "# print(\"Single layer Network ----------------------------\")\n",
    "# print()\n",
    "\n",
    "params = {\"W0\": np.random.rand(5,1), \"b0\": np.random.rand(1)}\n",
    "\n",
    "your_pred, your_cache = forward(params, x)\n",
    "# print(your_cache)\n",
    "y = np.random.rand(3,1) \n",
    "\n",
    "your_grad, your_loss = backprop_and_loss(params, your_pred, your_cache, y)\n",
    "\n",
    "print(\"your grad for W0:\", your_grad[\"W0\"])\n",
    "print(\"correct grad for W0:\", x.T.dot(2*(your_pred-y)))\n",
    "\n",
    "# print(\"your loss:\", your_loss)\n",
    "# print(\"correct loss:\", np.mean((your_pred-y)**2) )\n",
    "\n",
    "params = {\"W0\": np.random.randn(5,4), \"b0\": np.zeros((4))}\n",
    "\n",
    "params[\"W1\"] = np.random.randn(4,2)\n",
    "params[\"b1\"] = np.zeros((2))\n",
    "\n",
    "your_pred, your_cache = forward(params, x)\n",
    "# print(your_cache)\n",
    "y = np.random.rand(your_pred.shape[0],your_pred.shape[1]) \n",
    "\n",
    "print()\n",
    "print(\"Now larger Network ----------------------------\")\n",
    "print()\n",
    "\n",
    "your_grad, your_loss = backprop_and_loss(params, your_pred, your_cache, y)\n",
    "\n",
    "print(\"your grad for W0:\", your_grad[\"W0\"])\n",
    "print(\"your grad for W1:\", your_grad[\"W1\"])\n",
    "#print(\"correct grad for W0:\", x.T.dot(2*(your_pred-y)))\n",
    "\n",
    "# print(\"your loss:\", your_loss)\n",
    "# print(\"correct loss:\", np.mean((your_pred-y)**2) )\n",
    "\n"
   ]
  },
  {
   "cell_type": "markdown",
   "id": "3102de34",
   "metadata": {},
   "source": [
    "6. Now it’s time to actually do the learning! You must complete the *gradient_descent()* method which will call all of your other methods to find first the prediction, then the loss and gradient. It will then use them to do gradient descent on the entire parameter dictionary (using the corresponding gradients). You’re free to do this however you see fit (as long as it works!)"
   ]
  },
  {
   "cell_type": "code",
   "execution_count": 46,
   "id": "844e0a09",
   "metadata": {},
   "outputs": [],
   "source": [
    "def gradient_descent(X : np.ndarray, Y : np.ndarray, initial_params : dict, lr : float, num_iterations : int)->Tuple[List[float], np.ndarray]:\n",
    "    \"\"\"\n",
    "    This function runs gradient descent for a fixed number of iterations on the\n",
    "    mean squared loss for a linear model parameterized by the weight vector w.\n",
    "    This function returns a list of the losses for each iteration of gradient\n",
    "    descent along with the final weight vector.\n",
    "    Parameters\n",
    "    ----------\n",
    "    X : np.ndarray\n",
    "        A 2D numpy array representing input where each row represents a feature vector\n",
    "    Y : np.ndarray\n",
    "        A 1D numpy array where each element represents a label for MSE\n",
    "    initial_params : dictionary\n",
    "        A dictionary holding the initialization of all parameters of the model as np.ndarrays\n",
    "        (e.g. key 'W0' maps to the first weight array of the neural net) \n",
    "    lr : float\n",
    "        The step-size parameter to use with gradient descent.\n",
    "    num_iterations : int\n",
    "        The number of iterations of gradient descent to run.\n",
    "    Returns\n",
    "    -------\n",
    "    losses : list\n",
    "        A list of floats representing the loss from each iteration and the\n",
    "        loss of the final weight vector\n",
    "    final_params : dictionary \n",
    "        A dictionary holding all of the parameters after training as np.ndarrays\n",
    "        (this should have the same mapping as initial_params, just with updated arrays) \n",
    "    \"\"\"\n",
    "\n",
    "    losses = []\n",
    "    final_params = {}\n",
    "\n",
    "    for n in tqdm(range(num_iterations)):  #tqdm will create a loading bar for your loop\n",
    "        \n",
    "        prediction, cache = forward(initial_params, X)\n",
    "\n",
    "        gradient, loss = backprop_and_loss(initial_params, prediction, cache, Y)\n",
    "\n",
    "        losses.append(loss)\n",
    "\n",
    "        for i in range(0,len(initial_params)//2):\n",
    "\n",
    "            initial_params[\"W\" + str(i)] -= lr*gradient[\"W\" + str(i)]\n",
    "            initial_params[\"b\" + str(i)] -= lr*gradient[\"b\"+ str(i)]\n",
    "    \n",
    "    return losses, initial_params"
   ]
  },
  {
   "attachments": {},
   "cell_type": "markdown",
   "id": "bfc56d9a",
   "metadata": {},
   "source": [
    "7. Now you can run it! And once you fix the 1000 bugs that you have... you can run it again and hopefully you see something *somewhat* like below – if you do, congrats! You (probably) have it working:\n",
    "\n",
    "\n",
    "Run both of these blocks and see if your graph looks similar"
   ]
  },
  {
   "cell_type": "code",
   "execution_count": 47,
   "id": "fc6da60e",
   "metadata": {},
   "outputs": [],
   "source": [
    "def learning_curve(losses: list, names : list):\n",
    "    \"\"\"\n",
    "    This function plots the learning curves for all gradient descent procedures in this homework.\n",
    "    The plot is saved in the file learning_curve.png. No TODO here\n",
    "    Parameters\n",
    "    ----------\n",
    "    losses : list\n",
    "        A list of arrays representing the losses for the gradient at each iteration for each run of gradient descent\n",
    "    names : list\n",
    "        A list of strings representing the names for each gradient descent method\n",
    "    Returns\n",
    "    -------\n",
    "    nothing\n",
    "    \"\"\"\n",
    "    for loss in losses:\n",
    "        plt.plot(loss)\n",
    "    plt.xscale(\"log\")\n",
    "    plt.ylim(0, 10000)\n",
    "    plt.xlabel(\"Iterations\")\n",
    "    plt.ylabel(\"Squared Loss\")\n",
    "    plt.title(\"Gradient Descent\")\n",
    "    plt.legend(names)\n",
    "    plt.savefig(\"learning_curve.png\")\n",
    "    plt.show()\n"
   ]
  },
  {
   "cell_type": "code",
   "execution_count": 49,
   "id": "8495880f",
   "metadata": {},
   "outputs": [
    {
     "name": "stdout",
     "output_type": "stream",
     "text": [
      "(800, 17)\n"
     ]
    },
    {
     "name": "stderr",
     "output_type": "stream",
     "text": [
      "  9%|▊         | 859/10000 [00:00<00:01, 8088.86it/s]"
     ]
    },
    {
     "name": "stderr",
     "output_type": "stream",
     "text": [
      "100%|██████████| 10000/10000 [00:01<00:00, 8998.39it/s]\n",
      "100%|██████████| 10000/10000 [00:01<00:00, 5081.00it/s]\n",
      "100%|██████████| 10000/10000 [00:02<00:00, 3578.61it/s]\n"
     ]
    },
    {
     "name": "stdout",
     "output_type": "stream",
     "text": [
      "final training loss values\n",
      "single layer.........   161.5\n",
      "two layer............   154.7\n",
      "many layer...........   160.7\n"
     ]
    },
    {
     "data": {
      "image/png": "[encoded data removed]",
      "text/plain": [
       "<Figure size 640x480 with 1 Axes>"
      ]
     },
     "metadata": {},
     "output_type": "display_data"
    },
    {
     "name": "stdout",
     "output_type": "stream",
     "text": [
      "test loss of model 1: 105790.8732068747\n",
      "test loss of model 2: 113569.83930553994\n",
      "test loss of model 3: 124403.70111095396\n"
     ]
    },
    {
     "name": "stderr",
     "output_type": "stream",
     "text": [
      "100%|██████████| 10000/10000 [00:04<00:00, 2195.09it/s]"
     ]
    },
    {
     "name": "stdout",
     "output_type": "stream",
     "text": [
      "0.1011\n",
      "test loss of your \"best\" model: 130367.64292079299\n"
     ]
    },
    {
     "name": "stderr",
     "output_type": "stream",
     "text": [
      "\n"
     ]
    }
   ],
   "source": [
    "def train_networks():\n",
    "    Train_X, Train_Y = load_data(\"StudentsPerformance.csv\", \"train\")  # load the data set\n",
    "\n",
    "    N = 10000 # N needs to equal 10,000 for your final plot. You can lower it to tune hyperparameters.\n",
    "    print(Train_X.shape)\n",
    "\n",
    "    init_params0 = initialize_network([17,3], scale=0.1) # initializes a sigle layer network (perceptron)\n",
    "    losses0, final_params0 = gradient_descent(Train_X, Train_Y, init_params0, lr=1e-6, num_iterations=N)  \n",
    "\n",
    "    init_params1 = initialize_network([17, 5, 3], scale=0.1)  # initializes a two layer network\n",
    "    losses1, final_params1 = gradient_descent(Train_X, Train_Y, init_params1, lr=1e-6, num_iterations=N)  \n",
    "   \n",
    "    init_params2 = initialize_network([17, 7, 3, 3], scale=0.1)  # initializes a many layer network\n",
    "    losses2, final_params2 = gradient_descent(Train_X, Train_Y, init_params2, lr=1e-6, num_iterations=N)   \n",
    "\n",
    "    all_losses = [losses0, losses1, losses2]\n",
    "    names = [\"single layer\", \"two layer\", \"many layer\"]\n",
    "    print(\"final training loss values\")\n",
    "    for name, losses in zip(names, all_losses):\n",
    "        print(\"{0:.<21}{1:>8.1f}\".format(name, float(losses[-1])))\n",
    "\n",
    "    learning_curve(all_losses, names)\n",
    "\n",
    "    # TESTING \n",
    "\n",
    "    Test_X, Test_Y = load_data(\"StudentsPerformance.csv\", \"test\")\n",
    "\n",
    "    pred0, _ = forward(final_params0, Test_X)\n",
    "    test_loss0 = np.sum(np.square(Test_Y  - pred0)) \n",
    "    print(\"test loss of model 1:\", test_loss0)\n",
    "\n",
    "    pred1, _ = forward(final_params1, Test_X)\n",
    "    test_loss1 = np.sum(np.square(Test_Y  - pred1)) \n",
    "    print(\"test loss of model 2:\", test_loss1)\n",
    "\n",
    "    pred2, _ = forward(final_params2, Test_X)\n",
    "    test_loss2 = np.sum(np.square(Test_Y  - pred2)) \n",
    "    print(\"test loss of model 3:\", test_loss2)\n",
    "\n",
    "    # TODO choose the hyper parameters for your best model (change them in train_best_model() )\n",
    "    # You'll have to uncomment the below lines for once you find your best model\n",
    "\n",
    "    best_losses, best_params = train_best_model(Train_X, Train_Y) \n",
    "    best_pred, _ = forward(best_params, Test_X)\n",
    "    best_loss = np.sum(np.square(Test_Y - best_pred)) \n",
    "    print(\"test loss of your \\\"best\\\" model:\", best_loss)\n",
    "\n",
    "\n",
    "train_networks()"
   ]
  },
  {
   "attachments": {},
   "cell_type": "markdown",
   "id": "f0da1fdc",
   "metadata": {},
   "source": [
    "### 4a) That other bit you forgot about until now (10 points)\n",
    "1. Use *train_best_model()* (you’ll need to find some good hyperparameters) and plot its training alongside the other 3 models (you’ll need to change code in main to plot this) and show it here – Describe your best model and list the values of its hyperparameters here. You should be able to do significantly better than the default, you will be checked for the code you used to find a best model and for the quality of your final loss."
   ]
  },
  {
   "cell_type": "code",
   "execution_count": 48,
   "id": "f258f26e",
   "metadata": {},
   "outputs": [
    {
     "name": "stderr",
     "output_type": "stream",
     "text": [
      "  2%|▏         | 174/10000 [00:00<00:05, 1649.68it/s]"
     ]
    },
    {
     "name": "stderr",
     "output_type": "stream",
     "text": [
      "100%|██████████| 10000/10000 [00:04<00:00, 2109.62it/s]"
     ]
    },
    {
     "name": "stdout",
     "output_type": "stream",
     "text": [
      "0.1011\n",
      "final loss: 133.28059750877068\n"
     ]
    },
    {
     "name": "stderr",
     "output_type": "stream",
     "text": [
      "\n"
     ]
    }
   ],
   "source": [
    "def train_best_model(Train_X, Train_Y):\n",
    "    \"\"\"\n",
    "    This function will train the model with the hyper parameters\n",
    "    and layers that you have found to be best -- this model must get below 3\n",
    "    MSE loss on our test data (which is not the test data you are given)\n",
    "    \"\"\"\n",
    "\n",
    "    BEST_SCALE = 0.1011            # You need\n",
    "    BEST_LAYERS = [17, 15, 3]          # to change\n",
    "    BEST_ALPHA = 0.00001             # these\n",
    "    BEST_NUM_ITERATIONS = 10000    # !\n",
    "\n",
    "\n",
    "    best_params = initialize_network(BEST_LAYERS, BEST_SCALE)\n",
    "    best_losses, best_final_params = gradient_descent(Train_X, Train_Y, best_params, lr=BEST_ALPHA, num_iterations=BEST_NUM_ITERATIONS)\n",
    "\n",
    "    print(BEST_SCALE)\n",
    "    return best_losses, best_final_params\n",
    "\n",
    "Train_X, Train_Y = load_data(\"StudentsPerformance.csv\", \"train\")  # load the data set  \n",
    "best_losses,best_final_params = train_best_model(Train_X, Train_Y)\n",
    "\n",
    "print(\"final loss:\", best_losses[-1])     "
   ]
  },
  {
   "cell_type": "markdown",
   "id": "ab6306a5",
   "metadata": {},
   "source": []
  },
  {
   "attachments": {},
   "cell_type": "markdown",
   "id": "14038e05",
   "metadata": {},
   "source": [
    "2. Now note the printed test losses (the loss on the test set which isn’t trained on), for the 3 original models and your best, show the train loss and test loss. What is the relationship between these, explain why you think this is?\n",
    "\n",
    "test loss of model 1: 105753.67332288889\n",
    "test loss of model 2: 113589.8688507396\n",
    "test loss of model 3: 121774.24686293973\n",
    "test loss of your \"best\" model: 135425.31890427636\n",
    "\n",
    "single layer.........   161.5\n",
    "two layer............   154.8\n",
    "many layer...........   164.2\n",
    "final loss...........   132.2\n",
    "\n",
    "The test loss seems inversely proportional to the train loss. \n",
    "This may be due to my best model overfitting, leading to poor generalization."
   ]
  },
  {
   "cell_type": "markdown",
   "id": "460ea208",
   "metadata": {},
   "source": [
    "### 5) Time to Convert to PDF! (No Skipping this Step 🚀)\n",
    "\n",
    "Hi! Congrats on finishing (or reading ahead)! We'll be using the google colab library to convert your notebook into a pdf, so you'll need to convert to colab if you're not using it (or finding another way to convert to a pdf):\n",
    "\n",
    "📤 **Uploading to Colab from Your System? Here's How:**\n",
    "1. Go to [colab](https://colab.research.google.com/).\n",
    "2. Hit \"upload\" on the left sidebar of the pop-up box.\n",
    "3. Upload the notebook.\n",
    "4. It's alright if you've already run your code, the outputs of the cells should be brought over too.\n",
    "\n",
    "🛣️ **Once you're on colab (or if you always were):**\n",
    "1. First things first, click on File > Locate in Drive.\n",
    "2. Next up, copy the path of the folder where your notebook resides in your Drive and paste it in variable named `DIR_FOR_COLAB_NOTEBOOK` in the cell below. (Usually, it's just 'Colab Notebooks/')\n",
    "3. Next asisgn the variable named `NOTEBOOK_NAME` with the name of your notebook. Easy peasy!\n",
    "4. Run the final cells\n",
    "5. Double check the pdf has all of your code and outputs then slam that bad boy into gradescope.\n"
   ]
  },
  {
   "cell_type": "code",
   "execution_count": 33,
   "id": "41a29d1b",
   "metadata": {},
   "outputs": [],
   "source": [
    "DIR_FOR_COLAB_NOTEBOOK = 'Colab Notebooks/' #Please update it to the correct directory following the instruction\n",
    "NOTEBOOK_NAME = 'HW2_notebook.ipynb' #Please update this to the name of the file you see on top right next to colab logo"
   ]
  },
  {
   "cell_type": "code",
   "execution_count": 34,
   "id": "28e07f22",
   "metadata": {},
   "outputs": [
    {
     "ename": "ModuleNotFoundError",
     "evalue": "No module named 'google'",
     "output_type": "error",
     "traceback": [
      "\u001b[1;31m---------------------------------------------------------------------------\u001b[0m",
      "\u001b[1;31mModuleNotFoundError\u001b[0m                       Traceback (most recent call last)",
      "Cell \u001b[1;32mIn[34], line 2\u001b[0m\n\u001b[0;32m      1\u001b[0m \u001b[38;5;28;01mimport\u001b[39;00m \u001b[38;5;21;01mos\u001b[39;00m\n\u001b[1;32m----> 2\u001b[0m \u001b[38;5;28;01mfrom\u001b[39;00m \u001b[38;5;21;01mgoogle\u001b[39;00m\u001b[38;5;21;01m.\u001b[39;00m\u001b[38;5;21;01mcolab\u001b[39;00m \u001b[38;5;28;01mimport\u001b[39;00m drive, files\n\u001b[0;32m      3\u001b[0m \u001b[38;5;28;01mimport\u001b[39;00m \u001b[38;5;21;01msubprocess\u001b[39;00m\n\u001b[0;32m      5\u001b[0m \u001b[38;5;28;01massert\u001b[39;00m DIR_FOR_COLAB_NOTEBOOK \u001b[38;5;129;01mis\u001b[39;00m \u001b[38;5;129;01mnot\u001b[39;00m \u001b[38;5;28;01mNone\u001b[39;00m, \u001b[38;5;124m\"\u001b[39m\u001b[38;5;124mPlease update the variable DIR_FOR_COLAB_NOTEBOOK to the correct directory\u001b[39m\u001b[38;5;124m\"\u001b[39m\n",
      "\u001b[1;31mModuleNotFoundError\u001b[0m: No module named 'google'"
     ]
    }
   ],
   "source": [
    "import os\n",
    "from google.colab import drive, files\n",
    "import subprocess\n",
    "\n",
    "assert DIR_FOR_COLAB_NOTEBOOK is not None, \"Please update the variable DIR_FOR_COLAB_NOTEBOOK to the correct directory\"\n",
    "assert NOTEBOOK_NAME is not None, \"Please update NOTEBOOK_NAME to correct notebook name\"\n",
    "\n",
    "print(\"\\n#Mounting google drive\\n\")\n",
    "drive.mount('/content/drive/')\n",
    "notebook_dir = os.path.join('/content/drive/MyDrive', DIR_FOR_COLAB_NOTEBOOK)\n",
    "os.chdir(notebook_dir)\n",
    "\n",
    "print(\"\\n#Installing Dependencies\\n\")\n",
    "print(\"Installing nbconvert...\", end=\"\")\n",
    "subprocess.run(f\"pip install nbconvert\", shell=True)\n",
    "print(\"Done\")\n",
    "print(\"Installing texlive and dependancies...\", end=\"\")\n",
    "subprocess.run(f\"apt-get install texlive texlive-xetex texlive-latex-extra pandoc\", shell=True)\n",
    "print(\"Done\")\n",
    "\n",
    "print(\"\\n#Converting to PDF\\n\")\n",
    "print(f\"Running the following command:\\njupyter nbconvert --to pdf {NOTEBOOK_NAME} --output {NOTEBOOK_NAME.replace('.ipynb', '.pdf')}\\n\")\n",
    "print(\"Started conversion...\", end=\"\")\n",
    "result = subprocess.run(f\"jupyter nbconvert --to pdf {NOTEBOOK_NAME} --output {NOTEBOOK_NAME.replace('.ipynb', '.pdf')}\", shell=True, stderr=subprocess.PIPE)\n",
    "print(\"Done\")\n",
    "print(\"\\n##Output of conversion:\\n\")\n",
    "print(result.stderr.decode())\n",
    "\n",
    "print(\"\\n#Downloading PDF file\\n\")\n",
    "files.download(NOTEBOOK_NAME.replace('.ipynb', '.pdf'))"
   ]
  }
 ],
 "metadata": {
  "kernelspec": {
   "display_name": "Python 3",
   "language": "python",
   "name": "python3"
  },
  "language_info": {
   "codemirror_mode": {
    "name": "ipython",
    "version": 3
   },
   "file_extension": ".py",
   "mimetype": "text/x-python",
   "name": "python",
   "nbconvert_exporter": "python",
   "pygments_lexer": "ipython3",
   "version": "3.11.0"
  },
  "vscode": {
   "interpreter": {
    "hash": "60268a3974607f958e98a9322dd45e6d52b600b97a1d9eef60ef15acbb670d09"
   }
  }
 },
 "nbformat": 4,
 "nbformat_minor": 5
}
