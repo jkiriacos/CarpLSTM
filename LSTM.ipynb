{
 "cells": [
  {
   "cell_type": "code",
   "execution_count": 12,
   "id": "5da06227",
   "metadata": {},
   "outputs": [
    {
     "name": "stdout",
     "output_type": "stream",
     "text": [
      "['▁This', '▁is', '▁a', '▁sa', 'mp', 'le', '▁sentence', '▁to', '▁to', 'ken', 'ize', '.']\n",
      "[102, 22, 14, 1693, 2265, 421, 7627, 6, 6, 4296, 3055, 3]\n"
     ]
    }
   ],
   "source": [
    "import numpy as np\n",
    "import matplotlib.pyplot as plt\n",
    "from typing import Tuple, List\n",
    "from tqdm import tqdm\n",
    "import os\n",
    "import json\n",
    "import random\n",
    "\n",
    "import sentencepiece as spm\n",
    "\n",
    "sp = spm.SentencePieceProcessor()\n",
    "sp.load('spm_model.model')\n",
    "\n",
    "text = \"This is a sample sentence to tokenize.\"\n",
    "tokens = sp.encode_as_pieces(text)\n",
    "print(tokens)\n",
    "print(sp.encode_as_ids(text))"
   ]
  },
  {
   "cell_type": "code",
   "execution_count": 16,
   "id": "edb41a33",
   "metadata": {},
   "outputs": [
    {
     "name": "stderr",
     "output_type": "stream",
     "text": [
      "100%|██████████| 3332/3332 [00:00<00:00, 10003.21it/s]\n"
     ]
    },
    {
     "name": "stdout",
     "output_type": "stream",
     "text": [
      "['TREAT VERY CONFIDENTIAL & URGENT RESPONSES. From The Desk Of jerry kabore(Esq).The Head Of File Department,African Development Bank A.D.BOuagadougou Burkina-Faso West Africa.Phone: 00226-7885 75 97.\\xa0\\xa0\\xa0\\xa0\\xa0\\xa0\\xa0\\xa0\\xa0 reply me with this email address jerry _kabore01@yahoo.com PLANE CRASH WEB SITE...http://news.bbc.co.uk/1/hi/world/europe/859479.stm\\xa0\\xa0\\xa0\\xa0\\xa0\\xa0\\xa0\\xa0\\xa0\\xa0\\xa0\\xa0\\xa0\\xa0\\xa0\\xa0\\xa0\\xa0\\xa0\\xa0\\xa0 \\xa0 (\"REMITTANCE OF $15 MILLION U.S.A DOLLARS\\xa0\\xa0\\xa0\\xa0\\xa0\\xa0\\xa0\\xa0\\xa0\\xa0\\xa0\\xa0\\xa0\\xa0\\xa0\\xa0\\xa0\\xa0\\xa0\\xa0\\xa0\\xa0\\xa0\\xa0\\xa0\\xa0\\xa0\\xa0\\xa0\\xa0\\xa0\\xa0\\xa0\\xa0\\xa0\\xa0\\xa0\\xa0 \\xa0CONFIDENTIAL IS THE CASE\")Compliment Of The Season, On a very good day. I am (jerry kabore\\xa0Esq),The Head of file Department in African developent bank (ADB).I got your contact from Yahoo tourist search.When i was searching for a foreign partner i assured of your capability and reliability to champion this businees opportunity when i prayed to God or   Allah about you.In my department we discovered an abandoned sum of $ 15 million U.S.A dollars ( fifteen million U.S.A dollars) . In an account that belongs to one of our foreign customer who died along with his entire family in (Monday 31st July 2000) in a plane crash. Since we got information about his death, we have been expecting his next of kin to come over and claim his money because we cannot release it unless somebody applies for it as next of kin or relation to the deceased as indicated in our banking guidelines, but unfortunately we learnt that all his supposed next of kin or relation died alongside with him at the plane crash leaving nobody behind for the claim. It is therefore upon this discovery that I and one official in my department now decided to make this businness proposal to you and release the money to you as the next of kin or relation to the deceased for safety and subsequent disbursement since nobody is coming for it   and we don’t want this money to go into the bank treasury as unclaimed bill.The Banking law and guideline here stipulates that if such money remained unclamed after five years, the money will be transfered into the Bank treasury as unclaimed fund. The request of foreigner as next of kin in this business is occasioned by the fact that the customer was a foreigner, and a Burkinabe cannot stand as next of kin to a foreigner. We agree that 30 % of this money will be for you as foreign partner, in respect to the provision of a foreign account, 10 % will be set aside for expenses incured during the business and 60 % would be for me and my woman colleague. There after i will visit your country for disbursement according to the percentages indicated. Therefore to enable the immediate trnansfer of this fund to you as arranged, you must apply first to the bank as relations or next of kin of the deceased indicating your bank name, your bank account number, your private   telephone and fax number for easy and effective communication and location where the money will be remitted.Upon receipt of your reply, I will send to you by fax or email the text of the application I will not fail to bring to your notice that this transaction is hitch free and that you should not entertain any atom of fear as all required arrangements have been made for thetransfer. You should contact me on my number 00226-7885 75 97, immediately as soon as you receive this letter. Trusting to hear from you immediately. Your’s faithfully,\\xa0jerry kabore\\xa0(Esq.)POST SCRITUM:You have to keep everything secret as to enable the transfer to move very smoothly in to the account you will prove to the bank.As you finished reading this letter call me immediately so that we discuss very well over this business.'\n",
      " '. TEDDY WILLIAMS & ASSOCIATES   \\nAddress:33 Bedford Row                    \\nLondon WC1R 4JH, England  \\nPARTNER MANAGING\\nTEDDY WILLIAMS & ASSOCIATES\\nLONDON - UK.\\n \\nAttention: \\n \\nOn behalf of the Trustees and Executor of the estate of Late Engr. \\nJürgen Krügger. I once again try to notify you as my earlier letter was \\nreturned undelivered. I hereby attempt to reach you again by this same \\nemail address on the WILL. I wish to notify you  that late Engr. Jürgen\\nKrügger made you a beneficiary to his WILL. He left the sum of Thirty \\nMillion, One Hundred Thousand Dollars (USD$30, 100.000.00) to you in the \\nCodicil and last testament to his WILL.\\n \\nThis may sound strange and unbelievable to you, but it is real and \\ntrue. Being a widely traveled man, he must have been in contact with you in \\nthe past or simply you were nominated to him by one of his numerous \\nfriends abroad who wished you good. Engr. Jürgen Krügger until his\\ndeath was a member of the Helicopter Society and the Institute of \\nElectronic &  Electrical Engineers. He was a very dedicated Christian who \\nloved to give out. His great philanthropy earned him numerous awards \\nduring his life time. Late Engr. Jürgen Krügger died on the 13th day of December, \\n2004 at the age  of 80 years, and his WILL is now ready for execution.\\nAccording to him this money is to support your humanitarian activities \\nand to help the poor and the needy in our society. Please if I reach \\nyou as I am hopeful, endeavor to get back to me as soon as possible to\\nenable me conclude my job. I hope to hear from you in no distant time. \\nNote: You are advise to contact me with my personal email address:  \\n \\nYours in Service,\\nPlease get to me via my private Email: tdy_williams@yahoo.co.uk\\nBARRISTER TEDDY WILLIAMS ESQ\\n \\n________________________________________________________________________\\nCheck out the new free AOL Email -- 2GB of storage and industry-leading spam and email virus protection.'\n",
      " 'Greeting from Dubai.. Greetings from Dubai,\\n \\nThis letter must come to you as a big surprise, but I believe it is only a day that people meet and become great friends and business partners.  I am Mr. Ali Raza Khan, currently Head of Coporate affairs with a reputable bank here in U. A. E.  I write you this proposal in good faith, believing that I can trust you with the information I am about to reveal to you.\\n \\nI have an urgent and very confidential business proposition for you. On November 6, 2000, an Iraqi Foreign  Oil consultant/contractor with the CHEVRON PETROLEUM CORPORATION, MR. jack farrer powell  made a (Fixed deposit) for 36 calendar months, valued at US$17,500,000.00 (Seventeen Million Five hundred Thousand Dollars only) in my \\nbank and I happen to be his account officer before I was moved to my present position recently. Upon maturity in 2003,as his account officer and as well the bank manger, it is my duty to notify him on the maturity date so I sent a routine notification to his forwarding address but the letter was returned undelivered. \\n \\nAfter sometime, I tried sending back the letter,but it was again returned and finally I discovered from his contract employers, Chevron Petroleum Corporation that Mr.jack farrer powell  died as a result of torture in the hand of Saddam Hussein (former Iraqi President) during one of his trips to his country Iraq, as he was accused of leaking information to the Americans. On further investigation, I discovered that Mr. jack farrer powell  family wife and two sons died during the Gulf War in Iraq and was the reason why he did not declare any next of kin or relation in all his \\nofficial documents, including his Bank Deposit paperwork in my Bank and did not leave any WILL.This sum of US$17,500,000.00 have been floating and placed under dormant/unserviceable account by my bank management since no one have heard from the owner since 2003.I wish to let you know that all the investigation I have made so far, my bank \\nmanagement is not aware of it, I am the only one that have the information.\\n \\nWith the recent change of government in my country and with their efforts to support the United Nations in checkmating terrorism aid in the U. A. E.  By end of this year, the government will pass a new financial control law which will give the government authority to interrogate account owners of above $5,000,000.00 to explain the source of the funds, making sure it is not for terrorism support.  If I do not move this money out of the country immediately, by end of the year the government will definitely confiscate the money, because my bank cannot provide the account owner to explain the source of the money.  \\n \\nI cannot directly transfer out this money without the help of a foreigner and that is why I am contacting you for an assistance.  As the Account Officer to late jack farrer powell , coupled with my present position and status in the bank as Head of Retail Banking Groug , I have the power to influence the release of the funds to any foreigner that comes up as the next of kin to the account, with the correct information concerning the account, which I shall give you.  All documents to enable you claim this fund will be carefully worked out and there is practically no risk involved, the transaction will be executed under a legitimate arrangement that \\nwill protect you from any breach of law, beside U. A. E is porous and anything goes.\\n \\nIf you accept to work with me, I want you to state how you wish us to share the funds in percentage, so that both parties will be satisfied. If you are interested, contact me as soon as you receive this message  so we can go over the details.  \\nThanking you in advance and may God bless you. Please, treat with utmost confidentiality . I shall send you copy of his last statement of account issued to Al Nasser when the deposit was made for your perusal.  I wait your urgent response soon. \\n  \\n \\nRegards,     \\nMr. Ali Raza Khan.'\n",
      " \"IMPERATIVE AND PRIVATE. FROM: MRS. ELIZABETH OGALI\\nDEPARTMENT OF PETROLEUM RESOURCES\\n7 KOFO ABAYOMI STREET, VICTORIA ISLAND\\nLAGOS - NIGERIA.\\n\\nIMPERATIVE AND PRIVATE\\n\\nThis letter may come to you as a surprise but it was borne out of my sincere\\ndesire to share a mutual business relationship with you. First, your strictest\\nconfidence in this transaction is highly solicited. This is by virtue of\\nits nature as being utterly confidential and top secret.\\n\\nWe are top government official with a statutory corporation and members\\nof an ad hoc committee set up by the Federal Government of Nigeria to review\\ncontract awarded by past administration. In the course of identifying, scrutinizing\\nand recommending for the payment of all valid contract executed, we discovered\\na huge sum of money amounting to USD41.5M (Forty One Million five Hundred\\nThousand US Dollars) on grossly over invoiced contract already awarded and\\nexecuted for the Department of Petroleum Resources. Having Cleaned the 'AUGEAN\\nSTABLE' we intend to transfer the balance of USD41.5M presently floating\\nin our apex bank of Nigeria to our own benefit and advantage.\\n\\nHowever, we request for your unwavering assistance in this regard because\\nas civil servants we are prohibited under the civil service code of conduct\\nbureau from operating a foreign account or running a foreign company unless\\nafter retirement in this vain we want you to front for us as partner to\\nenable us lodge the funds speedily into your account. Bear in mind that\\nno risk is attached to this project and all logistics are in place and modalities\\nworked out for the smooth conclusion within a stipulated time. This is in\\naccordance with the fact that you must never betray the trust already reposed\\non you. We have decided to compensate you with 30% of the total sum for\\nyour support, 60% for us while 10% for miscellaneous expenses (local and\\ninternational).\\n\\nPlease, provide your confidential phone and fax number to enable my boss\\n(Dr. Robert Swafa) contact you for further discussion on this matter to\\nhis private email address: (r_swafa1@lycos.com)\\n\\nPlease advise in your return e-mail if any time is confidential enough to\\ncall you.\\n\\nLooking forward to hearing from you.\\n\\nBest regards,\\n\\nMrs Elizabeth Ogali\\n(Secretary of the Committe)\\n\\n__________________________________________________________________\\nTiscali Adsl 640 Free: fino al 15 novembre i consumi sono GRATIS!\\nSe sottoscrivi un'Adsl Free 640 entro il 14 ottobre avrai gratis tutti\\ni consumi fino al 15/11/04 compreso! In piu' sono gratis il modem\\nin comodato e l'attivazione. Cosa aspetti? Prima attivi, piu' risparmi!\\nhttp://abbonati.tiscali.it/adsl/\"\n",
      " \"Mrs Aicha Ahmed, TREAT VERY URGENT AND CONFIDENTIAL. CALL ME 0022676743842.. My Dear,\\n\\nI am Mrs Aicha Ahmed, the manager of bill and exchange at the foreign \\nremittance department Bank Of Africa.\\n\\nIn my department we discoveredan abandoned sum of US$14.5M (fourteen million \\nfive hundred thousand US dollars) in an account that belongs to one of our \\nforeign customer who died along with his family in the 2003 in a plane \\ncrash.\\n\\nSince we got information about his death, we have been expecting his next of \\nkin to come over and claim his money because we cannot release it unless \\nsome body applies for it as next of kin or relation to the deceased as \\nindicated in our banking guide lines and laws but unfortunately we learnt\\nthat all his supposed next of kin or relation died alongside with him at the \\nplane crash leaving nobody behindfor the claim.\\n\\nIt is therefore upon this discovery that I now decided to make this business \\nproposal to you and release the money to you as the next of kin or relation \\nto the deceased for safety and subsequent disbursement since nobody is \\ncoming for it and we don't want this money to go into the bank\\ntreasury as unclaimed bill.\\n\\nThe banking law and guidelines here stipulates that if such money remained \\nunclaimed after four years, the money will be transferred into the bank \\ntreasury as unclaimed fund.\\n\\nThe request of foreigner as next of kin in this business is occasioned by \\nthe fact that the customer was a foreigner and a Burkina cannot stand as \\nnext of kin to a foreigner.\\n\\nI agree that 45% of this money will be for you as respect to the provision \\nof a foreign account , 5% will be set aside for expenses incurred during the \\nbusiness and 50% be for me.\\n\\nThereafter, I will visit your country fordisbursement according to the \\npercentage indicated. Therefore, to enable the immediate transfer of this \\nfund to you as arranged, you must apply\\nfirst to the bank as relation or next of kin of the deceased indicating your \\nbank name, your bank account number, your private telephone and fax number \\nfor easy and effective communication and location where the money will be \\ntransfer.\\n\\nUpon receipt of your reply, I will send to you by fax or email the text of \\nthe application. I will not fail to bring to your notice that this \\ntransaction is hitch-free and that you should not entertain any atom of fear \\nas all required arrangements have been made for the transfer.\\n\\nYou should contact me immediately as soon as you receive this mail,Trusting \\nto hear from you immediately.\\n\\nYours faithfully.\\n\\nMrs Aicha Ahmed.\\n\\nN/B: CALL ME AS SOON AS YOU RECEIVE THIS MAIL OR\\nEMAIL Me.\\nTEL:0022676743842.\\n\\n_________________________________________________________________\\nMSN Messenger : discutez en direct avec vos amis ! \\nhttp://www.msn.fr/msger/default.asp\"\n",
      " \"I NEED YOUR URGENT ASSISTANCE. Dear Sir,  In order to transfer out (USD 45 MILLION) Forty Five million United  States Dollars) from BANK OF AFRICA (BOA): I have the courage to ask  for your assistance to handle this important and confidential business  believing that you will never let me down either now or in future. I am  MR. BENJAMINE S.ADAM, the OPERATIONAL MANAGER of BANK OF AFRICA, (BOA)  BENIN.  There is an account opened in this bank in 1989 and since 1996 nobody  has operated on this account again. After going through some old files  in the records, I discovered that if I do not remit this money out  urgently it will be forfeited for nothing.  The owner of this account is Mr.PAULTON ALLEN, a foreigner, and a miner at D&D INVESMENT CO, a  geologist by profession and he died since 1996.  No other person knows about this account or any thing concerning it,  the account has no other beneficiary and my investigation proved to me  as well that this company does not know anything about this account and  the amount involved is (USD 45M).  I want to transfer the [USD 45M] Forty Five million United States  Dollars into a safe foreigners account abroad, but I don't know any  foreigner.  I am only contacting you as a foreigner because this money  can not be approved to a local bank here, but can only be approved to any  foreign account because the money is in us dollars and the former owner  of the account is Mr.PAULTON ALLEN a foreigner too.  I know that this message will come to you as a surprise as we dont  know our selves before, but be sure that it is real and a genuine  business.  I only got your contact address from my secretary who  operates computer with believe in God that you will never let me down in this  business.You are the only person that I have contacted in this  business, so please reply urgently so that I will inform you the next step to take.  Send also your private telephone and fax numbers including the full  details of the account to be used for the deposit. I want us to meet  face to face or sign a binding agreement to bind us together so that you can  receive this money into a foreign account or any account of your choice  where the fund will be safe.  I will fly to your country for withdrawal, sharing and other  investments. I am contacting you because of the need to involve a  foreigner with foreign account and to act as a foreign beneficiary.  I need your full co-operation to make this work fine because the  management is ready to approve this payment to any foreigner who has  correct information of this account which I will give to you later immediately,  if you are able and with capability to handle such amount in strict  confidence and trust according to my instructions and advice for our  mutual benefit because this opportunity will never come again in my  life.  I need truthful person in this business because I don't want to make  mistake, I need your strong assurance and trust. With my position now  in the office I can transfer this money to any foreigner's reliable  account, which you can provide with assurance that this money will be  intact pending my physical arrival in your country for sharing.  I will destroy all documents of transaction immediately we receive this  money leaving no trace to any place. You can also come to discuss with  me face to face after which I will make this remittance in your  presence and two of us will fly to your country so at least two days  ahead of the money going into the account.  I will apply for annual leave to get visa immediately I hear from you  that you are ready to act and receive this fund in your account.  I will use my position and influence to effect legal approvals and  onward transfer of this money to your account with appropriate  clearance forms of the ministries and foreign exchange departments.  At the conclusion of this business, you will be given 35% of the total  amount, 60% will be for me, while 5% will be for expenses both parties  might have incurred during the process of transferring.  Please bear in mind that this fund is not  a looted or stolen money but rather a hard earned money generated. Pls if you are willing to work with me, kindly forward to me your  personal detail to enable me reach you, this includes the following: 1. Your full names 2. Your residential address 3. Your bank account informations 4. Your occupation\\xa0  5. Your telephone and fax numbers 6. Including more Preamble about yourself (marital status) \\xa0\\xa0  \\xa0  Below is my alternative Contacts: \\xa0 E-MAIL: ben_salifou@yahoo.com  \\xa0\\xa0  PHONE# 229-98-177798 COTONOU BENIN REPUBLIC. \\xa0 I look forward to your earliest reply.  Yours Truly,  MR. BENJAMINE SALIFOU ADAM \\xa0 Msg sent via eMailWave - http://emailwave.com/ - Get your own FREE account and start receiving your eMail.\"\n",
      " 'A CALL FOR HELP. FROM RITA GUEI \\nAbidjan cote D`Ivoire\\nWest Africa.\\n   \\n  Dearest One, \\n   \\n  I am the first duaghter of an ex military/ex president been an opposition party to the present Government of COTE D`IVOIRE. On the 19th sept 2002 my father/mother including every members of our family was murdered by the unknown REBELS during the time they attack our house by shooting and looting, even this is one of the things that contributed to the present crisis in our country today. \\n   \\n  God so kind I was not in town when the incident occurred, the plans of the REBELS is to kill every members of our family so that no one will rise up to revenge as time goes on. I am in our country without any one knowing although I am on hiding so that the unknown REBELS will not get to me and kill me like they killed all the members of our family. Why I still stay back in our country is to transfer the $18.5mUSD which my late father deposited in the custody.\\n   \\n  he deposited the fund as a family treasure containing AFRICAN ART WORK FOR EXPORT for security reasons, as security company does not operate as bank where some one can deposit his/her money openly. \\nBefore the death of my father he gave me the covering documents of the fund deposited in the security company, as I am his first duaghter and he so much loved me that was why he made me the beneficiary of the two iron trunk boxes containing the $18.5mUSD. Right now I wish to transfer this fund to you so that you will assist me to invest the money into any viable sector in your country, also you will help me to join you in your country for me to start up a new life with you there immediately the fund gets to you. since I am no longer safe as far as Africa is concern at the moment, I wanted to transfer the fund before leaving the country because this fund is my last hope and the only hope I have now. \\n  Before I even pick you to assist me I have prayed and slept over it asking God to provide for me a Godly minded person that will assist me in this transaction. I will give you more details of the transaction in my next mail. \\nAwaiting to hear from you,\\n  Thanks and God bless you. \\nRita Guei. \\n\\n\\n\\n\\t\\t\\n---------------------------------\\n Nouveau : téléphonez moins cher avec Yahoo! Messenger. Appelez le monde entier à partir de 0,012 \\x80/minute ! Téléchargez la version beta.\\n\\t\\t\\n---------------------------------\\n Nouveau : téléphonez moins cher avec Yahoo! Messenger. Appelez le monde entier à partir de 0,012 \\x80/minute ! Téléchargez la version beta.'\n",
      " 'REPLY URGENT AND CALL ME.. FROM THE DESK OF : MR MOHAMAT ALI,\\nAUDITING AND ACCOUNTING SECTION,\\nAFRICAN DEVLOPMENT BANK ( A.D.B )\\nOUAGADOUGOU BURKINA-FASO,WEST AFRICA.\\n\\n\\nAttention Please,\\n\\n\\nI am Mr Mohamat Ali, the Director in charge of Auditing and Accounting \\nsection of AFRICAN DEVELOPMENT BANK (A.D.B) Ouagadougou Burkina-faso West \\nAfrica. With due respect and regard. I have decided to contact you on a \\nbusiness transaction that will be very beneficial to both of us at the end \\nof the transaction .\\n\\n\\nDuring our investigation and auditing in this bank, my department came \\nacross a very huge sum of money belonging to a deceased person who died in a \\nplane crash and the fund has been dormant in his account with this Bank \\nwithout any claim of the fund in our custody either from his family or \\nrelation before our discovery to this development.\\n\\n\\nThe said amount was U.S 7.5M (Seven Million,Five Hundred Thousand United \\nStates Dollars). As it may interest you to know, I got your impressive \\ninformation through internet directory . Meanwhile all the whole arrangement \\nto put claim over this fund as the bonafide next of kin to the deceased, get \\nthe required approval and transfer this money to a foreign account has been \\nput in place and directives and needed information will be relayed to you as \\nsoon as you indicate your interest and willingness to assist, and also \\nbenefit your self to this great business opportunity.\\n\\n\\nIn fact I could have done this deal alone but because of my position in this \\ncountry as a civil servant(A Banker),we are not allowed to operate a foreign \\naccount and would eventually raise an eye brow on my side during the time of \\ntransfer because I work in this bank. This is the actual reason why it will \\nrequire a second party or fellow who will forward claims as the next of kin \\nwith affidavit of trust of oath to the Bank and also present a foreign \\naccount where he will need the money to be re-transferred into on his \\nrequest as it may be after due verification and clarification by the \\ncorrespondent branch of the bank where the whole money will be remitted from \\nto your own designation bank account.\\n\\n\\nI will not fail to inform you that this transaction is 100% risk free.On \\nsmooth conclusion of this transaction, you will be entitled to 30% of the \\ntotal sum as gratification, while 10% will be set aside to take care of \\nexpenses that may arise during the time of transfer and also telephone and \\ninternet bills, while 60% will be for me and my coleagues. Please, you have \\nbeen adviced to keep \"Top Secret\" as I am still in service and intend to \\nretire from service after we conclude this deal with you.\\n\\n\\nI will be monitoring the whole situation here in this bank until you confirm \\nthe money in your account and ask me to come down to your country for \\nsubsequent sharing of the fund according to percentages previously indicated \\nand further investment, either in your country or any country you advice us \\nto invest in. All other necessary vital nformation will be sent to you when \\nI hear from you.\\n\\n\\nI look forward to receive your phone and fax numbers for easy communication,\\n\\n\\nYours faithfully,\\n\\n\\nMr Mohamat Ali.\\n\\nMOBILE: ( 00226 78 82 97 88 )\\n\\n_________________________________________________________________\\nDon\\'t just search. Find. Check out the new MSN Search! \\nhttp://search.msn.com/'\n",
      " 'Inquiry!. Dear Sir/Madam,\\n\\nI am conducting a standard process investigation on behalf of our Bank an\\ninternational banking conglomerate. This investigation involves a client\\nand also the circumstances surrounding investments made by this client\\nwith our\\nBank.\\n\\nOur client died intestate and nominated no successor in title over the\\ninvestments made with our bank. The essence of this communication with you\\nis to request you provide us information/comment on this issue so that I\\ncan\\nuse my position in the bank to establish your eligibility to assume status\\nof successor in title to the deceased.\\n\\nYou must appreciate that we are constrained from providing you with more\\ndetailed information at this point.\\n\\nPlease respond to this mail as soon as possible to afford us the\\nopportunity to explain further details to you.\\n\\nBest Regards,\\nPatrick Berger.'\n",
      " \"Attn:My Dear Friend,. Attn:My Dear Friend,\\n \\nWith God mercy, I eventually concluded the deal with another foreigner fellow.\\n \\nIn respective of the fact that our earlier collaboration in the project did not quite work out then due to circumstances which wasn't your fault nor mine,I quite appeciated your support to me in pursuit of this course in the past.\\n \\nFor this singular reason, I provided the sum of U.S$900,000.00 in certified bank draft for you and left it with my attorney in Benin for you shortly before I jetted out of the country with my wife and children to pursue investment with my share of the proceeds.\\n \\nIn order to get this amount released to you as per my standing instruction, do get in touch with my attorney in person of BARR.MICHAEL RHODES on his private email address ( mrhodes30@myway.com ) \\n \\nUpon receipt of this allotted sum from my attortney, do notify me in writing because it is my wish that you enjoy the fruit of our labour as am doing at this moment with my family.\\n \\nI will be expecting your earliest response confirming you have received and cashed the draft thus strengthening our existing relationship for more fruitful cooperation in future.\\n\\nTill then,I remain;\\n\\nYours Sincerely,\\n\\nMr.Aminu Martins\\n\\n\\n**************\\nRegistrati ad Alice Basic e scarica Alice Messenger, \\nil nuovo instant messenger che ti fa chattare GRATIS con i tuoi amici!\\nPer maggiori informazioni vai su: \\nhttp://adsl.alice.it/servizi/alicebasic.html?pmk=psmail_foot01\"\n",
      " 'urgent. Attn:\\n\\n Sir,\\n\\nI am Prince Danladi A. Kabila Jr, Cousin to the late\\npresident of the Democratic Republic of Congo (DRC)\\nformerly known as Zaire, who was assassinated in\\nJanuary 2001 by his bodyguard. I came across your\\ncontact via a missionary that visited our asylum Camp,\\nbut I did not disclose the nature of this transaction\\nto her because of the secrecy involved.\\n\\nAccordingly, I will like to inform you that this is\\nnote a bragging because it will look too cheap and\\nsurprised to you from the way I have contacting you to\\nassist me in making this transaction a success.  \\n\\nDue to the war raged in our Republic, the late\\nPresident, Laurent Kabila was using me, through\\ndiplomatic means, to send money out of the Republic\\nbecause of the fear that a coup de tat may take place\\nat any time.\\n\\nI did this on two consecutive occasions, on the third\\ntrip, myself and some aides decided to divert the\\ndelivery, which amounted to US$30Million (Thirty\\nMillion United states Dollars).\\n\\nI am presently in exile, because of exactly what\\nhappened to my late cousin, former President Laurent\\nDesire Kabila, May his soul rest in peace.\\n\\nI have since deposited the money into a Security\\nCompany in one of the European Country that will be\\ndisclosed to you upon your acceptance to assist me,\\nbut the real content of the deposited box containing\\nthis fund was not disclosed to them for Security\\nreason.\\n\\nDue to shortcomings and restrictions prevailing in\\nhere regarding refugee policy, I came up with the idea\\nof foreign investment for the fund, with the\\npossibility of a joint stock venture with a foreign\\npartner, outside the continent of Africa.\\n\\nMy main aim and objective of contacting you is to ask\\nfor your assistance in retrieve the said fund from the\\nprivate firm where it was deposited and transfer it\\ninto your private or company&#8217;s account in your\\ncountry.\\n\\nThere is no risk involved, as this is confidential. I\\nhave decided to let you have 25% of the total amount\\nof the fund, 5% is for expenses that will be incurred\\nduring the transaction, and the remaining 70% of the\\nfund is for myself, which I would like to invest in\\nyour country.\\n\\nIf you can be trusted and interested, please contact\\nme on the below e-mail as soon as\\npossible:private_danladi@yahoo.com.au\\n\\nOn the receipt of your acceptance mail, I shall give\\nyou more clarification on the modalities needed for\\nthe successful completion of this transaction.\\n\\nBest regards,\\n\\nPrince Danladi A. Kabila Jr.\\n\\n\\n\\n\\t\\t\\n___________________________________________________________ \\nLike being first? Check out the all-new Yahoo! Mail today.\\nhttp://uk.docs.yahoo.com/nowyoucan.html'\n",
      " \"REPLY BACK URGENTLY PLEASE!!!. FROM THE DESK OF MRS. AICHA AHMED\\nTHE BILL AND EXCHANGE MANAGER\\nAUDITING AND ACCOUNTING UNIT.\\nFOREIGN REMITTANCE DEPT.\\nBANK OF AFRICA (BOA)ANNEX\\nOUAGA-BURKINA FASO.\\n\\n\\nI am mrs Aicha  Ahmed, the manager in charge of auditing and accounting unit \\nforeign remittance department of bank of africa (BOA)ouaga-burkina faso in \\nwest Africa.\\nWith due respect and regards I have decided to contact you on a business \\ntransaction that will be very beneficial to both of us at the end of the \\ntransaction ,During our investigation and auditing in the bank, in my \\ndepartment I came across a very huge sum of money belonging to a deceased \\nperson, a foriegner who died in a plane crash and the fund has been dormant \\nin his account with the bank without any claim of the fund in our custody \\neither from his family or relation before my discovery to this \\ndevelopment,Although personally, I kept this information secrete within \\nmyself and  to enable the whole plans and idea be profitable and uccessful \\nduring the time of execution.\\n\\nThe amount involved is (us$7,500.000) (Seven Million Five Hundred Thousand \\nUnited State Dollars ). Meanwhile, all the whole arrangement and directives \\nneeded to put claim over this fund as the next of kin to the deceased, Upon \\nyour acceptance all the information will be forward to you as soon as you \\nindicate your interest and willingness to assist me and also benefit your \\nself to this great business opportunity,In fact, I could have done this deal \\nalone but because of my position in this country as a civil servant,we are \\nnot allowed to operate a foriegn account and would eventually raise an eye \\nbrow on my side during the time of transfer because I work in this bank, \\nthis is the actual reason why it will require a second party or fellow who \\nwill forward claims as the next of kin with affidavit of trust of Oath to \\nthe bank and also present a foriegn account where you will need the said \\nfund to be transferred into, after due verification and clarification to \\ndesignated bank account,I will not fail to inform you that this transaction \\nis 100% risk free, On smooth conclusion of this transaction, you will be \\nentitled to 40% of the total sum as ratification, while 10% will be set \\naside to take care of expenses that may arise during the time of transfer \\nsuch as telephone bills etc,While 50% will be for me.\\n\\n\\nPlease you have been adviced to keep top secret as I am still in service and \\nintend to retire from service after I conclude this deal with you, I will be \\nmonitoring the whole situation here in the bank until you confirm the money \\nin your account and ask me to come down there for subsequent shearing of the \\nfund according to percentages previously indicated and further \\ninvestment,either in your country or any other country you may advice me to \\ninvest in.\\nAll other necessary information will be sent to you when I hear from you, I \\nsuggest you get back to me as soon as possible, stating your wish in this \\ndeal.\\n\\nTrusting to receive your urgent reply through my alternative Email \\n:mrs_aicha9@yahoo.fr\\nYour's Sincerely\\nmrs Aicha Ahmed\\n\\n_________________________________________________________________\\nMSN Messenger : discutez en direct avec vos amis ! \\nhttp://www.msn.fr/msger/default.asp\"\n",
      " \"Confidential and urgent. 恝  玲恬  퓸求! 見玲念  玲:nath_sochimapbci@yahoo.co.kr\\n\\n>From Desk:Mr Sochima Nathanael\\n\\nOffice:Audit & Acct Unit\\n\\nPlot 23 Avenue Joseph Anoma.\\n\\nPlateau Abidjan - Cote D' Ivoire.\\n\\nSubject:(Urgent& Confidential)\\n\\n(Transfer of $21,000.000.00 USD)\\n\\n(TWENTY ONE MILLION DOLLARS)\\n\\n\\nAtten:President/Director\\n\\n\\nWe want to transfer to overseas account $21,000. 000.00 USD)and twenty one million United States Dollars,from one of the Famous Bank here Abidjan,the capital of Cote d'Ivoire in Africa(the name of the bank withheld for security reason),I want to ask you to quietly look for a reliable and honest person who will be capable and fit to provide either an existing bank account or to set up a new bank a/c immediately to receive this money,even an empty a/c can serve to receive this money,as long as you will remain honest to me till the end for this important business trusting in you and believing in God that you will never let me down either now or in future.I am Mr Sochima Nathanael,the auditor general of one of the Famous Bank here ABIDJAN(Capital of Cote d'Ivoire),during the course of our auditing,I discovered a floating funds in an account opened in the bank in 1999 and since 2000 nobody has operated on this account again,after going through some old files in the records I discovered that the owner of the account died without a[heir]hence the money is floating and if I do not remit this money out urgently it will be forfeited for nothing.The owner of this account is Mr.Allan.P.Wassersug,a foreigner,and an industrialist,and he died,since on monday 31 July, 2000,and no other person knows about this account or any thing concerning it,the account has no other beneficiary and my investigation proved to me as well that,Allan P. Wassersug until his death was the CEO/ Director,P Wassersug shipping company[plc]cCote d'Ivore.We will start the first transfer with ten million[$10,000.000]upon successful transaction without any disappoint from your side,we shall re-apply for the payment of the remaining rest amount to your account.The amount involved is (USD21M) twenty one million United States Dollars only.I want to first transfer $10,000.000 [ten million United States Dollar] from this money into a safe foreigners account abroad before the rest but I don't know any foreigner,I am only contacting you as a foreigner because thi\\ns money can not be approved to a local person here,without valid international foreign passport,but can only be approved to any foreigner with valid international passport or drivers license and foreign a/c because the money is in US dollars and the former owner of the a/c Mr.Allan P.Wassersug is a foreigner too,and the money can only be approved into a foreign a/c. However,we will sign a binding agreement,to bind us together.I got your contact address from our chamber of commerce,I am revealing this to you with believe in God that you will never let me down in this business,you are the first and the only person that I am contacting for this business,so please reply urgently so that i will inform you the next step to take urgently. Send also your private telephone and fax number including the full details of the account to be used for the deposit.I want us to meet face to face to build confidence and to sign a binding agreement that will bind us together before transferring the money to any account of your choice where the fund will be safe.Before we fly to your country for withdrawal,sharing and investments.I need your full co-operation to make this work fine,Because the arrangement is ready to approve this payment to any foreigner who has correct information of this account,which I will give to you,upon your positive response and once I am convinced that you are capable and will meet up with instruction of a key bank official who is deeply involved with me in this business I need your strong assurance that you will never,never let me down.with my influence and the position of the bank official we can transfer this money to any foreigner's reliable account which you can provide with assurance that this money will be intact pending our physical arrival in your country for sharing.The bank official will destroy all documents of transaction immediately we receive this money leaving no trace to any place and to build confidence you can come immediately to discuss with me face to face after which I will make this re\\nmittance in your presence and three of us will fly to your country at least two days ahead of the money going into the account.I will apply for annual leave to get visa immediately I hear from you that you are ready to act and receive this fund in your account.I will use my position and influence to obtain all legal approvals for onward transfer of this money to your account with appropriate clearance from the relevant ministries and foreign exchange departments.At the conclusion of this business,you will be given 35% of the total amount,60% will be for me,while 5% will be for expenses both parties might have incurred during the process of transferring.I look forward to your earliest reply through my email Pls,go through this website for more verification and details about the incident,http://news.bbc.co.uk/1/hi/world/europe/859479.stm \\n\\nRegards, \\n\\nMr Sochima Nathanael, \\n\\nAudit & Acct Unit, \\n\\nNB;Pls, get in touch immediately through this following e-mail \\n\\naccount(sochima37@myway.com) thanks. \\n\\n- nathanaelsochima\"\n",
      " 'hi. Dear Sir,\\nIs a pleasure to write you this letter, and i hope it will not be a surprised to you, i got your contact through internet connector for urgent help. I think this letter will meet your favourable considration.. \\nI am a rebel soldier from Angola, with a rank of Major in the Army and a rebel leader as well. We have been in the bush for more than 15yrs, my name is Major John Ogari born 48 yrs ago in Angola and a member of the Angola rebel leaders committee.. The federal forces are impressing us badly that we can not have a way to be in the city, all our contacts closed. Please kindly help. Indeed, we never give up since we are fighting for good of our country as our present leaders are bad. \\nHere is the help we urgently needed from you, we have in our custody the sum of Nine million four hundred and twenty one dollar. 9.421.000 million,dollar, with 103 kg of gold. i need your help to bank this in your account as i can not go out nor operate any account. I give you this trust as God will be in between us and you will benefit more than expected if you did not think other wise.. This can be transfered hand to hand through security company we operate with, i am hundred percent sure of that, and they will take care of the goods till it get to your hand safely. Although the secourity company did not know what is inside as we locked the money and gold inside a safe box and deposited as family treasure. There is no risky involve or distorbance easy transfer. My aim is to invest in a profitable business in your country.\\nI hope you will help us in this our request. For further directives of how to achieve this feat. Reply and ask question if any and do not forget to furnish me with your cofidential telephone and fax number, to enable me contact you for immediate transacion. You will be made a co-beneficary to his treasure. Note that there is no risky involve in this busniess like i said earlier, and a good percentage will be given to you at end of this business. On arrival of the treasure safe to your destination i will come along with key to the safe box. Looking forward to hear from you soon. Best regard\\nMaj. John Ogari.'\n",
      " 'waiting for your reply. My name is muthar bola ige, the eldest son of the slain Attorney General and Chief Justice of Nigeria, Chief Bola Ige. I got your contact in my search for a reliable and trustworthy partner who i can do business with. I am contacting you in view of the fact that we will be of great assistance to each other. I have a business proposal that will benefit both of us.\\nyou can reach me on this private emeil..muthar1k@yahoo.no'\n",
      " \"VERY URGENT ASSISTANT IS NEEDED.please reply me back ASAP. Good Day,\\r\\nMay it not be a surprise to receive this letter from me, considering the\\r\\nfact that you do not know me? First I must seek for your understanding and\\r\\nwith hope that you will have the wisdom to understand this matter and be in\\r\\na position to help as you will be surely\\r\\nblessed as you help.I am MR GEORGE ABBEY,I am 41 Years old and also a\\r\\nBranch Manager with a Bank in Nigeria named, UNITED BANK FOR AFRICA{UBA} . I\\r\\nhave a Transaction which I think will be of mutual benefit to both of us. In my\\r\\ndesire for a befitting foreign partner with whom to do this transaction\\r\\nwith, I got your contact from a foreign trade Centre in my Country. As the\\r\\nmanager of a branch of UBA, I discovered some Amount of money while I was\\r\\nauditing accounts for the 2001 financial year which has been lying there for\\r\\nover 3 years. On further inquiry, I discovered that this money totaling\\r\\nabout USD$2O.5 Million (Twenty Million! Five hundred thousand United States\\r\\nDollars) including accumulated interest which belonged to one MR. ROBERT\\r\\nLIN, a Chinese National who lived here and died intestate without providing\\r\\nanybody to claim the money. This man died\\r\\nThrough a plane crash of ADC airlines in 1998.I have successfully\\r\\nsecured the money and with the assistance of powerful contact, the money has\\r\\nbeen moved out of my bank and deposited in a security company for safe\\r\\nkeeping. I am therefore requesting to have your\\r\\npersonal information to enable me prepare documents which will\\r\\nauthenticate that the funds belongs to you as the next of kin to MR.ROBERT\\r\\nLIN and to enable you claim the money since nobody has come to claim the\\r\\nmoney. According to the law here if by the end of this year nobody comes up\\r\\nfor the money it will be claimed by the Management of my\\r\\nbank.I am sure that you will be in a position to provide a safe account\\r\\nwhere the money Will be deposited pending my arrival to meet with you. For us to file\\r\\napplication of claim to this money as the next of Kin i will need to have\\r\\nyour personal information's which includes , YOURFULL NAME AND\\r\\nADDRESS,TELEPHONE AND FAX NUMBER, AND YOUR FULL BANK DETAILS WHERE THIS\\r\\nFUNDS WILL BE TRANSFERRED TO. This transaction is absolutely risk free with\\r\\nno legal complications as we have made arrangements to secure all the legal\\r\\ndocuments that will free us from any litigation, I have made all necessary\\r\\narrangements with the security company, that as soon as I get your\\r\\nconfirmation of interest in this venture, we shall put in all the necessary\\r\\npaper which will authorize the security company to process the funds and get\\r\\nit transferred through their offshore bank, to your account. In doing this you must have to maintain\\r\\na high degree of trust and adequate confidentiality is required and on\\r\\nsuccessful completion of this transfer to your account, I have agreed that\\r\\nyou will retain 30% of the total sum while 70% will be for me. Finally I\\r\\nwant you to note that we are going to spend money where\\r\\nNecessary to make this venture work out successfully. Therefore, confirm\\r\\nyour interest in this transaction immediately by sending the above mentioned\\r\\ninformation's as to enable us finalize this issue as soon as possible. I\\r\\nneed to emphasize once again that a high Degree of trust and confidentiality is required in this transaction.\\r\\nFinally i want to inform You that as soon as the funds are in your account and the sharing\\r\\ncompleted between us.You will introduce me into lucrative business in your\\r\\ncountry because i will like to invest most of my money in your country.\\r\\nPlease reply through this email: - {georgeabbey43@indiatimes.com } awaiting\\r\\nyour urgent response ASAP.\\r\\n\\r\\nYours Faithfully\\r\\nGEORGE ABBEY\\r\\nEmail:-  georgeabbey43@indiatimes.com\"]\n"
     ]
    }
   ],
   "source": [
    "\n",
    "def load_emails(batch_size):\n",
    "    dataset = []\n",
    "    batch_counter = 0\n",
    "    batch = []\n",
    "\n",
    "    count = 0 #just to limit dataset size at first\n",
    "    \n",
    "    prefix = './PhishingEmails/' #change this to the prefile thing such as './celebA'\n",
    "\n",
    "    for file in tqdm(os.listdir(prefix)):\n",
    "\n",
    "        if count >= 200: #comment this out to get full data\n",
    "            break\n",
    "        \n",
    "        with open(prefix + file) as jsonFile:\n",
    "            jsonStr = jsonFile.read() #json file as a string\n",
    "            email_dict = json.loads(jsonStr) #converts to dictionary\n",
    "\n",
    "        \n",
    "        setupData =  email_dict['email_subject'].strip() + \". \" + email_dict['email_body'].strip()\n",
    "\n",
    "        if batch_counter < batch_size:\n",
    "            batch.append(setupData)\n",
    "            batch_counter += 1\n",
    "        else:\n",
    "            dataset.append(batch)\n",
    "            batch = []\n",
    "            batch_counter = 0\n",
    "       \n",
    "    return np.array(dataset)"
   ]
  },
  {
   "cell_type": "code",
   "execution_count": 17,
   "id": "0e301245",
   "metadata": {},
   "outputs": [],
   "source": [
    "#Initialize helpful functions for math\n",
    "def sigmoid(x: np.ndarray):\n",
    "    return 1/(1+np.exp(-1*x))\n",
    "\n",
    "def sigmoid_derivative(x: np.ndarray):\n",
    "    return sigmoid(x)*(1-sigmoid(x))\n",
    "\n",
    "def tanh(x: np.ndarray):\n",
    "    return (np.exp(x) - np.exp(-x))/(np.exp(x)+np.exp(-x))\n",
    "    \n",
    "def tanh_derivative(x:np.ndarray):\n",
    "    return 1-np.square(tanh(x))\n",
    "\n",
    "def softmax(x: np.ndarray):\n",
    "    return np.exp(x)/np.sum(np.exp(x))\n",
    "\n",
    "def cross_entropy(yhat, y):\n",
    "    loss = 0\n",
    "     \n",
    "    for i in range(len(yhat)):\n",
    "\n",
    "        loss = loss + (-1 * y[i]*np.log(yhat[i]))\n",
    " \n",
    "    return loss"
   ]
  },
  {
   "cell_type": "code",
   "execution_count": 18,
   "id": "18d1a516",
   "metadata": {},
   "outputs": [],
   "source": [
    "#initializes the weights of the network\n",
    "def initialize_cell(input_size, hidden_size):\n",
    "\n",
    "    cell = {}\n",
    "\n",
    "    cell[\"W_i\"] = np.hstack((np.random.normal(0,1,(hidden_size,hidden_size)), np.random.normal(0,1,(input_size,hidden_size)))) #input gate weights\n",
    "    cell[\"W_f\"] = np.hstack((np.random.normal(0,1,(hidden_size,hidden_size)), np.random.normal(0,1,(input_size,hidden_size)))) #forget gate weights\n",
    "    cell[\"W_c\"] = np.hstack((np.random.normal(0,1,(hidden_size,hidden_size)), np.random.normal(0,1,(input_size,hidden_size)))) #candidate gate weights\n",
    "    cell[\"W_o\"] = np.hstack((np.random.normal(0,1,(hidden_size,hidden_size)), np.random.normal(0,1,(input_size,hidden_size)))) #output gate weights\n",
    "    cell[\"W_y\"] = np.hstack((np.random.normal(0,1,(hidden_size,hidden_size)), np.random.normal(0,1,(input_size,hidden_size)))) #final gate weights\n",
    "\n",
    "    #not sure if the biases need to be 3d...\n",
    "    cell[\"b_i\"] = np.zeros(hidden_size,1) #input gate biases\n",
    "    cell[\"b_f\"] = np.zeros(hidden_size,1) #forget gate biases\n",
    "    cell[\"b_c\"] = np.zeros(hidden_size,1) #candidate gate biases\n",
    "    cell[\"b_o\"] = np.zeros(hidden_size,1) #output gate biases\n",
    "    cell[\"b_y\"] = np.zeros(hidden_size,1) #final gate biases\n",
    "\n",
    "    return cell"
   ]
  },
  {
   "cell_type": "code",
   "execution_count": 19,
   "id": "348ff4c1",
   "metadata": {},
   "outputs": [],
   "source": [
    "#forward pass of all gates\n",
    "def forward_pass(cell, prevA, prevC, X):\n",
    "    \n",
    "    input = np.concatenate(prevA, X)\n",
    "\n",
    "    forward = {}\n",
    "\n",
    "    forward[\"F\"] = sigmoid(input.dot(cell[\"W_f\"]).dot(input) + cell[\"b_i\"])\n",
    "    \n",
    "    forward[\"C\"] = tanh(input.dot(cell[\"W_c\"]).dot(input) + cell[\"b_c\"])\n",
    "\n",
    "    forward[\"I\"] = sigmoid(input.dot(cell[\"W_i\"]).dot(input) + cell[\"b_i\"])\n",
    "\n",
    "    forward[\"O\"] = sigmoid(input.dot(cell[\"W_o\"]).dot(input) + cell[\"b_o\"])\n",
    "\n",
    "    forward[\"prevC\"] = prevC\n",
    "    forward[\"C_t\"] = (forward[\"C_(t-1)\"] * forward[\"F\"]) + (forward[\"I\"] * forward[\"C\"])\n",
    "    forward[\"A_t\"] = forward[\"O\"] * tanh(forward[\"C_t\"])\n",
    "\n",
    "    forward[\"Z_t\"] = cell[\"W_y\"].dot(forward[\"C_t\"] * forward[\"O\"]) + cell[\"b_y\"]\n",
    "    forward[\"Yhat\"] = softmax(cell[\"Z_t\"])\n",
    "\n",
    "    return forward"
   ]
  },
  {
   "cell_type": "code",
   "execution_count": 20,
   "id": "e7355acf",
   "metadata": {},
   "outputs": [],
   "source": [
    "def gradient(forward, cell, X, Y, lprimea, lprimec):\n",
    "\n",
    "    grads = {}\n",
    "\n",
    "    input = np.vstack(cell[\"prevA\"], X)\n",
    "\n",
    "    dldA_t = np.transpose(cell[\"W_y\"]).dot(forward[\"Yhat\"]-Y) + lprimea\n",
    "    dldC_t = lprimec + (forward[\"O\"] * tanh_derivative(forward[\"C_t\"])) * dldA_t\n",
    "\n",
    "    TdLdw_f = (dldC_t * forward[\"prevC\"] * forward[\"F\"]*(1-forward[\"F\"])) #this might be slightly wrong, unsure.\n",
    "    TdLdw_c = (dldC_t * forward[\"I\"] * (1-np.square(forward[\"C\"])))\n",
    "    TdLdw_o = (dldA_t * forward[\"I\"] * tanh(forward[\"C_t\"]) * forward[\"O\"] * (1-forward[\"O\"]))\n",
    "    TdLdw_i = (dldC_t * forward[\"C\"] * forward[\"I\"] * (1-forward[\"I\"]))\n",
    "\n",
    "    grads[\"dLdw_f\"] = TdLdw_f.dot(np.transpose(input))\n",
    "    grads[\"dLdw_c\"] = TdLdw_c.dot(np.transpose(input))\n",
    "    grads[\"dLdw_o\"] = TdLdw_o.dot(np.transpose(input))\n",
    "    grads[\"dLdw_i\"] = TdLdw_i.dot(np.transpose(input))\n",
    "    grads[\"dLdw_y\"] = (forward[\"Yhat\"] - Y).dot(np.transpose(forward[\"A_t\"]))\n",
    "\n",
    "    grads[\"dLdb_f\"] = 1\n",
    "    grads[\"dLdb_c\"] = 1\n",
    "    grads[\"dLdb_o\"] = 1\n",
    "    grads[\"dLdb_i\"] = 1\n",
    "    grads[\"dLdb_y\"] = 1\n",
    "\n",
    "    woa, _ = np.hsplit(cell[\"W_o\"])\n",
    "    wca, _ = np.hsplit(cell[\"W_c\"])\n",
    "    wia, _ = np.hsplit(cell[\"W_i\"])\n",
    "    wfa, _ = np.hsplit(cell[\"W_f\"])\n",
    "    \n",
    "    grads[\"dLda_prev\"] = woa * TdLdw_o + wca * TdLdw_c + wia* TdLdw_i + wfa * TdLdw_f\n",
    "    grads[\"dLdc_prev\"] = cell[\"O\"] * (1-np.square(tanh(forward[\"C_t\"])) * dldA_t + lprimec) * cell[\"F\"]\n",
    "\n",
    "    loss = cross_entropy(cell[\"Yhat\"], Y)\n",
    "\n",
    "    return grads, loss"
   ]
  },
  {
   "cell_type": "code",
   "execution_count": 23,
   "id": "fe29d85e",
   "metadata": {},
   "outputs": [],
   "source": [
    "def descent(cell, X, input_size, hidden_size, lr):\n",
    "   \n",
    "    prevA = np.zeros(hidden_size,1)\n",
    "    prevC = np.zeros(hidden_size,1)\n",
    "    lprimea = 0\n",
    "    lprimec = 0\n",
    "\n",
    "    gradientTot = {}\n",
    "    lossTot = 0\n",
    "\n",
    "    gradientTot[\"dLdw_f\"] = np.hstack((np.random.normal(0,1,(hidden_size,hidden_size)), np.random.normal(0,1,(input_size,hidden_size))))\n",
    "    gradientTot[\"dLdw_c\"] = np.hstack((np.random.normal(0,1,(hidden_size,hidden_size)), np.random.normal(0,1,(input_size,hidden_size))))\n",
    "    gradientTot[\"dLdw_o\"] = np.hstack((np.random.normal(0,1,(hidden_size,hidden_size)), np.random.normal(0,1,(input_size,hidden_size))))\n",
    "    gradientTot[\"dLdw_i\"] = np.hstack((np.random.normal(0,1,(hidden_size,hidden_size)), np.random.normal(0,1,(input_size,hidden_size))))\n",
    "    gradientTot[\"dLdw_y\"] = np.hstack((np.random.normal(0,1,(hidden_size,hidden_size)), np.random.normal(0,1,(input_size,hidden_size))))\n",
    "    gradientTot[\"dLdb_f\"] = np.zeros(hidden_size,1)\n",
    "    gradientTot[\"dLdb_c\"] = np.zeros(hidden_size,1)\n",
    "    gradientTot[\"dLdb_o\"] = np.zeros(hidden_size,1)\n",
    "    gradientTot[\"dLdb_i\"] = np.zeros(hidden_size,1)\n",
    "    gradientTot[\"dLdb_y\"] = np.zeros(hidden_size,1)\n",
    "\n",
    "    for i in range(1, len(X)-1):  #tqdm will create a loading bar for your loop\n",
    "\n",
    "        curData = X[0:i]\n",
    "        \n",
    "        forward = forward_pass(cell, prevA, prevC, curData)\n",
    "       \n",
    "        gradient, loss = gradient(forward, cell, curData + X[i+1], curData + forward[\"Yhat\"], lprimea, lprimec)\n",
    "        lprimea = gradient[\"dLda_prev\"]\n",
    "        lprimec = gradient[\"dLdc_prev\"]\n",
    "\n",
    "        gradientTot[\"dLdw_f\"] += gradient[\"dLdw_f\"]\n",
    "        gradientTot[\"dLdw_c\"] += gradient[\"dLdw_c\"]\n",
    "        gradientTot[\"dLdw_o\"] += gradient[\"dLdw_o\"]\n",
    "        gradientTot[\"dLdw_i\"] += gradient[\"dLdw_i\"]\n",
    "        gradientTot[\"dLdw_y\"] += gradient[\"dLdw_y\"]\n",
    "        \n",
    "        gradientTot[\"dLdb_f\"] += gradient[\"dLdb_f\"]\n",
    "        gradientTot[\"dLdb_c\"] += gradient[\"dLdb_c\"]\n",
    "        gradientTot[\"dLdb_o\"] += gradient[\"dLdb_o\"]\n",
    "        gradientTot[\"dLdb_i\"] += gradient[\"dLdb_i\"]\n",
    "        gradientTot[\"dLdb_y\"] += gradient[\"dLdb_y\"]\n",
    "\n",
    "        lossTot += loss\n",
    "\n",
    "    cell[\"W_f\"] = cell[\"W_f\"] - gradientTot[\"dLdw_f\"] * lr\n",
    "    cell[\"W_c\"] = cell[\"W_c\"] - gradientTot[\"dLdw_c\"] * lr\n",
    "    cell[\"W_o\"] = cell[\"W_o\"] - gradientTot[\"dLdw_o\"] * lr\n",
    "    cell[\"W_i\"] = cell[\"W_i\"] - gradientTot[\"dLdw_i\"] * lr\n",
    "    cell[\"W_y\"] = cell[\"W_y\"] - gradientTot[\"dLdw_y\"] * lr\n",
    "\n",
    "    cell[\"b_f\"] = cell[\"b_f\"] - gradientTot[\"dLdb_f\"] * lr\n",
    "    cell[\"b_c\"] = cell[\"b_c\"] - gradientTot[\"dLdb_c\"] * lr\n",
    "    cell[\"b_o\"] = cell[\"b_o\"] - gradientTot[\"dLdb_o\"] * lr\n",
    "    cell[\"b_i\"] = cell[\"b_i\"] - gradientTot[\"dLdb_i\"] * lr\n",
    "    cell[\"b_y\"] = cell[\"b_y\"] - gradientTot[\"dLdb_y\"] * lr\n",
    "\n",
    "    return lossTot\n"
   ]
  },
  {
   "cell_type": "code",
   "execution_count": 24,
   "id": "ad233117",
   "metadata": {},
   "outputs": [],
   "source": [
    "def train_LSTM(input_size, hidden_size, dataset):\n",
    "\n",
    "    cell = initialize_cell(input_size, hidden_size)\n",
    "\n",
    "    losses = []\n",
    "\n",
    "    for data in dataset:\n",
    "        loss = descent(cell, data, input_size, hidden_size, 0.0001)\n",
    "        losses.append(loss)\n",
    "\n",
    "    return cell\n",
    "    "
   ]
  },
  {
   "cell_type": "code",
   "execution_count": 26,
   "id": "f2272f5e",
   "metadata": {},
   "outputs": [
    {
     "name": "stderr",
     "output_type": "stream",
     "text": [
      "100%|██████████| 3332/3332 [00:00<00:00, 11607.05it/s]\n"
     ]
    },
    {
     "name": "stdout",
     "output_type": "stream",
     "text": [
      "['From Engr Ali Kasim. Reply-To: eng_alikasim2@yahoo.de MIME-Version: 1.0 Content-Type: text/plain Message-Id: <20070312014600.4002E11AFEB0@pontnet.hu> Date: Mon, 12 Mar 2007 02:45:56 +0100 (CET) Content-Transfer-Encoding: quoted-printable =0D >From ENGR ALI KASIM=0D Nigerian National Petroleum Corporation, (NNPC),=0D Garki, Abuja-Nigeria.=0D 12-3-2007=0D =0D  =0D ATTN,  =0D  =0D IT IS MY PLEASURE TO WRITE THIS E-MAIL TO YOU BELIEVING THAT YOU WILL =0D FIND IT INTERESTING TO READ AND REPLY AS SOON AS POSSIBLE. =0D MY NAME IS ENGR ALI KASIM, I AM A DIRECTOR IN THE NIGERIA NATIONAL =0D PETROLEUM CORPORATION (NNPC).=0D  =0D I HAVE THIS DEAL OF AN OVER INVOICED SUM OF US$25,000,000.00 PURPOSELY =0D CARVED OUT FROM AN ALREADY EXECUTED CONTRACT IN MY CORPORATION.=0D  =0D IT WILL BE MY UTMOST INTEREST TO HAVE YOU AS ONE OF THE PARTNERS TO =0D PROCESS THE DOCUMENTS AND HAVE THE FUND RELEASED TO YOU AS THE FOREIGN =0D CONTRACTOR THAT OWN THE FUND.=0D  =0D THE TRANSACTION WILL BE GIVEN EQUAL LEGAL BACKING THAT IS GIVEN TO AN =0D EXECUTED CONTRACT. THERE IS ABSOLUTELY NO RISK INVOLVED. IT IS 100% RISK = =0D FREE. EVERY ARRANGEMENTS TOWARDS IT SUCCESSFULL PROCESSING HAVE BEEN =0D PERFECTED.=0D  =0D MY POSITION AS A CIVIL SERVANT HERE IN NIGERIA DOES NOT PERMIT ME TO =0D RUN A FOREIGN BANK ACCOUNT THAT IS ONE OF THE REASONS I NEED YOUR =0D INVOLVEMENT AND ALSO ASSIT IN FINANCING THE PROCESSING OF THIS TRANSACTIO= N =0D WHICH IS VERY IMPORTANT.THE RATIO OF ITS SHARING IS 55% FOR ME, 45% FOR =0D YOU.=0D  =0D TO COMMENCE THE PROCESSING, I WOULD LIKE YOU TO SEND TO ME (A) YOUR =0D FULL NAMES AND COMPANY NAME TO BE INCORPORATED AND ADDRESS, (B) YOUR BANK=  =0D ACCOUNT INFORMATION WHERE THE FUND WILL BE TRANSFERED TO OR WITHIN THE =0D SHORTEST PERIOD YOU CAN OPEN A NEW ACCOUNT FOR THIS TRANSACTION, (C) =0D YOUR TELEPHONE/FAX NUMBERS.=0D  =0D I AWAIT YOUR URGENT REPLY.=0D =0D REGARDS=0D ENGR ALI KASIM=0D =0D =0D =0D'\n",
      " \"My Dearest One,. My Dearest One, \\nHow are you over there?. As for me,i am fine here in\\nDaker \\nSenegal. My name is Miss linda dickson, from Liberia\\nin west Africa presently \\nresiding in the church camp here in Dakar due to the\\ncivil war going on in \\nmy country. My late father Dr Patrick dickson, was the\\npersonal advicer to the \\nformer head of state before the rebels attacked my\\nhouse one early morning \\nkilling my mother and my father. It is only my brother\\nand me that is alive \\nnow and we managed to make our way to near by country\\nSenegal where we are \\nliving now. I would like to know more about you. Your\\nlikes and \\ndislikes,your hobbies and what you are doing\\npresently. I will tell you more \\nabout myself in my next mail. I attach here my picture\\nfor you, though i am \\nnot all that photogenic.\\nWhat we need to know about loving is no great mystery.\\nWe all know what \\nconstitutes loving behavior; we need but act upon it,\\nnot continually \\nquestion it. Over-analysis often confuses the issue\\nand in the end brings us \\nno closer to insight. We sometimes become too busy\\nclassifying, separating, \\nand examining, to remember that love is easy. It's we\\nwho make it \\ncomplicated. Nevertheless,In the church camp were i\\nleaved.my pastor take \\ngood care of me and my brother,most time is the Rev\\nthat give me money to \\ncome to internet to look for someone that we help me\\nand my younger \\nbrother.but i pray to god to give him more\\nwisdom,understanding and god \\nshould strencthing him in all his endavore.I m'not\\nlooking for a very rich \\nman,but someone who care take good of a woman and\\nsomeone who have better \\nunderstanding,who can bring a home togerther as one.i\\nlove my younger \\nbrother so much,because before the dead of my late\\nmother.i promise my mum \\nthat am going to take good care of my only brother and\\nnothing will break \\nus. There is something that my late father left in my\\npossition before died. \\n2.6 million dollars in a security bank in europe, i\\npromised him that i will \\ntake care of it.ontil i have a man i will spend my\\nlife time with.From every \\nhuman being there rises a light that reaches straight\\nto heaven. And when \\ntwo souls that are destined to be together find each\\nother, their streams of \\nlight flow together, and a single brighter light goes\\nforth from their \\nunited being. Moreover,the man that love me will like\\nmy brother the way he \\nlove me.because that is the only happiness that i have\\nnow.\\nIt is the things in common that make relationships\\nenjoyable, but it is the \\nlittle differences that make them interesting. you can\\ncall me in our church \\nphone number 221525-87-24 the name of the Rev in\\ngodwin,tell him. you what \\nto speak with Violet.the days we can answer call\\nare,tusday and friday time \\n2.pm til 6pm.But before you call me, try and send me\\nmail so that i can go \\nand wait for your call\\ni will tell you more in my next mail for your better\\nunderstanding,i pray \\nthat God should gurd you and give you more\\nblessing.Because the fear of God \\nis the begining of wisdom.I 'm a good believed,i\\nalways pray to God to give \\nme husband who will take me and my younger brother at\\noff this mess.I have \\nbe passing some hard time all this while,but i thank\\nGod that i'm stil \\nalive.someone need to pass some hard life to know are\\nlife is all about.But \\ni believe that God is going to take me at off this\\nsorrow stress of mind \\noneday What about you? tell me little about your self\\nand your family\\nwhat you hate in a woman and what you like in a woman?\\nlooking forward to hear from you have a wonderful day.\\nLinda Dickson\"\n",
      " \"Business  Partnership   Proposal   [Hiphly  Confidenfial ]. FROM: Mr  JOSEPH  ZODWAZD\\n\\nTEL:27:73-149-6172\\n\\nFAX: 27: 72-381-8254\\n\\nE-MAIL: joseph_zodwazd@yahoo.com              \\n\\n \\n\\nDEAR CEO/DIRECTOR,\\n\\nI know that this business proposal will come to you as a surprise since we dont know each other before but that doesn't mean that you will not be of a great help to me,but first let me introduce myself, I am MR. JOSEPH ZODWAZD, the CHIEF AUDITOR OF AMALGAMATED BANKS OF SOUTH AFRICA (ABSA). There is an account opened in this bank in 1983 and since 1991 nobody has operated on this account again but all this came to light after an internal auditing that I conducted by going through some old files in the records, I discovered that if I do not remit this money out immediately it would be forfeited for no reason.The owner of this account is MR SMITH B. ANDREAS, a foreigner, and a miner at Kruger gold co, a geologist by profession and he died since 1990. No other person knows about this account or any thing concerning it, the account has no other beneficiary and my investigation proved to me as well that this company does not know anything about this account and the amount involve!\\n d is\\n (US$26M) TWENTY SIX MILLION UNITED STATE DOLLARS.\\n\\nI  am only contacting you as a foreigner because this money can not be approved to a local bank here, but can only be approved to any foreign account because the money is in US Dollars and the former owner of the account was MR SMITH B. ANDREAS. We will sign an agreement, but I assure you that it is real and a genuine business. Please reply urgently so that I will inform you the next step to take immediately. Send also your private telephone number and a fax number including the full details of the account to be used for the deposit. I want us to meet face to face or sign a binding agreement together so that we can receive this money into a foreign account or any account of our choice where the fund will be safe. And I will fly to your country for withdrawal, sharing and other investments. \\n\\nI am contacting you because of the need to involve a foreign account and  a foreign beneficiary. I need your full co-operation to make this work fine. I have a correct information of this account, which I will give to you later, if you are able and willing to handle such an amount of money in strict confidence and trust according to my instructions and advice for our mutual benefit because this opportunity will never come again in my life. I need a trustworthy person in this business because I dont want to make a mistake, I need your strong assurance and trust. With my position now in the office I can transfer this money to any foreign reliable account, which you can provide with assurance that this money will be intact pending my physical arrival in your country for sharing. I will destroy all documents of transaction immediately we receive this money leaving no trace to any place.\\n\\nYou can also come to discuss with me face to face after which I will make this remittance in your presence and two of us will fly to your country at least two days ahead of the money going into the account. I will use my position and influence to effect the legal approvals and onward transfer of this money to your account with appropriate clearance forms of the ministries and foreign exchange departments. At the conclusion of this business, you will be given 30% of the total amount 60% will be for me, and meanwhile 10% will be for expenses both parties might have incurred during the process of transferring. I look forward to your earliest reply.\\n\\nIf my proposal is acceptable to you and you are willing to help me, please let me know so that you will enable me to  transfer the fund without any further delay or If there is anything beyond your understanding your welcome to e-mail or fax me on the number written above, because time is of essence.\\n\\nI will hang-on until I hear from you soon.\\n\\nYours Faithfully,\\n\\nMR. JOSEPH  ZODWAZD\\n\\n\\n\\n\\n\\n\\n---------------------------------\\nDo you Yahoo!?\\nYahoo! News - Today's headlines\"\n",
      " '[IP] The Vanishing Click-Fraud Case. Begin forwarded message: From: Tony Rajakumar  Date: December 4, 2006 2:47:59 PM EST To: \"\\'David Farber\\'\"  Subject: The Vanishing Click-Fraud Case Reply-To: arajakum@computer.org Dave – for IP if you wish. An arrested click-fraudster who claimed to   make $30k a month via Google click-fraud is now freed because of a   possible lack of cooperation from Google. http://yahoo.businessweek.com/technology/content/dec2006/  tc20061204_923336.htm Tony Rajakumar Victrio Inc. tonyr@victrio.com ------------------------------------- You are subscribed as R@M To manage your subscription, go to   http://v2.listbox.com/member/?listname=ip Archives at: http://www.interesting-people.org/archives/interesting-people/'\n",
      " 'urgent buiness proposal. Name-DR JERRY M AHMED  \\nEmail-(jerrymahmed@regards.net)\\n\\n\\n                        BUSINESS PROPOSAL\\n\\n\\n My name is DR.JERRY M AHMED   a member of the \\nPresidential Task Force on\\nOil Spillage Clean-up. Early last yearthere was a\\nmajor oil spillage in\\nthe Niger Delta Region of Nigeria which rendered over\\n70% of the\\ncommunities homeless.The contract was handled by a\\nforeign firm but\\nbecause of the huge monetary profit we envisaged, we\\ndecided to\\nover-invoice the contract\\nsum. Now the contract has been completed and the\\noriginal contractor has\\nsince been paid,but the contract balance of US$31.50\\nmillion(THIRTY-ONE\\nMILLION, FIVE HUNDRED THOUSAND UNITED STATES\\nDOLLARS),which resulted from\\nthe over invoiced contract sum that has been left in a\\nsuspense account\\nwith the CENTRAL BANK of NIGERIA,is what me and my\\npartners are planning\\nto take out of the country for ourselves.The problem\\nis as government\\nofficials,we are not suppose to own fat bank\\naccounts,talk less of having\\nforeign ones.\\n\\nTo this end, we are soliciting your assistance as a\\nforeign partner who\\ncan assist us and receive this amount into your\\naccount. We are ready to\\nshare this money with you on the basis of\\nparticipation. We also have\\nplans to invest part of this money in any viable\\nbusiness in your country\\nunder your care,as we are nearing our retirement age.\\n\\nIn any case, I received a reference of\\nyou/organization from the Nigeria\\nChambers of Commerce and Industry \\'Foreign Trade\\nDivision\\' as a reputable\\norgan that can assist us on this transaction. Please\\nif you accept my\\nproposal do not hesitate to send me a send me an\\ne-mail  so that I can\\nprovide you with the basic procedures for the release\\nof the fund.\\n\\nIt does not matter whether you or your company does\\ncontract project of\\nthe nature described here, the assumption is that you\\nwon a major contract\\nand subcontracted it to another company, more often\\nthannot, big trading\\ncompanies or individuals of unrelated field win major\\ncontracts here in\\nNigeria and subcontracts same to more specialized\\nfirms for execution.\\n\\n BENEFIT: For providing the account where we shall\\nremit this money, you\\nwill be entitled to 25% of the entire funds, 70% will\\nbe for me and my\\npartners,while 5% has been set aside to cover any\\nexpenses that may be\\nincurred by both parties during this transaction, both\\nlocal and\\ninternational.\\n\\n Please I enjoin you to handle this transaction with\\nutmost degree of\\nmaturity and confidentiality because I am still in\\nactive government\\nservice with the\"NIGERIAN NATIONAL PETROLEUM\\nCORPORATION\". If I receive\\nyour response on time, this whole transaction could be\\naccomplished within\\nthe shortest possible time based on your interest and\\ndetermination,since the money is already in transit.\\n\\nAwaiting your urgent response and thanks for your\\nanticipated co operation\\n\\nYours faithfully,\\n\\nDr.JERRY M AHMED  \\n\\nREPLY TO (jerrymahmed@regards.net)'\n",
      " \"Urgent. Please note, the sender's email address has not been verified.\\nThis article from Rediff.com has been sent to you by hamzer1@indiatimes.com\\nFROM. MR HAMZER HASSAN Bohriz IRAQ APPEAL FOR URGENT BUSINESS ASSISTANCE. I am mr.Hamzer Hassan from Iraq, I wish to request for your assistance in a financial transaction. Dear i got your contact from the Iraq chamber of commerce and industry. I wish to invest in a manufacturing and real estatemanagement industry in your country. I have ten million, five hundred thousand United State Dollars. USD($10.500,000) to invest in the industry and I will require your assistance in receiving the funds into your bank account in your country. I will gladly give you 10% of the total sum for your assistance. Please it is important that you reply as soon as posible with your private phone and fax number for our verbal communication. I shall let you have the full detail when i hear from you. Waiting for your prompt response through my private email address( mrhamzer@hotmail.com ) Thanks Mr. Hamzer Hassan\\n\\nClick the following to access the sent link: http://www.rediff.com/news/2006/jun/22claude.htm\"\n",
      " 'TREAT VERY CONFIDENTIAL & URGENT RESPONSE.. FROM THE DESK OF JOE KEKABU (ESQ).\\nTHE HEAD OF FILE DEPARTMENT, AFRICAN\\nDEVELOPMENT BANK (ADB)\\nOUAGADOUGOU BURKINA-FASO WEST AFRICA.\\nPHONE: 00226-7885 7597.\\nPLANE CRASH WEB SITE...http://news.bbc.co.uk/1/hi/world/europe/859479.stm. \\n \\n                     (\"REMITTANCE OF $15 MILLION U.S.A DOLLARS\\n                                CONFIDENTIAL IS THE CASE\")\\n                                  \\nCOMLIMENTS OF THE SEASON 2006,\\n\\nI AM (JOE KEKABU ESQ),HEAD OF FILE DEPARTMENT & DEBT RECOVERING IN AFRICAN DEVELOPMENT BANK OUAGADOUGOU BURKINA-FASO IN WEST AFRICA.\\n\\nFIRST, I MUST SOLICIT YOUR CONFIDENCE IN THIS TRANSACTION.THIS IS BY \\nVIRTUE OF ITS NATURE AS BEING UTTERLY CONFIDENTIAL AND TOP SECRET. \\nHOWEVER AFTER SERIES OF PETITION WAS RECIEVED BY THIS PRESENT REGIME FROM FOREIGN CONTRACTORS AND INABILITY OF THE  AFRICAN DEVELOPMENT BANK  (ADB)TO FULFILL THEIR OBLIGATION FOR THE PAYMENT TO ITS FOREIGN CREDITORS, IN CONJUNCTION WITH THE COUNCIL OF MINISTERS, THEY MANDATED US TO CARRY OUT A CAREFUL AND COMPREHENSIVE REVIEW OF ALL OVERDUE PAYMENTS TO FOREIGN CONTRACTORS AND TO EFFECT PAYMENTS IMMEDIATELY.\\n\\nDURING THE ABOVE MENTIONED PROCESS, WE DISCOVERED AN ABANDONED SUM OF US$15 M (FIFTEEN MILLION US DOLLARS) IN AN ACCOUNT THAT BELONGS TO ONE OF OUR FOREIGN CUSTOMER WHO DIED ALONG WITH HIS ENTIRE FAMILY IN A PLANE CRASH THAT HAPPENED IN (MONDAY 31ST JULY 2000).SINCE WE GOT INFORMATION ABOUT HIS DEATH, WE HAVE BEEN EXPECTING HIS NEXT OF KIN TO COME OVER AND CLAIM HIS MONEY BECAUSE WE CANNOT RELEASE IT UNLESS SOME BODY APPLIES FOR IT AS NEXT OF KIN OR RELATION TO THE DECEASED AS INDICATED IN OUR BANKING GUIDELINES AND LAWS BUT UNFORTUNATELY WE LEARNT THAT ALL HIS SUPPOSED NEXT OF KIN OR RELATION DIED ALONGSIDE WITH HIM AT THE PLANE CRASH LEAVING NOBODY BEHIND FOR THE CLAIM.\\n \\nIT IS THEREFORE UPON THIS DISCOVERY THAT I AND OTHER OFFICIALS IN MY \\nDEPARTMENT NOW DECIDED TO MAKE THIS BUSINESS PROPOSAL TO YOU AND RELEASE THE MONEY TO YOU AS THE NEXT OF KIN OR RELATION TO THE DECEASED FOR SAFETY AND SUBSEQUENT DISBURSEMENT SINCE NOBODY IS COMING FOR IT AND WE DON\\'T WANT THIS MONEY TO GO INTO THE BANK TREASURY AS UNCLAIMED BILL.\\n\\nI AGREE THAT 40% OF THIS MONEY WILL BE FOR YOU AS A FOREIGN PARTNER, IN RESPECT TO THE PROVISION OF A FOREIGN ACCOUNT,AND 50% WOULD BE FOR ME, WHILE 10% WILL BE FOR EXPENSES INCURE DURING THE TRANSACTION. THERE AFTER I WILL VISIT YOUR COUNTRY FOR DISBURSEMENT ACCORDING TO THE PERCENTAGE INDICATED.THEREFORE, TO ENABLE THE IMMEDIATE TRANSFER OF THIS FUND TO YOU AS ARRANGED, YOU MUST APPLY FIRST TO THE BANK AS RELATION OR NEXT OF KIN OF THE DECEASED INDICATING YOUR BANK NAME, YOUR BANK ACCOUNT NUMBER, YOUR PRIVATE TELEPHONE AND FAX NUMBER FOR EASY AND EFFECTIVE COMMUNICATION AND LOCATION WHEREIN THE MONEY WILL BE REMITTED.\\n\\nUPON THE RECEIPT OF YOUR REPLY, I WILL SEND TO YOU BY EMAIL THE TEXT OF THE APPLICATION TO FILL AND SEND TO THE BANK. I WILL NOT FAIL TO BRING TO YOUR NOTICE THAT THIS TRANSACTION IS HITCH-FREE RISK AND THIS TRANSACTION WILL ONLY TAKE US 14 BANKING DAYS BECAUSE AS A BANKER, I KNOW WHAT TO DO AND MOVE THE FUND INTO YOUR ACCOUNT WITHOUT ANY DELAY AND THATYOU SHOULD NOT ENTERTAIN ANY ATOM OF FEAR AS ALL REQUIRED ARRANGEMENT HAVE BEEN MADE FOR THE TRANSFER.\\n\\nYOU SHOULD CONTACT ME OM MY NUMBER 00226-7885 7597 AS SOON AS YOU RECEIVE THIS LETTER SO THAT I WILL SEND YOU THE TEXT OF THE APPLICATION TO APPLY TO THE BANK AND THE DATA INFORMATION OF THE DECEASED .\\n\\nYOUR\\'S FAITHFULLY,\\n\\nJOE KEKABU (ESQ).\\n FROM (ADB) OUAGADOUGOU BURKINA-FASO.\\n\\n\\n\\n¡Miles de amigos con tus mismas aficiones! http://www.latinchat.com'\n",
      " \"Assalamualaikum. Assalamualaikum My name is Amina Hannah Hatleberg from America. I am the surviving Daughter of  Dr. and Mrs Hatleberg who died as a result of plane crash of Alaska Airlines Flight 261 which crashed on January 31 2000. My family converted to Islam in 1998. When my late Parent were alive, my father deposited the sum of$8.5 Million (eight million five hundred thousand U.S. Dollars) with International Diplomatic service firm in south east Asia with purpose to invest the fund in Islamic foundation in Asia before death took him, The fund is still under safe keeping with the International Diplomatic firm in south east Asia, hence am contacting you to help me to achieve this project in your country. Two years ago I fell sick and my doctor told me I had cancer, I had tried all my best to treat myself with every medical expert but there is no improvement, Currently my Doctor told me that I would not last for the next six months due to my cancer problems. Having known my condition, I decided to donate this fund to mosque, Islamic school authority or better Muslim individual that will utilize this money the way I instruct. I want this fund to be disburse to, orphanages, widows promoting the work of Almighty Allah, needies and to promote work of almighty Allah in your country. The Koran made us to understand that blessed is the hand that giveth. I took this decision because I don't have anybody left except Almighty Allah and my Father relatives are Christians and unbelievers. I don't want my Father hard earned money to be misused by unbelievers because I know he will be rejoicing in the bosom of Allah if this fund is spent to promote the work of almighty Allah. I don't want a situation where this money will be used in an ungodly manner. That's the reason for taking this bold decision. I am not afraid of death since I know where I am going. I know that I am going to be in the heaven. I don't need any telephone communication in this regard because my health. With Allah all things are possible. As soon as I receive your reply I will instruct the DIPLOMATIC operation manager and my Father lawyer in London to furnish you with more details on how to receive this fund. I will also instruct him to issue you a letter of authority that will empower you as the original-beneficiary of this fund. I want you and the Moslem to always pray for me because in almighty Allah I put my hope. My happiness is that I lived a life of a worthy Moslem. Whosever that wants to serve Allah must serve him in spirit and truth. Please always be prayerful all through your life. And reply me through my e- mail address as delay in your reply will give me room in sourcing for another faith member for this same purpose. Please assure me that you will act accordingly as I stated here. As I am disabled and can not be able to move around and do much due to am presently very ill, I will really appreciate your urgent respond through my Email address as the internet is my only mean of communicating. Or through the help of a nurse here who is so kind to assist me in the hospital and taking care of me You can read more about this crash by visiting this website,  and  Remain blessed in the name of the Allah. Hannah Hatleberg.\"\n",
      " 'MUTUAL ASSISTANCE. FROM: MR. PETER WANG QIN\\n\\nSTANDARD BANK SA\\n\\nE-MAIL: pet_wang@standardbanksa.net\\nDear Sir,\\n\\n\\n                                   HIGHLY CONFIDENTIAL\\n\\nGreetings.\\n\\nThis mail may come to you as a surprise but I plead with you to patiently\\nread through it before making a decision whether to assist me or not.\\n\\nI wish to solicit for your assistance in the transaction which I strongly\\nbelieves will be of mutual benefit to both of us if treated with trust and\\nconfidentiality that it deserve.\\n\\nMy name is Mr. Peter Wang Qin, the branch manager of a reputable bank\\nin Johannesburg, Gauteng Province, in the Republic of South Africa. I and\\ntwo of my colleagues wish to seek your assistance in the transfer of some\\nhuge sum of money into a foreign bank account.\\n\\nThis money was deposited seven years ago in a fixed deposit account in my\\nbank by an Oil consultant/contractor with the South African Mining\\nCorporation. (Name deliberately withheld for now) The length of time for the\\nmaturity of the fixed deposit was five years, which expired towards the\\nending of last year. Upon maturity, a routine notification was sent to his\\nforwarding address but got no reply.\\n\\nAfter a month, a reminder was also sent and finally we discovered from his\\nContract Employers - The South African Mining Corporation that the Depositor\\ndied from an automobile accident. On further investigation, I found out that\\nthe depositor/beneficiary actually died in a car Accident here in South\\nAfrica, in May 2000 and he left nobody as next-of-kin to claim this money.\\nAll efforts made to trace any known relations of his proved abortive, and no\\none has written our bank in this regard.\\n\\nHence, this said money is still lying in my Bank and the interest is being\\nrolled over with the principal sum at the end of each year. Now its clear\\nno one will ever come forward to claim it. And according to the Laws of\\nRepublic of South Africa, at the expiration of 5(five) Years, the money will\\nrevert to the ownership of The South African Government if nobody applies to\\nclaim the fund.\\n\\nAll modalities for the successful transfer of this money into an offshore\\nbank account have been put in place and we are looking for a trust worthy\\nforeign partner into whose bank account this fund would be remitted to and\\nit is this regard that my colleagues have mandated me to provide a partner\\nwho will assist us. We have agreed to compensate you with 25% of the total\\namount if you should accept to assist us.\\n\\n\\n\\nIf you are interested in giving us the required assistance, kindly reply\\nthis mail stating your Telephone/Fax numbers for further action. Because of\\nthe secrecy surrounding this transaction, l suggests that you contact me\\nonly through e-mail, until further notice.\\n\\nI am looking forward to a favorable reply from you soon. Feel free to ask\\nany question in this regard.\\n\\nI remain,\\n\\nYours Faithfully,\\nMr. Peter Wang Qin'\n",
      " \"FUND TRANSFER. FROM THE DESK OF DR.MOHAMMED MUSTAFA\\nDIRECTOR, PROJECT IMPLEMENTATION\\nFEDERAL MINISTRY OF HEALTH AND\\nSOCIAL SERVICES,DAKAR -SENEGAL\\nPHONE: 002214439619\\nPersonal Email: mohammedmustafa74@yahoo.com\\nSTRICTLY CONFIDENTIAL.\\n \\nDEAR FRIEND,\\n \\nTRANSFER OF US$25.5 MILLION INTO A PERSONAL/COMPANY'S OFFSHORE ACCOUNT\\n \\nBased on the information gathered from the Ministry of Trade and Industry,we  intend to solicit your assistance on this transaction with you on the assumption that you will not disappoint us.\\n \\nWe have Twenty Five Million, Five Hundred Thousand United States Dollars (US$25,500,000.00) which we made over time from over inflated contracts in my Ministry (Federal Ministry of Health and Social Services).\\n \\nWe are seeking your assistance and permission to remit this amount into your account or any other nominated account you can provide for us. Your commission will be 20% of the total sum, 10% for expenses and the remaining 70% is for my \\ncolleagues and myself.\\n \\nCould you please notify me of your acceptance to carry out this transaction urgently by e-mail only on the receipt of this message. Kindly, acknowledge the receipt of this letter by sending to me by email a copy of this letter with your private Tel. And Fax number. I shall in return inform you of the modalities for a formal application to secure the necessary approvals for the immediate release of this fund into your account.\\n \\nThanks for your co-operation.\\n \\nYours faithfully,\\n \\nDr. Mohammed Mustafa,\"\n",
      " 'Hello. Dear sir,\\n\\nI am an Accountant with Zenith Bank Plc ,My name is Mrs. Juliet  Bello. A Banker I am the personal Account Manager to Engineer A., a National of your country, who used to work with shell Development company in Nigeria.Here in after shall be referred to as my client On April 21, 1999, my client, his wife, and their three children were involved in a car accident along Sagamu express way. All occupants of the vehicle unfortunately lost their lives.\\nSince then I have made several inquiries to your embassy to locate any of my clients extended Relatives, this has also proved unsuccessful. After these several unsuccessful attempts, I decided to trace his last name over the Internet, to locate any member of his family hence I contacted you. I have contacted you to assist in repatriating the money and property left behind by my client before they Get confiscated or declared unserviceable by the bank where this huge deposits were lodged, particularly the Zenith Bank Plc.\\nWhere the deceased had an account Valued at about ($27 Million U S Dollars) has Issued me a notice to provide the next of kin.Or havethe account confiscated within the next ten official working\\ndays.Since I have been unsuccessful in locating the relatives for over 2years now, Iseek your consent to present you as the next of kin of the deceased since you have the same last name so that the proceeds of this account valued at ($27Million U S Dollars can be paid to you and then you and me Can share the money.60% to me and 40% to you.An attorney will be contracted to help us revalidated and notarize all thenecessary legal documents that can be used to back up any claim we may make.All I require is your honest cooperation to enable us see this deal through.\\nI guarantee that this will be executed under a legitimate arrangement that will protect you. from any breach of the law.\\nBest Regards\\nMrs. Juliet  Bello.'\n",
      " \"Hello !!. Dear FRIEND,\\nThis letter may come to you as a surprise due to the fact that we have not yet met,but it should not ,since we are determine to get what rightly belongs to us anyhow,but soon when every thing goes according to plan.The message could be strange but reality will definitely dawn on you,if you pay some attention to it's content.I would'nt have notified you but for the sake of your integrity and goodwill.Please accept my sincere apologies.In bringing this message to you.I have to say that i have no intentions of causing you any personal pains or discomfort.\\nI am MR Joseph Savimbi,Son of the late rebel leader Jonas Savimbi of Angola who was killed on the 22nd of February 2002.We are desperately looking for a trustworthy person to assist us in this Confidential bUSINESS.My late father,Jonas Savimbi deposited Huge Sums of Money realised from the sale of Diamonds and Precious stones/Metals in different Bank in Europe.My father is presently no more,and the movement of his family members(including me the son)is highly restricted.We are forbidden to either travel abroad or out of our immediate localities.Presently,the money realized from those sales amounting to US$25,000000.00(TWENTY-FIVE MILLION DOLLARS),which my father realized,and was tranfered to Netherlands.Is safe in a security Firm,over there.Before you can get access to it you have to be given the password and the Personal identification numbers(PIN NO:)of the consignment deposited.I am therefore soliciting your help to have this money collected by you and transfered into your account,as I and my family would give you the neccesary documentions,to facilitate your collection of the consignment personally in Amsterdam,before the government gets wind of this arrangement.You know my father was a rebel leader in his life time before his death.\\nMy reason for doing this,is because it will be difficult for the present Angolan Government to trace my father's money to an individual's account,especially when such an individual bears no blood relationship with us.I have decided to keep that Money for my family's use.Presently the money is still in that security Company in Netherlands.\\nI am currently and temporarily living in Luanda with my family seeking for my refugee status.moreover the political climate in Angola at the moment is very tense,sentitive and unstable.With this password and informations that we will give you,together with the Power of Attorney,you will then proceed to the security firm,and these will facilitate your collection of the consignment.You have to proceed personally to Netherlands where after fulfiling their requirements,the us$25,000,000.00 will be released to you in the two lage trunk boxes that it was deposited in,after which we may likely ask you to come over with some money for us to run away from here at least for now into one of these European countries.You can have the Fund tranfered into any account hat suits you,after your personal collection of the consignment,until further instructions are given to you by my family.\\n***PLEASE YOUR CONFIDENTIALITY IN THIS TRANSACTION IS HIGHLY REQUIRED.\\nThank you very much for your time and understanding.\\nYours Sincerely,\\nMr.JOSEPH SAVIMBI\"\n",
      " \"FROM MR.TONY MALICK ...... MR.TONY MALICK & CO.BUSINESS CONSULTANTS & PROJECT\\n\\nMANAGERS. RC 412281\\n\\nOUR REF JBC/MAKN/44\\n\\nYOUR REF_______________________\\n\\nATTN:\\n\\nWE HUMBLY WISH TO SEEK YOUR ASSISTANCE IN A MATTER THAT IS VERY\\nIMPORTANT TO US WHICH REQUIRES UTMOST URGENCY AND CONFIDENTIALITY.\\n\\nONE OF OUR HIGH NETWORK CLIENTS AND A GOLD ROYALIST WHO SERVED IN THE\\nPAST GOVERNMENT OF CHARLES TARLOY IN LIBERIA WISHES TO INVEST THE SUM OF(US$8M) U.S DOLLARS ONLY. IN YOUR CONUTRY OR ANY OTHER COUNTRY WITH GOOD ECONOMIC STABILITY AND POLITICALCLIMATE. OUR CLIENT IS INTERESTED IN REAL ESTATES,HOTEL BUSINESS, STOCKS & BONDS.THIS SIAD FUND WAS BROUGHT INTO MY COUNTRY SENEGAL IN THE YEAR 2001.WHEN THE HEAT WAS TOO MUCH IN LIBERIA.MYSELF AND MY CLIENT HAS DEPOSITED THIS FUND IN THE SECURITY COMPANY FOR MAXIMUM PROTECTIONS HERE IN DAKAR SENEGAL.HOWEVER IT IS HIS WISH TO INVEST THIS MONEY NOW IN YOUR COUNTRY.\\n\\nFOR OBVIOUS REASONS MY CLIENT DOES NOT WISH TO PLACE THIS FUND WITH\\nESTABLISHED FINANCIAL INSTITUTIONS AND THUS REQUIRES OUR ASSISTANCE TO\\nLOOK FOR A RELIABLE FOREIGNER TO HELP MOVE THIS FUND AND IN TURN MANAGE IT FO R THE FAMILY.\\n\\nIT IS ALSO OUR CLIENT'S WISH THAT THIS DEAL BE HANDLED AS\\nQUIETLY AS POSSIBLE WITHOUT ANY LEAKAGE TO THE PRESS. IF YOU AGREE TO\\nACT AS A FUND MANAGER FOR MY CLIENT. THE SUM OF US$15.2 MILLION WILL BE RELEASED TO YOU IF YOU MEET OUR REQUIREMENTS. THE MONEY IS AVAILABLE IN THE COSTUDIES OFSECURITY COMPANY AND UPON A FAVORABLE RESPONSE FROM YOU WE SHALL LET YOU KNOW HOW TO RECEIVE IT.\\n\\nYOUR COMMISSION SHALL BE DOWN PAYMENT OF 20% OF THE TOTAL SUM THAT IS\\nUS$8MILLION AND AN ANNUAL 10% OF THE AFTER TAX RETURNS FOR THE FIRST 5\\nYEARSTHEREAFTER THE TERMS SHALL BE REVIEWED..\\n\\nIF YOU ARE WILLING TO DO THIS PLEASE INDICATE YOUR INTEREST VIA MY\\nEMAILSPECIFED BELOW AT ONEC FOR FURTHER DETAILS.\\n\\nBEST REGARDS,\\n\\nMR.TONY MALICK .\"\n",
      " 'I  NEED  YOUR   COPERATION. Dear sir/madam, I am Kimaeva Lioudmila, a personal secretary to Mikhail Khodorkovsky  the richest man in Russia and owner of the following companies: Chairman/  CEO: YUKOS OIL (Russian Largest Oil Company) Chairman CEO: Menatep SBP  Bank (A well reputable financial institution with its branches all over  the world). I seek your partnership to accommodate the sum US$423M for us. My Boss  got arrested for his involvement on politics in financing the leading  and opposing political parties (the Union of Right Forces, led by Boris  Nemtsov, and Yabloko, a liberal/social democratic party led by Gregor  Yavlinsky) which posed treat to President Vladimir Putin second tenure  as Russian president before he was reelected On March 14, 2004. You can catch more  of the story on this the fund (US$423M) in question was approved by the Government of Russia  for payment of various YUKOS OIL contractors/suppliers to prevent them  from loosing the money they invested in the numerous contracts they  executed for the above firm. The Government had already concluded plans to frozen all the accounts in my boss name (Mikhail  Khodorkovsky) both corporate and personal before I connived with the  Accountant General of YUKOS OIL (who is also my partner in this transaction)  to raise a memo stating that YUKOS OIL owe contractors the above amount  which was finally approved for payment after some deliberations.  Actually, we have paid all our contractors both local and foreign because  they agitated for their payment when they had that my boss was arrested. YOUR ROLE: I will present you / your company as one of the contractors we are  owing so that you can stand as the beneficiary of the above quoted sum or  PART of the fund according to your financial strength or the strength of  your company. I will arrange for the documentation, which the payee  bank will need to transfer the sum to you. I have decided to use this sum  to relocate to American continent and never to be connected to any of  Mikhail Khodorkovsky conglomerates. The transaction has to be concluded as soon as possible. You will be rewarded with 10% of  the total sum for your partnership. Can you be our partner on this transaction? As soon as I get your willingness to assist us in this deal, I will give you more details. Thank you very much. For confidential reasons, please reply to :kimaeva5@yahoo.it RegardsI  Ms. Kimaeva Lioudmila'\n",
      " \"honestly ok. Qin Wang\\nLloyds TSB Pacific Limited\\nHong Kong Branch Two Exchange\\nSquare Central, Hong Kong.\\n\\nAttention,\\n\\nThank you for giving me your time, it is of great importance for you to take\\ncare and understand every word which I have written down below; please be\\npatient and read the explanation in my email.\\n\\nI am a staff of Lloyds TSB Group Plc. here in Hong Kong attached in Private\\nBanking Services, I am contacting you concerning a customer and an investment\\nplaced under our banks management; as a matter of factit was 3 years ago. I\\nwould respectfully request that you keep the contents of this mail private and\\nalso to kindly respect the integrity of the information you come by as a result\\nof this email. I contacted you independently of our investigation and no one is\\ninformed of this communication; I would like to intimate you with certain facts\\nthat I believe would be of interest to you.\\n\\nIn 2001, the subject matter; Ref: FI/TSB/958/042/0500 came to our bank to engage\\nin business discussions with our Private Banking Services Department. He\\ninformed us that he had a financial portfolio of 15.37 million United States\\nDollars, which he wished to have us turn over (invest) on his behalf. I was the\\nofficer assigned to his case; I made numerous suggestions in line with my duties\\nas the de-facto chief operations officer of the Private Banking Services\\nepartment,especially given the volume of funds he wished to put into our bank.\\nWe met on numerous occasions prior to any investments being placed, and however\\nI encouraged him to consider various growth funds with prime ratings. The\\nfavored route in my advice to customers is to start by assessing data on 600\\ntraditional stocks and bond managers and 200 managers of alternative\\ninvestments. Based on my advice, we spun the money around various opportunities\\nand made attractive margins for our first months of operation,the accrued profit\\nwith interest included, stood at this point at over 16.2 million United States\\nDollars,this margin was not the full potential of the fund but he desired low\\nrisk guaranteed returns on investments.In mid 2002, he asked that the money be\\nliquidated because he needed to make an urgent investment requiring cash\\npayments in Europe. He directed that I liquidate the funds and had it deposited\\nwith a firm in Europe. I informed him that our bank would have to make special\\narrangements to have this done and in order not to circumvent due process, the\\nbank would have to make a 9.5 % deduction from the funds to cater for banking\\nand statutory charges. He complained about the charges but later came around\\nwhen I explained to him the complexities of the task he was asking of us.\\n\\nCash movement across borders has become especially strict since the incidents of\\n9/11. I contacted my affiliate in Europe and had the funds available in mainland\\nEurope, I undertook all the processes and made sure I followed his precise\\ninstructions to the letter and had the funds deposited in a security\\nconsultancy firm, the firm is a specialist private firm that accepts deposits\\nfrom high net worth individuals and blue chip corporations that handle valuable\\nproducts or undertake transactions that need immediate access to cash. This\\nsmall and highly private organization is familiar especially to the highly\\nplaced and well-connected organizations. In line with instructions, the money\\nwas deposited; he told me he wanted the money there in anticipation of his\\narrival from Norway later that week. This was the last communication we had,\\nthis transpired aroundbFebruary 25th 2003. In June last year, we got a call\\nfrom the security firm informing us of the inactivity of that particular\\nportfolio. This was an astounding position as far as I was concerned, given the\\nfact that I managed the private banking sector I was the only one who knew about\\nthe deposit, and I could not understand why he had not come forward to claim his\\ndeposit.\\n\\nI made futile efforts to locate him I immediately passed the task of locating\\nhim to the internal investigations department of our bank. Four days later,\\ninformation started to trickle in, that he was apparently dead, a person who\\nsuited his description was declared dead of a heart attack in Cannes, South of\\nFrance; we were soon enough able to gather more information and the cause of\\ndeath was confirmed. The bank immediately launched an investigation into\\npossible surviving next of kin to alert about the situation and also to come\\nforward to claim his estate. If you are familiar with private banking affairs,\\nthose who patronize our services usually prefer anonymity, but also some levels\\nof detachment from conventional processes. In his bio-data form, he listed no\\nnext of kin. In the field of private banking, opening an account with us means\\nno one will know of its existence, accounts are rarely held under a name;\\ndepositors use numbers and codes to make the accounts anonymous. This bank also\\ngives the choice to depositors of having their mail sent to them or held at the\\nbank itself, ensuring that there are no traces of the account and as I said,\\nrarely do they nominate next of kin. Private banking clients apart from not\\nnominating next of kin also usually in most cases leave wills in our care, in\\nthis case; he died Intestate.\\n\\nIn line with our internal processes for account holders who have passed away, we\\ninstituted our own investigations in good faith to determine who should have\\nright to claim the estate, this investigation for several months were futile.\\nWe have scanned every continent and used our private investigation affiliate\\ncompanies to get to the root of the problem. It is this investigation that\\nresulted in my decision to obtain your contact details and contact you, being\\nas a foreigner or rather non-Asian, as a potential benefactor of the estate\\neven if you are in no way affiliated with this individual (the deceased).My\\nofficial capacity dictates that I am the only party to supervise the\\ninvestigation and the only party to receive the results of the investigation.\\nWhat this means, with you being a foreigner, I have considered the fact that\\nour dear late fellow died with no known or identifiable family member. This\\nleaves me as the only person with the full picture of what the prevailing\\nsituation is in relation to the deposit and the late beneficiary of the\\ndeposit. According to practice, the firm shall by the end of this financial\\nyear broadcast a request for statements of claim to our bank, failing to\\nreceive viable claims they will most probably revert the deposit back to our\\nbank.This will result in the money entering our bank's accounting system and\\nthe portfolio will be out of my hands and out of the Private Banking Services\\nDepartment. This will not happen if I have my way.\\n\\n\\nWhat I wish to relate to you might be a smack of unethical practice but I want\\nyou to understand something; it is only an outsider to the banking world who\\nfinds the internal politics of the banking world aberrational. The world of\\nprivate banking especially is fraught with huge rewards for those who occupy\\ncertain offices and oversee certain portfolios; you should have begun by now to\\nput together the general direction of what I propose. There is USD$\\n15,991,674(Thirteen million, nine hundred and ninety one thousand, six hundred\\nand seventy four united states dollars) deposited, I alone have the deposit\\ndetails and they will release the deposit to no one unless I instruct them to do\\nso.\\n\\nI alone know of the existence of this deposit for as far as the finance firm is\\nconcerned, the transaction with our deceased customer concluded when I sent the\\nfunds to the firm, all outstanding interactions in relation to the file are just\\ncustomer services and due process. The finance firm has no single idea of what's\\nthe history or nature of the deposit, they are simply awaiting instructions to\\nrelease the deposit to any party that comes forward, and this is the situation.\\nThis bank has spent great amounts of money trying to track the family of the\\ndeceased; they have investigated for months and have found no family but\\nhowever the investigation has officially come to an end.\\n\\nMy proposal; I am prepared to place you in a position whereby an instruction is\\ngiven to the finance firm to officially release the deposit to you as the\\nclosest surviving relation/associate, and all etiquette shall be done in\\naccordance with the rule of law, I certainly can guarantee you that. By the\\ncommon law,the power of bequeathing is coeval with the first rudiments of the\\nlaw, and this power has been extended to all a man's Personal and Real estate\\n(Personalty & Realty). There is no ruling which prevents an inheritance from\\nbeing so exhausted by legacies as to render it unworthy of the heir's\\nacceptance; basically all persons of sound mind are competent to bequeath and\\ndevise real and personal estate, excepting infants, with all this I would say\\nwe have the clear advantage to carry out a smooth and perfect operation whereby\\nthe paper work shall be coordinated in such a way that your status as a sole\\nbeneficiary is confirmed. Upon receipt of the deposit, I am prepared to share\\nthe money with you in half and no more; that is: I will simply nominate you as\\nthe next of kin and have them release the deposit to you; afterwards we share\\nthe proceeds 50/50.\\n\\nI would have gone ahead to ask the funds be released to me, but that would have\\ndrawn a straight line to me and my involvement in claiming the deposit, but on\\nthe other hand, you as a indifferent foreigner would easily pass as the\\nbeneficiary with the rights to claim, I assure you that I could have the\\ndeposit released to you in a few days. I will simply inform our bank of the\\nfinal closing of the file relating to the customer, I will then officially\\ncommunicate with the finance company and instruct them to release the deposit\\nto you; with these two things: all is done.The alternative would be for us to\\nhave the firm direct the funds to another bank with you as account holder, this\\nway there will be no need for you to think of receiving the money from the firm.\\nWe can fine-tune this based on our interactions, I am aware of the consequences\\nof this proposal and I ask that if you find no interest in this project that\\nyou should discard this mail. I ask also, that you do not be vindictive or\\ndestructive, if my offer is of no appeal to you, delete this message and forget\\nI ever contacted you; please not destroy my career because you do not approve of\\nmy proposal. You may not know this but people like me who have made tidy sums\\nout of comparable situations run the whole private banking sector, I am not a\\ncriminal and what I do, I do not find against good conscience, this may be hard\\nfor you to understand, but the dynamics of my industry dictates that I make this\\nmove. Such opportunities only come ones' way once in a lifetime. I cannot let\\nthis chance pass me by and I hope you understand,because for once I found\\nmyself in total control and face to face with my destiny. These chances won't\\npass me by, I ask that you do not destroy my chance, if you will not work with\\nme please let me know, and hence move on with my life, but do not destroy me; I\\nam a family man and this is an occasion to provide them with new opportunities.\\nThere is a reward for this project and it is a task well worth undertaking, I\\nhave evaluated the risks and the only risk I have here is from you refusing to\\nwork with me and alerting my bank; I am the only one who knows of this\\nsituation,good fortune will bless you and plant you into the center of\\nrelevance in my life, let?s share the blessing.\\n\\nIf you find yourself interested to work with me,please contact me specifically,\\nthrough this email account mrqinwang1954@netscap.net if you give me positive\\nsignals, I will initiate this process towards a quick conclusion.It is\\nnecessary to inform you that under no condition should you contact me via\\nofficial channels; I will simply deny knowing you and about this project. I\\nrepeat, I do not want you contacting me through our official lines neither do I\\nwant you contacting me through my official email account. Contact me only\\nthrough this email address above; I do not want any direct link between you and\\nme. My official lines are not secure lines as they are periodically monitored to\\nassess our level of customer care in line with our Total Quality Management\\npolicy, please observe this instruction religiously. Please, again, note I am a\\nfamily man; I happily married with kids, I send you this mail not without a\\nmeasure of fear as to what the consequences might be, but I know within me that\\nnothing ventured is nothing gained and that success and riches never come easy\\nor on a platter of gold,this is the one truth I have learned from my private\\nbanking clients; do not betray my confidence. If we can be of one accord I\\nshall have the pleasure of meeting you, after this task has been completed we\\ncan plan a meeting.\\n\\nI await your response.\\n\\nYours Sincerely,\\n\\nQin Wang\"\n",
      " \"MY GOOD WILL.. Hello, \\n\\nI am Adekunle michael, a wealthy 57 years old Real Estate Merchant\\n based in Europe, I have been diagnosed with kidney Cancer a Disease that\\n has defiled all forms of medical treatment,destroying my heart and\\n kidney.  This happened after I lost my only son and wife in IFE and Modakeke\\n war on visit to my home town, you can confirm the fact from this web\\n page news.bbc.co.uk/1/hi/world/africa/684449.stm.\\n\\nMy doctor report indicates that I have but only a short time to live,\\n but right now some of my business, properties and investment are being\\n diverted or confiscated by some business associates and Family members\\n who wish me dead knowing my present condition. I realized that i have to\\n make trade-offs to charity.As a mission to fulfill my commitments to\\n affect lives and the less privilege. I have set aside my insurance\\n company share worth of (EIGHT HUNDRED AND TWENTY THOUSAND UNITED STATES\\n DOLLARS) with a reputabe Insurance Company in Nigeria which i intend to\\n distribute to charity through you. Every document that will facilitate the\\n release of this fund to you as the beneficiary without delays are\\n intact. You will be rewarded for your effort. \\n\\nI selected you for this Purpose and prayed over it, I am willing to\\n donate the sum of Seven Hundred thousand US Dollars to you for the\\n development of the well being of handicapped in the society and also as aids\\n for the less privileged, and I have map out One Hundred Thousand US\\n Dollars for your own personal use to help me for this work. Please, do not\\n reply me if you have the intention of using this fund for personal use\\n because I need you to collect this deposit and use it for Charity such\\n as those that cater for the recent New Orleans,Mississippi USA, Katrina\\n Disaster, HIV/AIDS research and enhancement of the comfort of the\\n Handicapped.\\n\\nForward to me your full contact thus: Your full name: Your full\\n address: Your telephone/cell number: Your fax Number: Your full company\\n name/position presently held: Your age Lastly, I want you/your home to be\\n praying for me as regards my entire life and my health because I have come\\n to find out since my spiritual birth lately that wealth acquisition\\n without God one's life is vanity upon vanity. I await your reply as my\\n contacting you is divine, I will not contact anybody until I hear from\\n you.\\n\\nKind regards,\\n\\nAdekunle michael.\\n\\nEmail:dmike0013@o2.pl \\nPhone:44 2071797777\"]\n"
     ]
    },
    {
     "ename": "TypeError",
     "evalue": "hstack() takes 1 positional argument but 2 were given",
     "output_type": "error",
     "traceback": [
      "\u001b[1;31m---------------------------------------------------------------------------\u001b[0m",
      "\u001b[1;31mTypeError\u001b[0m                                 Traceback (most recent call last)",
      "Cell \u001b[1;32mIn[26], line 13\u001b[0m\n\u001b[0;32m     10\u001b[0m hidden_size \u001b[38;5;241m=\u001b[39m \u001b[38;5;241m256\u001b[39m\n\u001b[0;32m     11\u001b[0m input_size \u001b[38;5;241m=\u001b[39m hidden_size \u001b[38;5;241m+\u001b[39m vocab_size\n\u001b[1;32m---> 13\u001b[0m finalCell \u001b[38;5;241m=\u001b[39m \u001b[43mtrain_LSTM\u001b[49m\u001b[43m(\u001b[49m\u001b[43minput_size\u001b[49m\u001b[43m,\u001b[49m\u001b[43m \u001b[49m\u001b[43mhidden_size\u001b[49m\u001b[43m,\u001b[49m\u001b[43m \u001b[49m\u001b[43mdataset\u001b[49m\u001b[43m)\u001b[49m\n",
      "Cell \u001b[1;32mIn[24], line 3\u001b[0m, in \u001b[0;36mtrain_LSTM\u001b[1;34m(input_size, hidden_size, dataset)\u001b[0m\n\u001b[0;32m      1\u001b[0m \u001b[38;5;28;01mdef\u001b[39;00m \u001b[38;5;21mtrain_LSTM\u001b[39m(input_size, hidden_size, dataset):\n\u001b[1;32m----> 3\u001b[0m     cell \u001b[38;5;241m=\u001b[39m \u001b[43minitialize_cell\u001b[49m\u001b[43m(\u001b[49m\u001b[43minput_size\u001b[49m\u001b[43m,\u001b[49m\u001b[43m \u001b[49m\u001b[43mhidden_size\u001b[49m\u001b[43m)\u001b[49m\n\u001b[0;32m      5\u001b[0m     losses \u001b[38;5;241m=\u001b[39m []\n\u001b[0;32m      7\u001b[0m     \u001b[38;5;28;01mfor\u001b[39;00m data \u001b[38;5;129;01min\u001b[39;00m dataset:\n",
      "Cell \u001b[1;32mIn[18], line 6\u001b[0m, in \u001b[0;36minitialize_cell\u001b[1;34m(input_size, hidden_size)\u001b[0m\n\u001b[0;32m      2\u001b[0m \u001b[38;5;28;01mdef\u001b[39;00m \u001b[38;5;21minitialize_cell\u001b[39m(input_size, hidden_size):\n\u001b[0;32m      4\u001b[0m     cell \u001b[38;5;241m=\u001b[39m {}\n\u001b[1;32m----> 6\u001b[0m     cell[\u001b[38;5;124m\"\u001b[39m\u001b[38;5;124mW_i\u001b[39m\u001b[38;5;124m\"\u001b[39m] \u001b[38;5;241m=\u001b[39m \u001b[43mnp\u001b[49m\u001b[38;5;241;43m.\u001b[39;49m\u001b[43mhstack\u001b[49m\u001b[43m(\u001b[49m\u001b[43mnp\u001b[49m\u001b[38;5;241;43m.\u001b[39;49m\u001b[43mrandom\u001b[49m\u001b[38;5;241;43m.\u001b[39;49m\u001b[43mnormal\u001b[49m\u001b[43m(\u001b[49m\u001b[38;5;241;43m0\u001b[39;49m\u001b[43m,\u001b[49m\u001b[38;5;241;43m1\u001b[39;49m\u001b[43m,\u001b[49m\u001b[43m(\u001b[49m\u001b[43mhidden_size\u001b[49m\u001b[43m,\u001b[49m\u001b[43mhidden_size\u001b[49m\u001b[43m)\u001b[49m\u001b[43m)\u001b[49m\u001b[43m,\u001b[49m\u001b[43m \u001b[49m\u001b[43mnp\u001b[49m\u001b[38;5;241;43m.\u001b[39;49m\u001b[43mrandom\u001b[49m\u001b[38;5;241;43m.\u001b[39;49m\u001b[43mnormal\u001b[49m\u001b[43m(\u001b[49m\u001b[38;5;241;43m0\u001b[39;49m\u001b[43m,\u001b[49m\u001b[38;5;241;43m1\u001b[39;49m\u001b[43m,\u001b[49m\u001b[43m(\u001b[49m\u001b[43minput_size\u001b[49m\u001b[43m,\u001b[49m\u001b[43mhidden_size\u001b[49m\u001b[43m)\u001b[49m\u001b[43m)\u001b[49m\u001b[43m)\u001b[49m \u001b[38;5;66;03m#input gate weights\u001b[39;00m\n\u001b[0;32m      7\u001b[0m     cell[\u001b[38;5;124m\"\u001b[39m\u001b[38;5;124mW_f\u001b[39m\u001b[38;5;124m\"\u001b[39m] \u001b[38;5;241m=\u001b[39m np\u001b[38;5;241m.\u001b[39mhstack(np\u001b[38;5;241m.\u001b[39mrandom\u001b[38;5;241m.\u001b[39mnormal(\u001b[38;5;241m0\u001b[39m,\u001b[38;5;241m1\u001b[39m,(hidden_size,hidden_size)), np\u001b[38;5;241m.\u001b[39mrandom\u001b[38;5;241m.\u001b[39mnormal(\u001b[38;5;241m0\u001b[39m,\u001b[38;5;241m1\u001b[39m,(input_size,hidden_size))) \u001b[38;5;66;03m#forget gate weights\u001b[39;00m\n\u001b[0;32m      8\u001b[0m     cell[\u001b[38;5;124m\"\u001b[39m\u001b[38;5;124mW_c\u001b[39m\u001b[38;5;124m\"\u001b[39m] \u001b[38;5;241m=\u001b[39m np\u001b[38;5;241m.\u001b[39mhstack(np\u001b[38;5;241m.\u001b[39mrandom\u001b[38;5;241m.\u001b[39mnormal(\u001b[38;5;241m0\u001b[39m,\u001b[38;5;241m1\u001b[39m,(hidden_size,hidden_size)), np\u001b[38;5;241m.\u001b[39mrandom\u001b[38;5;241m.\u001b[39mnormal(\u001b[38;5;241m0\u001b[39m,\u001b[38;5;241m1\u001b[39m,(input_size,hidden_size))) \u001b[38;5;66;03m#candidate gate weights\u001b[39;00m\n",
      "\u001b[1;31mTypeError\u001b[0m: hstack() takes 1 positional argument but 2 were given"
     ]
    }
   ],
   "source": [
    "\n",
    "batch_size = 16\n",
    "dataset = load_emails(batch_size)\n",
    "\n",
    "ex_email = dataset[random.randint(0, 50)]\n",
    "print(ex_email)\n",
    "\n",
    "\n",
    "vocab_size = 1000\n",
    "\n",
    "hidden_size = 256\n",
    "input_size = hidden_size + vocab_size\n",
    "\n",
    "finalCell = train_LSTM(input_size, hidden_size, dataset)"
   ]
  },
  {
   "cell_type": "code",
   "execution_count": null,
   "metadata": {},
   "outputs": [],
   "source": []
  },
  {
   "attachments": {},
   "cell_type": "markdown",
   "id": "044e084f",
   "metadata": {},
   "source": [
    "3. After this you can put it together with your model to make your full *forward()* method, which will do a forward pass through your entire model (each layer, including the nonlinearities). It’s important to note that the final layer is not followed by a nonlinearity. You also must save every intermittent value in the cache (again for use later).\n",
    "\n",
    "It is important to not only do the forward pass, but also cache the intermittent values so that we (well, *you* ) can do backpropogation next."
   ]
  },
  {
   "attachments": {},
   "cell_type": "markdown",
   "id": "6942feb6",
   "metadata": {},
   "source": [
    "Use this code to test your backprop and loss function, this test is not extensive though, you should try more network sizes using your math"
   ]
  },
  {
   "cell_type": "code",
   "execution_count": 45,
   "id": "fae2de66",
   "metadata": {},
   "outputs": [
    {
     "name": "stdout",
     "output_type": "stream",
     "text": [
      "your grad for W0: [[1.47722818]\n",
      " [1.94281755]\n",
      " [2.17819972]\n",
      " [1.05121284]\n",
      " [1.70709924]]\n",
      "correct grad for W0: [[1.47722818]\n",
      " [1.94281755]\n",
      " [2.17819972]\n",
      " [1.05121284]\n",
      " [1.70709924]]\n",
      "\n",
      "Now larger Network ----------------------------\n",
      "\n",
      "your grad for W0: [[-0.12930419  0.25562847  0.21567078  0.02922955]\n",
      " [-0.13911388  0.27461218  0.22273239  0.01330716]\n",
      " [-0.21457969  0.3644739   0.33975462 -0.01429388]\n",
      " [-0.11344546  0.16208002  0.16929955 -0.04171324]\n",
      " [-0.14651745  0.24768843  0.22581611 -0.02222018]]\n",
      "your grad for W1: [[-1.29491158 -0.75953234]\n",
      " [-5.10970175 -3.43050998]\n",
      " [-4.56368491 -2.75302084]\n",
      " [-0.83895712 -0.44106145]]\n"
     ]
    }
   ],
   "source": [
    "x = np.random.rand(3, 5)*0.9\n",
    "\n",
    "# print()\n",
    "# print(\"Single layer Network ----------------------------\")\n",
    "# print()\n",
    "\n",
    "params = {\"W0\": np.random.rand(5,1), \"b0\": np.random.rand(1)}\n",
    "\n",
    "your_pred, your_cache = forward(params, x)\n",
    "# print(your_cache)\n",
    "y = np.random.rand(3,1) \n",
    "\n",
    "your_grad, your_loss = backprop_and_loss(params, your_pred, your_cache, y)\n",
    "\n",
    "print(\"your grad for W0:\", your_grad[\"W0\"])\n",
    "print(\"correct grad for W0:\", x.T.dot(2*(your_pred-y)))\n",
    "\n",
    "# print(\"your loss:\", your_loss)\n",
    "# print(\"correct loss:\", np.mean((your_pred-y)**2) )\n",
    "\n",
    "params = {\"W0\": np.random.randn(5,4), \"b0\": np.zeros((4))}\n",
    "\n",
    "params[\"W1\"] = np.random.randn(4,2)\n",
    "params[\"b1\"] = np.zeros((2))\n",
    "\n",
    "your_pred, your_cache = forward(params, x)\n",
    "# print(your_cache)\n",
    "y = np.random.rand(your_pred.shape[0],your_pred.shape[1]) \n",
    "\n",
    "print()\n",
    "print(\"Now larger Network ----------------------------\")\n",
    "print()\n",
    "\n",
    "your_grad, your_loss = backprop_and_loss(params, your_pred, your_cache, y)\n",
    "\n",
    "print(\"your grad for W0:\", your_grad[\"W0\"])\n",
    "print(\"your grad for W1:\", your_grad[\"W1\"])\n",
    "#print(\"correct grad for W0:\", x.T.dot(2*(your_pred-y)))\n",
    "\n",
    "# print(\"your loss:\", your_loss)\n",
    "# print(\"correct loss:\", np.mean((your_pred-y)**2) )\n",
    "\n"
   ]
  },
  {
   "cell_type": "markdown",
   "id": "3102de34",
   "metadata": {},
   "source": [
    "6. Now it’s time to actually do the learning! You must complete the *gradient_descent()* method which will call all of your other methods to find first the prediction, then the loss and gradient. It will then use them to do gradient descent on the entire parameter dictionary (using the corresponding gradients). You’re free to do this however you see fit (as long as it works!)"
   ]
  },
  {
   "cell_type": "code",
   "execution_count": 46,
   "id": "844e0a09",
   "metadata": {},
   "outputs": [],
   "source": [
    "def gradient_descent(X : np.ndarray, Y : np.ndarray, initial_params : dict, lr : float, num_iterations : int)->Tuple[List[float], np.ndarray]:\n",
    "    \"\"\"\n",
    "    This function runs gradient descent for a fixed number of iterations on the\n",
    "    mean squared loss for a linear model parameterized by the weight vector w.\n",
    "    This function returns a list of the losses for each iteration of gradient\n",
    "    descent along with the final weight vector.\n",
    "    Parameters\n",
    "    ----------\n",
    "    X : np.ndarray\n",
    "        A 2D numpy array representing input where each row represents a feature vector\n",
    "    Y : np.ndarray\n",
    "        A 1D numpy array where each element represents a label for MSE\n",
    "    initial_params : dictionary\n",
    "        A dictionary holding the initialization of all parameters of the model as np.ndarrays\n",
    "        (e.g. key 'W0' maps to the first weight array of the neural net) \n",
    "    lr : float\n",
    "        The step-size parameter to use with gradient descent.\n",
    "    num_iterations : int\n",
    "        The number of iterations of gradient descent to run.\n",
    "    Returns\n",
    "    -------\n",
    "    losses : list\n",
    "        A list of floats representing the loss from each iteration and the\n",
    "        loss of the final weight vector\n",
    "    final_params : dictionary \n",
    "        A dictionary holding all of the parameters after training as np.ndarrays\n",
    "        (this should have the same mapping as initial_params, just with updated arrays) \n",
    "    \"\"\"\n",
    "\n",
    "    losses = []\n",
    "    final_params = {}\n",
    "\n",
    "    for n in tqdm(range(num_iterations)):  #tqdm will create a loading bar for your loop\n",
    "        \n",
    "        prediction, cache = forward(initial_params, X)\n",
    "\n",
    "        gradient, loss = backprop_and_loss(initial_params, prediction, cache, Y)\n",
    "\n",
    "        losses.append(loss)\n",
    "\n",
    "        for i in range(0,len(initial_params)//2):\n",
    "\n",
    "            initial_params[\"W\" + str(i)] -= lr*gradient[\"W\" + str(i)]\n",
    "            initial_params[\"b\" + str(i)] -= lr*gradient[\"b\"+ str(i)]\n",
    "    \n",
    "    return losses, initial_params"
   ]
  },
  {
   "attachments": {},
   "cell_type": "markdown",
   "id": "bfc56d9a",
   "metadata": {},
   "source": [
    "7. Now you can run it! And once you fix the 1000 bugs that you have... you can run it again and hopefully you see something *somewhat* like below – if you do, congrats! You (probably) have it working:\n",
    "\n",
    "\n",
    "Run both of these blocks and see if your graph looks similar"
   ]
  },
  {
   "cell_type": "code",
   "execution_count": 47,
   "id": "fc6da60e",
   "metadata": {},
   "outputs": [],
   "source": [
    "def learning_curve(losses: list, names : list):\n",
    "    \"\"\"\n",
    "    This function plots the learning curves for all gradient descent procedures in this homework.\n",
    "    The plot is saved in the file learning_curve.png. No TODO here\n",
    "    Parameters\n",
    "    ----------\n",
    "    losses : list\n",
    "        A list of arrays representing the losses for the gradient at each iteration for each run of gradient descent\n",
    "    names : list\n",
    "        A list of strings representing the names for each gradient descent method\n",
    "    Returns\n",
    "    -------\n",
    "    nothing\n",
    "    \"\"\"\n",
    "    for loss in losses:\n",
    "        plt.plot(loss)\n",
    "    plt.xscale(\"log\")\n",
    "    plt.ylim(0, 10000)\n",
    "    plt.xlabel(\"Iterations\")\n",
    "    plt.ylabel(\"Squared Loss\")\n",
    "    plt.title(\"Gradient Descent\")\n",
    "    plt.legend(names)\n",
    "    plt.savefig(\"learning_curve.png\")\n",
    "    plt.show()\n"
   ]
  },
  {
   "cell_type": "code",
   "execution_count": 49,
   "id": "8495880f",
   "metadata": {},
   "outputs": [
    {
     "name": "stdout",
     "output_type": "stream",
     "text": [
      "(800, 17)\n"
     ]
    },
    {
     "name": "stderr",
     "output_type": "stream",
     "text": [
      "  9%|▊         | 859/10000 [00:00<00:01, 8088.86it/s]"
     ]
    },
    {
     "name": "stderr",
     "output_type": "stream",
     "text": [
      "100%|██████████| 10000/10000 [00:01<00:00, 8998.39it/s]\n",
      "100%|██████████| 10000/10000 [00:01<00:00, 5081.00it/s]\n",
      "100%|██████████| 10000/10000 [00:02<00:00, 3578.61it/s]\n"
     ]
    },
    {
     "name": "stdout",
     "output_type": "stream",
     "text": [
      "final training loss values\n",
      "single layer.........   161.5\n",
      "two layer............   154.7\n",
      "many layer...........   160.7\n"
     ]
    },
    {
     "data": {
      "image/png": "[encoded data removed]",
      "text/plain": [
       "<Figure size 640x480 with 1 Axes>"
      ]
     },
     "metadata": {},
     "output_type": "display_data"
    },
    {
     "name": "stdout",
     "output_type": "stream",
     "text": [
      "test loss of model 1: 105790.8732068747\n",
      "test loss of model 2: 113569.83930553994\n",
      "test loss of model 3: 124403.70111095396\n"
     ]
    },
    {
     "name": "stderr",
     "output_type": "stream",
     "text": [
      "100%|██████████| 10000/10000 [00:04<00:00, 2195.09it/s]"
     ]
    },
    {
     "name": "stdout",
     "output_type": "stream",
     "text": [
      "0.1011\n",
      "test loss of your \"best\" model: 130367.64292079299\n"
     ]
    },
    {
     "name": "stderr",
     "output_type": "stream",
     "text": [
      "\n"
     ]
    }
   ],
   "source": [
    "def train_networks():\n",
    "    Train_X, Train_Y = load_data(\"StudentsPerformance.csv\", \"train\")  # load the data set\n",
    "\n",
    "    N = 10000 # N needs to equal 10,000 for your final plot. You can lower it to tune hyperparameters.\n",
    "    print(Train_X.shape)\n",
    "\n",
    "    init_params0 = initialize_network([17,3], scale=0.1) # initializes a sigle layer network (perceptron)\n",
    "    losses0, final_params0 = gradient_descent(Train_X, Train_Y, init_params0, lr=1e-6, num_iterations=N)  \n",
    "\n",
    "    init_params1 = initialize_network([17, 5, 3], scale=0.1)  # initializes a two layer network\n",
    "    losses1, final_params1 = gradient_descent(Train_X, Train_Y, init_params1, lr=1e-6, num_iterations=N)  \n",
    "   \n",
    "    init_params2 = initialize_network([17, 7, 3, 3], scale=0.1)  # initializes a many layer network\n",
    "    losses2, final_params2 = gradient_descent(Train_X, Train_Y, init_params2, lr=1e-6, num_iterations=N)   \n",
    "\n",
    "    all_losses = [losses0, losses1, losses2]\n",
    "    names = [\"single layer\", \"two layer\", \"many layer\"]\n",
    "    print(\"final training loss values\")\n",
    "    for name, losses in zip(names, all_losses):\n",
    "        print(\"{0:.<21}{1:>8.1f}\".format(name, float(losses[-1])))\n",
    "\n",
    "    learning_curve(all_losses, names)\n",
    "\n",
    "    # TESTING \n",
    "\n",
    "    Test_X, Test_Y = load_data(\"StudentsPerformance.csv\", \"test\")\n",
    "\n",
    "    pred0, _ = forward(final_params0, Test_X)\n",
    "    test_loss0 = np.sum(np.square(Test_Y  - pred0)) \n",
    "    print(\"test loss of model 1:\", test_loss0)\n",
    "\n",
    "    pred1, _ = forward(final_params1, Test_X)\n",
    "    test_loss1 = np.sum(np.square(Test_Y  - pred1)) \n",
    "    print(\"test loss of model 2:\", test_loss1)\n",
    "\n",
    "    pred2, _ = forward(final_params2, Test_X)\n",
    "    test_loss2 = np.sum(np.square(Test_Y  - pred2)) \n",
    "    print(\"test loss of model 3:\", test_loss2)\n",
    "\n",
    "    # TODO choose the hyper parameters for your best model (change them in train_best_model() )\n",
    "    # You'll have to uncomment the below lines for once you find your best model\n",
    "\n",
    "    best_losses, best_params = train_best_model(Train_X, Train_Y) \n",
    "    best_pred, _ = forward(best_params, Test_X)\n",
    "    best_loss = np.sum(np.square(Test_Y - best_pred)) \n",
    "    print(\"test loss of your \\\"best\\\" model:\", best_loss)\n",
    "\n",
    "\n",
    "train_networks()"
   ]
  },
  {
   "attachments": {},
   "cell_type": "markdown",
   "id": "f0da1fdc",
   "metadata": {},
   "source": [
    "### 4a) That other bit you forgot about until now (10 points)\n",
    "1. Use *train_best_model()* (you’ll need to find some good hyperparameters) and plot its training alongside the other 3 models (you’ll need to change code in main to plot this) and show it here – Describe your best model and list the values of its hyperparameters here. You should be able to do significantly better than the default, you will be checked for the code you used to find a best model and for the quality of your final loss."
   ]
  },
  {
   "cell_type": "code",
   "execution_count": 48,
   "id": "f258f26e",
   "metadata": {},
   "outputs": [
    {
     "name": "stderr",
     "output_type": "stream",
     "text": [
      "  2%|▏         | 174/10000 [00:00<00:05, 1649.68it/s]"
     ]
    },
    {
     "name": "stderr",
     "output_type": "stream",
     "text": [
      "100%|██████████| 10000/10000 [00:04<00:00, 2109.62it/s]"
     ]
    },
    {
     "name": "stdout",
     "output_type": "stream",
     "text": [
      "0.1011\n",
      "final loss: 133.28059750877068\n"
     ]
    },
    {
     "name": "stderr",
     "output_type": "stream",
     "text": [
      "\n"
     ]
    }
   ],
   "source": [
    "def train_best_model(Train_X, Train_Y):\n",
    "    \"\"\"\n",
    "    This function will train the model with the hyper parameters\n",
    "    and layers that you have found to be best -- this model must get below 3\n",
    "    MSE loss on our test data (which is not the test data you are given)\n",
    "    \"\"\"\n",
    "\n",
    "    BEST_SCALE = 0.1011            # You need\n",
    "    BEST_LAYERS = [17, 15, 3]          # to change\n",
    "    BEST_ALPHA = 0.00001             # these\n",
    "    BEST_NUM_ITERATIONS = 10000    # !\n",
    "\n",
    "\n",
    "    best_params = initialize_network(BEST_LAYERS, BEST_SCALE)\n",
    "    best_losses, best_final_params = gradient_descent(Train_X, Train_Y, best_params, lr=BEST_ALPHA, num_iterations=BEST_NUM_ITERATIONS)\n",
    "\n",
    "    print(BEST_SCALE)\n",
    "    return best_losses, best_final_params\n",
    "\n",
    "Train_X, Train_Y = load_data(\"StudentsPerformance.csv\", \"train\")  # load the data set  \n",
    "best_losses,best_final_params = train_best_model(Train_X, Train_Y)\n",
    "\n",
    "print(\"final loss:\", best_losses[-1])     "
   ]
  },
  {
   "cell_type": "markdown",
   "id": "ab6306a5",
   "metadata": {},
   "source": []
  },
  {
   "attachments": {},
   "cell_type": "markdown",
   "id": "14038e05",
   "metadata": {},
   "source": [
    "2. Now note the printed test losses (the loss on the test set which isn’t trained on), for the 3 original models and your best, show the train loss and test loss. What is the relationship between these, explain why you think this is?\n",
    "\n",
    "test loss of model 1: 105753.67332288889\n",
    "test loss of model 2: 113589.8688507396\n",
    "test loss of model 3: 121774.24686293973\n",
    "test loss of your \"best\" model: 135425.31890427636\n",
    "\n",
    "single layer.........   161.5\n",
    "two layer............   154.8\n",
    "many layer...........   164.2\n",
    "final loss...........   132.2\n",
    "\n",
    "The test loss seems inversely proportional to the train loss. \n",
    "This may be due to my best model overfitting, leading to poor generalization."
   ]
  },
  {
   "cell_type": "markdown",
   "id": "460ea208",
   "metadata": {},
   "source": [
    "### 5) Time to Convert to PDF! (No Skipping this Step 🚀)\n",
    "\n",
    "Hi! Congrats on finishing (or reading ahead)! We'll be using the google colab library to convert your notebook into a pdf, so you'll need to convert to colab if you're not using it (or finding another way to convert to a pdf):\n",
    "\n",
    "📤 **Uploading to Colab from Your System? Here's How:**\n",
    "1. Go to [colab](https://colab.research.google.com/).\n",
    "2. Hit \"upload\" on the left sidebar of the pop-up box.\n",
    "3. Upload the notebook.\n",
    "4. It's alright if you've already run your code, the outputs of the cells should be brought over too.\n",
    "\n",
    "🛣️ **Once you're on colab (or if you always were):**\n",
    "1. First things first, click on File > Locate in Drive.\n",
    "2. Next up, copy the path of the folder where your notebook resides in your Drive and paste it in variable named `DIR_FOR_COLAB_NOTEBOOK` in the cell below. (Usually, it's just 'Colab Notebooks/')\n",
    "3. Next asisgn the variable named `NOTEBOOK_NAME` with the name of your notebook. Easy peasy!\n",
    "4. Run the final cells\n",
    "5. Double check the pdf has all of your code and outputs then slam that bad boy into gradescope.\n"
   ]
  },
  {
   "cell_type": "code",
   "execution_count": 33,
   "id": "41a29d1b",
   "metadata": {},
   "outputs": [],
   "source": [
    "DIR_FOR_COLAB_NOTEBOOK = 'Colab Notebooks/' #Please update it to the correct directory following the instruction\n",
    "NOTEBOOK_NAME = 'HW2_notebook.ipynb' #Please update this to the name of the file you see on top right next to colab logo"
   ]
  },
  {
   "cell_type": "code",
   "execution_count": 34,
   "id": "28e07f22",
   "metadata": {},
   "outputs": [
    {
     "ename": "ModuleNotFoundError",
     "evalue": "No module named 'google'",
     "output_type": "error",
     "traceback": [
      "\u001b[1;31m---------------------------------------------------------------------------\u001b[0m",
      "\u001b[1;31mModuleNotFoundError\u001b[0m                       Traceback (most recent call last)",
      "Cell \u001b[1;32mIn[34], line 2\u001b[0m\n\u001b[0;32m      1\u001b[0m \u001b[38;5;28;01mimport\u001b[39;00m \u001b[38;5;21;01mos\u001b[39;00m\n\u001b[1;32m----> 2\u001b[0m \u001b[38;5;28;01mfrom\u001b[39;00m \u001b[38;5;21;01mgoogle\u001b[39;00m\u001b[38;5;21;01m.\u001b[39;00m\u001b[38;5;21;01mcolab\u001b[39;00m \u001b[38;5;28;01mimport\u001b[39;00m drive, files\n\u001b[0;32m      3\u001b[0m \u001b[38;5;28;01mimport\u001b[39;00m \u001b[38;5;21;01msubprocess\u001b[39;00m\n\u001b[0;32m      5\u001b[0m \u001b[38;5;28;01massert\u001b[39;00m DIR_FOR_COLAB_NOTEBOOK \u001b[38;5;129;01mis\u001b[39;00m \u001b[38;5;129;01mnot\u001b[39;00m \u001b[38;5;28;01mNone\u001b[39;00m, \u001b[38;5;124m\"\u001b[39m\u001b[38;5;124mPlease update the variable DIR_FOR_COLAB_NOTEBOOK to the correct directory\u001b[39m\u001b[38;5;124m\"\u001b[39m\n",
      "\u001b[1;31mModuleNotFoundError\u001b[0m: No module named 'google'"
     ]
    }
   ],
   "source": [
    "import os\n",
    "from google.colab import drive, files\n",
    "import subprocess\n",
    "\n",
    "assert DIR_FOR_COLAB_NOTEBOOK is not None, \"Please update the variable DIR_FOR_COLAB_NOTEBOOK to the correct directory\"\n",
    "assert NOTEBOOK_NAME is not None, \"Please update NOTEBOOK_NAME to correct notebook name\"\n",
    "\n",
    "print(\"\\n#Mounting google drive\\n\")\n",
    "drive.mount('/content/drive/')\n",
    "notebook_dir = os.path.join('/content/drive/MyDrive', DIR_FOR_COLAB_NOTEBOOK)\n",
    "os.chdir(notebook_dir)\n",
    "\n",
    "print(\"\\n#Installing Dependencies\\n\")\n",
    "print(\"Installing nbconvert...\", end=\"\")\n",
    "subprocess.run(f\"pip install nbconvert\", shell=True)\n",
    "print(\"Done\")\n",
    "print(\"Installing texlive and dependancies...\", end=\"\")\n",
    "subprocess.run(f\"apt-get install texlive texlive-xetex texlive-latex-extra pandoc\", shell=True)\n",
    "print(\"Done\")\n",
    "\n",
    "print(\"\\n#Converting to PDF\\n\")\n",
    "print(f\"Running the following command:\\njupyter nbconvert --to pdf {NOTEBOOK_NAME} --output {NOTEBOOK_NAME.replace('.ipynb', '.pdf')}\\n\")\n",
    "print(\"Started conversion...\", end=\"\")\n",
    "result = subprocess.run(f\"jupyter nbconvert --to pdf {NOTEBOOK_NAME} --output {NOTEBOOK_NAME.replace('.ipynb', '.pdf')}\", shell=True, stderr=subprocess.PIPE)\n",
    "print(\"Done\")\n",
    "print(\"\\n##Output of conversion:\\n\")\n",
    "print(result.stderr.decode())\n",
    "\n",
    "print(\"\\n#Downloading PDF file\\n\")\n",
    "files.download(NOTEBOOK_NAME.replace('.ipynb', '.pdf'))"
   ]
  }
 ],
 "metadata": {
  "kernelspec": {
   "display_name": "Python 3",
   "language": "python",
   "name": "python3"
  },
  "language_info": {
   "codemirror_mode": {
    "name": "ipython",
    "version": 3
   },
   "file_extension": ".py",
   "mimetype": "text/x-python",
   "name": "python",
   "nbconvert_exporter": "python",
   "pygments_lexer": "ipython3",
   "version": "3.12.1"
  },
  "vscode": {
   "interpreter": {
    "hash": "60268a3974607f958e98a9322dd45e6d52b600b97a1d9eef60ef15acbb670d09"
   }
  }
 },
 "nbformat": 4,
 "nbformat_minor": 5
}
